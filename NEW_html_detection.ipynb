{
  "cells": [
    {
      "cell_type": "markdown",
      "metadata": {
        "id": "JpFGR3HBMw00"
      },
      "source": [
        "# Classification"
      ]
    },
    {
      "cell_type": "markdown",
      "metadata": {
        "id": "cXFShK2wwJvG"
      },
      "source": [
        "importing libraries"
      ]
    },
    {
      "cell_type": "code",
      "execution_count": null,
      "metadata": {
        "colab": {
          "base_uri": "https://localhost:8080/"
        },
        "id": "eC8y0BXjNi-T",
        "outputId": "b8b89f02-792a-4a28-f3de-da347932e692"
      },
      "outputs": [
        {
          "output_type": "stream",
          "name": "stdout",
          "text": [
            "Mounted at /content/drive\n"
          ]
        }
      ],
      "source": [
        "from google.colab import drive\n",
        "drive.mount('/content/drive')"
      ]
    },
    {
      "cell_type": "code",
      "execution_count": null,
      "metadata": {
        "id": "-holaQha9JjS"
      },
      "outputs": [],
      "source": [
        "import pandas as pd\n",
        "import matplotlib.pyplot as plt\n",
        "import numpy as np\n",
        "from sklearn.model_selection import train_test_split\n",
        "from sklearn.preprocessing import StandardScaler"
      ]
    },
    {
      "cell_type": "code",
      "execution_count": null,
      "metadata": {
        "id": "5EI6pPOx-iTi"
      },
      "outputs": [],
      "source": [
        "from sklearn.metrics import accuracy_score, confusion_matrix, classification_report"
      ]
    },
    {
      "cell_type": "code",
      "execution_count": null,
      "metadata": {
        "colab": {
          "base_uri": "https://localhost:8080/"
        },
        "id": "KU9MuGIF-D_N",
        "outputId": "3e49835c-7542-4637-e4f4-25ff231f2f02"
      },
      "outputs": [
        {
          "output_type": "stream",
          "name": "stdout",
          "text": [
            "Collecting catboost\n",
            "  Downloading catboost-1.2.5-cp310-cp310-manylinux2014_x86_64.whl.metadata (1.2 kB)\n",
            "Requirement already satisfied: graphviz in /usr/local/lib/python3.10/dist-packages (from catboost) (0.20.3)\n",
            "Requirement already satisfied: matplotlib in /usr/local/lib/python3.10/dist-packages (from catboost) (3.7.1)\n",
            "Requirement already satisfied: numpy>=1.16.0 in /usr/local/lib/python3.10/dist-packages (from catboost) (1.26.4)\n",
            "Requirement already satisfied: pandas>=0.24 in /usr/local/lib/python3.10/dist-packages (from catboost) (2.1.4)\n",
            "Requirement already satisfied: scipy in /usr/local/lib/python3.10/dist-packages (from catboost) (1.13.1)\n",
            "Requirement already satisfied: plotly in /usr/local/lib/python3.10/dist-packages (from catboost) (5.15.0)\n",
            "Requirement already satisfied: six in /usr/local/lib/python3.10/dist-packages (from catboost) (1.16.0)\n",
            "Requirement already satisfied: python-dateutil>=2.8.2 in /usr/local/lib/python3.10/dist-packages (from pandas>=0.24->catboost) (2.8.2)\n",
            "Requirement already satisfied: pytz>=2020.1 in /usr/local/lib/python3.10/dist-packages (from pandas>=0.24->catboost) (2024.1)\n",
            "Requirement already satisfied: tzdata>=2022.1 in /usr/local/lib/python3.10/dist-packages (from pandas>=0.24->catboost) (2024.1)\n",
            "Requirement already satisfied: contourpy>=1.0.1 in /usr/local/lib/python3.10/dist-packages (from matplotlib->catboost) (1.2.1)\n",
            "Requirement already satisfied: cycler>=0.10 in /usr/local/lib/python3.10/dist-packages (from matplotlib->catboost) (0.12.1)\n",
            "Requirement already satisfied: fonttools>=4.22.0 in /usr/local/lib/python3.10/dist-packages (from matplotlib->catboost) (4.53.1)\n",
            "Requirement already satisfied: kiwisolver>=1.0.1 in /usr/local/lib/python3.10/dist-packages (from matplotlib->catboost) (1.4.5)\n",
            "Requirement already satisfied: packaging>=20.0 in /usr/local/lib/python3.10/dist-packages (from matplotlib->catboost) (24.1)\n",
            "Requirement already satisfied: pillow>=6.2.0 in /usr/local/lib/python3.10/dist-packages (from matplotlib->catboost) (9.4.0)\n",
            "Requirement already satisfied: pyparsing>=2.3.1 in /usr/local/lib/python3.10/dist-packages (from matplotlib->catboost) (3.1.2)\n",
            "Requirement already satisfied: tenacity>=6.2.0 in /usr/local/lib/python3.10/dist-packages (from plotly->catboost) (9.0.0)\n",
            "Downloading catboost-1.2.5-cp310-cp310-manylinux2014_x86_64.whl (98.2 MB)\n",
            "\u001b[2K   \u001b[90m━━━━━━━━━━━━━━━━━━━━━━━━━━━━━━━━━━━━━━━━\u001b[0m \u001b[32m98.2/98.2 MB\u001b[0m \u001b[31m7.8 MB/s\u001b[0m eta \u001b[36m0:00:00\u001b[0m\n",
            "\u001b[?25hInstalling collected packages: catboost\n",
            "Successfully installed catboost-1.2.5\n"
          ]
        }
      ],
      "source": [
        "!pip install catboost"
      ]
    },
    {
      "cell_type": "code",
      "execution_count": null,
      "metadata": {
        "colab": {
          "base_uri": "https://localhost:8080/"
        },
        "id": "JiTa3Dl7-lhi",
        "outputId": "dfffb022-9fbc-4830-b49e-da3601deacc1"
      },
      "outputs": [
        {
          "output_type": "stream",
          "name": "stderr",
          "text": [
            "/usr/local/lib/python3.10/dist-packages/dask/dataframe/__init__.py:42: FutureWarning: \n",
            "Dask dataframe query planning is disabled because dask-expr is not installed.\n",
            "\n",
            "You can install it with `pip install dask[dataframe]` or `conda install dask`.\n",
            "This will raise in a future version.\n",
            "\n",
            "  warnings.warn(msg, FutureWarning)\n"
          ]
        }
      ],
      "source": [
        "from sklearn.ensemble import RandomForestClassifier\n",
        "from sklearn.svm import SVC\n",
        "import xgboost as xgb\n",
        "from catboost import CatBoostClassifier\n",
        "import lightgbm as lgb\n",
        "from sklearn.ensemble import GradientBoostingClassifier\n",
        "from sklearn.linear_model import LogisticRegression\n",
        "from sklearn.neighbors import KNeighborsClassifier"
      ]
    },
    {
      "cell_type": "code",
      "execution_count": null,
      "metadata": {
        "colab": {
          "base_uri": "https://localhost:8080/"
        },
        "id": "_SBIU4b3PEzp",
        "outputId": "7782f730-4cd6-476e-e52d-1016fc66565b"
      },
      "outputs": [
        {
          "output_type": "stream",
          "name": "stdout",
          "text": [
            "Requirement already satisfied: tensorflow in /usr/local/lib/python3.10/dist-packages (2.17.0)\n",
            "Requirement already satisfied: absl-py>=1.0.0 in /usr/local/lib/python3.10/dist-packages (from tensorflow) (1.4.0)\n",
            "Requirement already satisfied: astunparse>=1.6.0 in /usr/local/lib/python3.10/dist-packages (from tensorflow) (1.6.3)\n",
            "Requirement already satisfied: flatbuffers>=24.3.25 in /usr/local/lib/python3.10/dist-packages (from tensorflow) (24.3.25)\n",
            "Requirement already satisfied: gast!=0.5.0,!=0.5.1,!=0.5.2,>=0.2.1 in /usr/local/lib/python3.10/dist-packages (from tensorflow) (0.6.0)\n",
            "Requirement already satisfied: google-pasta>=0.1.1 in /usr/local/lib/python3.10/dist-packages (from tensorflow) (0.2.0)\n",
            "Requirement already satisfied: h5py>=3.10.0 in /usr/local/lib/python3.10/dist-packages (from tensorflow) (3.11.0)\n",
            "Requirement already satisfied: libclang>=13.0.0 in /usr/local/lib/python3.10/dist-packages (from tensorflow) (18.1.1)\n",
            "Requirement already satisfied: ml-dtypes<0.5.0,>=0.3.1 in /usr/local/lib/python3.10/dist-packages (from tensorflow) (0.4.0)\n",
            "Requirement already satisfied: opt-einsum>=2.3.2 in /usr/local/lib/python3.10/dist-packages (from tensorflow) (3.3.0)\n",
            "Requirement already satisfied: packaging in /usr/local/lib/python3.10/dist-packages (from tensorflow) (24.1)\n",
            "Requirement already satisfied: protobuf!=4.21.0,!=4.21.1,!=4.21.2,!=4.21.3,!=4.21.4,!=4.21.5,<5.0.0dev,>=3.20.3 in /usr/local/lib/python3.10/dist-packages (from tensorflow) (3.20.3)\n",
            "Requirement already satisfied: requests<3,>=2.21.0 in /usr/local/lib/python3.10/dist-packages (from tensorflow) (2.32.3)\n",
            "Requirement already satisfied: setuptools in /usr/local/lib/python3.10/dist-packages (from tensorflow) (71.0.4)\n",
            "Requirement already satisfied: six>=1.12.0 in /usr/local/lib/python3.10/dist-packages (from tensorflow) (1.16.0)\n",
            "Requirement already satisfied: termcolor>=1.1.0 in /usr/local/lib/python3.10/dist-packages (from tensorflow) (2.4.0)\n",
            "Requirement already satisfied: typing-extensions>=3.6.6 in /usr/local/lib/python3.10/dist-packages (from tensorflow) (4.12.2)\n",
            "Requirement already satisfied: wrapt>=1.11.0 in /usr/local/lib/python3.10/dist-packages (from tensorflow) (1.16.0)\n",
            "Requirement already satisfied: grpcio<2.0,>=1.24.3 in /usr/local/lib/python3.10/dist-packages (from tensorflow) (1.64.1)\n",
            "Requirement already satisfied: tensorboard<2.18,>=2.17 in /usr/local/lib/python3.10/dist-packages (from tensorflow) (2.17.0)\n",
            "Requirement already satisfied: keras>=3.2.0 in /usr/local/lib/python3.10/dist-packages (from tensorflow) (3.4.1)\n",
            "Requirement already satisfied: tensorflow-io-gcs-filesystem>=0.23.1 in /usr/local/lib/python3.10/dist-packages (from tensorflow) (0.37.1)\n",
            "Requirement already satisfied: numpy<2.0.0,>=1.23.5 in /usr/local/lib/python3.10/dist-packages (from tensorflow) (1.26.4)\n",
            "Requirement already satisfied: wheel<1.0,>=0.23.0 in /usr/local/lib/python3.10/dist-packages (from astunparse>=1.6.0->tensorflow) (0.44.0)\n",
            "Requirement already satisfied: rich in /usr/local/lib/python3.10/dist-packages (from keras>=3.2.0->tensorflow) (13.7.1)\n",
            "Requirement already satisfied: namex in /usr/local/lib/python3.10/dist-packages (from keras>=3.2.0->tensorflow) (0.0.8)\n",
            "Requirement already satisfied: optree in /usr/local/lib/python3.10/dist-packages (from keras>=3.2.0->tensorflow) (0.12.1)\n",
            "Requirement already satisfied: charset-normalizer<4,>=2 in /usr/local/lib/python3.10/dist-packages (from requests<3,>=2.21.0->tensorflow) (3.3.2)\n",
            "Requirement already satisfied: idna<4,>=2.5 in /usr/local/lib/python3.10/dist-packages (from requests<3,>=2.21.0->tensorflow) (3.7)\n",
            "Requirement already satisfied: urllib3<3,>=1.21.1 in /usr/local/lib/python3.10/dist-packages (from requests<3,>=2.21.0->tensorflow) (2.0.7)\n",
            "Requirement already satisfied: certifi>=2017.4.17 in /usr/local/lib/python3.10/dist-packages (from requests<3,>=2.21.0->tensorflow) (2024.7.4)\n",
            "Requirement already satisfied: markdown>=2.6.8 in /usr/local/lib/python3.10/dist-packages (from tensorboard<2.18,>=2.17->tensorflow) (3.6)\n",
            "Requirement already satisfied: tensorboard-data-server<0.8.0,>=0.7.0 in /usr/local/lib/python3.10/dist-packages (from tensorboard<2.18,>=2.17->tensorflow) (0.7.2)\n",
            "Requirement already satisfied: werkzeug>=1.0.1 in /usr/local/lib/python3.10/dist-packages (from tensorboard<2.18,>=2.17->tensorflow) (3.0.3)\n",
            "Requirement already satisfied: MarkupSafe>=2.1.1 in /usr/local/lib/python3.10/dist-packages (from werkzeug>=1.0.1->tensorboard<2.18,>=2.17->tensorflow) (2.1.5)\n",
            "Requirement already satisfied: markdown-it-py>=2.2.0 in /usr/local/lib/python3.10/dist-packages (from rich->keras>=3.2.0->tensorflow) (3.0.0)\n",
            "Requirement already satisfied: pygments<3.0.0,>=2.13.0 in /usr/local/lib/python3.10/dist-packages (from rich->keras>=3.2.0->tensorflow) (2.16.1)\n",
            "Requirement already satisfied: mdurl~=0.1 in /usr/local/lib/python3.10/dist-packages (from markdown-it-py>=2.2.0->rich->keras>=3.2.0->tensorflow) (0.1.2)\n"
          ]
        }
      ],
      "source": [
        "!pip install tensorflow"
      ]
    },
    {
      "cell_type": "code",
      "execution_count": null,
      "metadata": {
        "id": "X08npR8v-nt4"
      },
      "outputs": [],
      "source": [
        "import tensorflow as tf\n",
        "from tensorflow.keras.models import Sequential\n",
        "from tensorflow.keras.layers import Dense"
      ]
    },
    {
      "cell_type": "markdown",
      "metadata": {
        "id": "8jaSU-1xwOky"
      },
      "source": [
        "## merging datasets"
      ]
    },
    {
      "cell_type": "code",
      "execution_count": null,
      "metadata": {
        "colab": {
          "base_uri": "https://localhost:8080/"
        },
        "id": "-Pd01ZznLb5T",
        "outputId": "33fe5e5d-7bdf-427a-bdfe-41503e4c2e6f"
      },
      "outputs": [
        {
          "output_type": "stream",
          "name": "stdout",
          "text": [
            "(6016, 32)\n"
          ]
        }
      ],
      "source": [
        "data = pd.read_csv(\"/content/drive/MyDrive/VJTI /dataset/dataset/htmlDataset_withoutFilename.csv\")\n",
        "data.head()\n",
        "print(data.shape)"
      ]
    },
    {
      "cell_type": "code",
      "execution_count": null,
      "metadata": {
        "colab": {
          "base_uri": "https://localhost:8080/",
          "height": 255
        },
        "id": "47GnsaUHPYvu",
        "outputId": "94c4f560-f4dd-4fa6-a2bf-f311f31e8575"
      },
      "outputs": [
        {
          "output_type": "execute_result",
          "data": {
            "text/plain": [
              "   url_length  num_dots_in_url  num_special_chars  num_subdomains  num_forms  \\\n",
              "0        7032               12                 52              11          0   \n",
              "1       23676              205               1192             204          0   \n",
              "2      154373              935               5468             934          1   \n",
              "3       44520              721               1657             720          1   \n",
              "4       18307              322                760             321          0   \n",
              "\n",
              "   num_inputs  num_password_fields  num_external_links  num_internal_links  \\\n",
              "0           0                    0                   2                   0   \n",
              "1           2                    0                   3                  65   \n",
              "2          11                    0                  29                 316   \n",
              "3           4                    0                   7                  55   \n",
              "4           1                    0                  37                   0   \n",
              "\n",
              "   num_hidden_fields  ...  num_iframes  num_hidden_iframes  num_images  \\\n",
              "0                  0  ...            0                   0           1   \n",
              "1                  0  ...            0                   0          28   \n",
              "2                  7  ...            2                   0         107   \n",
              "3                  3  ...            0                   0          30   \n",
              "4                  0  ...            1                   0          36   \n",
              "\n",
              "   num_images_with_suspicious_url  num_style_tags  num_inline_styles  \\\n",
              "0                               0               1                  4   \n",
              "1                               1               0                 40   \n",
              "2                               1               1                 39   \n",
              "3                               1               2                 18   \n",
              "4                               1               0                  8   \n",
              "\n",
              "   num_onload_attributes  num_onerror_attributes  num_external_form_actions  \\\n",
              "0                      0                       0                          0   \n",
              "1                      0                       0                          0   \n",
              "2                      0                       0                          0   \n",
              "3                      0                       0                          0   \n",
              "4                      0                       0                          0   \n",
              "\n",
              "   label  \n",
              "0      0  \n",
              "1      0  \n",
              "2      0  \n",
              "3      0  \n",
              "4      0  \n",
              "\n",
              "[5 rows x 32 columns]"
            ],
            "text/html": [
              "\n",
              "  <div id=\"df-74ec888c-e9c5-4741-a128-529b468a2d18\" class=\"colab-df-container\">\n",
              "    <div>\n",
              "<style scoped>\n",
              "    .dataframe tbody tr th:only-of-type {\n",
              "        vertical-align: middle;\n",
              "    }\n",
              "\n",
              "    .dataframe tbody tr th {\n",
              "        vertical-align: top;\n",
              "    }\n",
              "\n",
              "    .dataframe thead th {\n",
              "        text-align: right;\n",
              "    }\n",
              "</style>\n",
              "<table border=\"1\" class=\"dataframe\">\n",
              "  <thead>\n",
              "    <tr style=\"text-align: right;\">\n",
              "      <th></th>\n",
              "      <th>url_length</th>\n",
              "      <th>num_dots_in_url</th>\n",
              "      <th>num_special_chars</th>\n",
              "      <th>num_subdomains</th>\n",
              "      <th>num_forms</th>\n",
              "      <th>num_inputs</th>\n",
              "      <th>num_password_fields</th>\n",
              "      <th>num_external_links</th>\n",
              "      <th>num_internal_links</th>\n",
              "      <th>num_hidden_fields</th>\n",
              "      <th>...</th>\n",
              "      <th>num_iframes</th>\n",
              "      <th>num_hidden_iframes</th>\n",
              "      <th>num_images</th>\n",
              "      <th>num_images_with_suspicious_url</th>\n",
              "      <th>num_style_tags</th>\n",
              "      <th>num_inline_styles</th>\n",
              "      <th>num_onload_attributes</th>\n",
              "      <th>num_onerror_attributes</th>\n",
              "      <th>num_external_form_actions</th>\n",
              "      <th>label</th>\n",
              "    </tr>\n",
              "  </thead>\n",
              "  <tbody>\n",
              "    <tr>\n",
              "      <th>0</th>\n",
              "      <td>7032</td>\n",
              "      <td>12</td>\n",
              "      <td>52</td>\n",
              "      <td>11</td>\n",
              "      <td>0</td>\n",
              "      <td>0</td>\n",
              "      <td>0</td>\n",
              "      <td>2</td>\n",
              "      <td>0</td>\n",
              "      <td>0</td>\n",
              "      <td>...</td>\n",
              "      <td>0</td>\n",
              "      <td>0</td>\n",
              "      <td>1</td>\n",
              "      <td>0</td>\n",
              "      <td>1</td>\n",
              "      <td>4</td>\n",
              "      <td>0</td>\n",
              "      <td>0</td>\n",
              "      <td>0</td>\n",
              "      <td>0</td>\n",
              "    </tr>\n",
              "    <tr>\n",
              "      <th>1</th>\n",
              "      <td>23676</td>\n",
              "      <td>205</td>\n",
              "      <td>1192</td>\n",
              "      <td>204</td>\n",
              "      <td>0</td>\n",
              "      <td>2</td>\n",
              "      <td>0</td>\n",
              "      <td>3</td>\n",
              "      <td>65</td>\n",
              "      <td>0</td>\n",
              "      <td>...</td>\n",
              "      <td>0</td>\n",
              "      <td>0</td>\n",
              "      <td>28</td>\n",
              "      <td>1</td>\n",
              "      <td>0</td>\n",
              "      <td>40</td>\n",
              "      <td>0</td>\n",
              "      <td>0</td>\n",
              "      <td>0</td>\n",
              "      <td>0</td>\n",
              "    </tr>\n",
              "    <tr>\n",
              "      <th>2</th>\n",
              "      <td>154373</td>\n",
              "      <td>935</td>\n",
              "      <td>5468</td>\n",
              "      <td>934</td>\n",
              "      <td>1</td>\n",
              "      <td>11</td>\n",
              "      <td>0</td>\n",
              "      <td>29</td>\n",
              "      <td>316</td>\n",
              "      <td>7</td>\n",
              "      <td>...</td>\n",
              "      <td>2</td>\n",
              "      <td>0</td>\n",
              "      <td>107</td>\n",
              "      <td>1</td>\n",
              "      <td>1</td>\n",
              "      <td>39</td>\n",
              "      <td>0</td>\n",
              "      <td>0</td>\n",
              "      <td>0</td>\n",
              "      <td>0</td>\n",
              "    </tr>\n",
              "    <tr>\n",
              "      <th>3</th>\n",
              "      <td>44520</td>\n",
              "      <td>721</td>\n",
              "      <td>1657</td>\n",
              "      <td>720</td>\n",
              "      <td>1</td>\n",
              "      <td>4</td>\n",
              "      <td>0</td>\n",
              "      <td>7</td>\n",
              "      <td>55</td>\n",
              "      <td>3</td>\n",
              "      <td>...</td>\n",
              "      <td>0</td>\n",
              "      <td>0</td>\n",
              "      <td>30</td>\n",
              "      <td>1</td>\n",
              "      <td>2</td>\n",
              "      <td>18</td>\n",
              "      <td>0</td>\n",
              "      <td>0</td>\n",
              "      <td>0</td>\n",
              "      <td>0</td>\n",
              "    </tr>\n",
              "    <tr>\n",
              "      <th>4</th>\n",
              "      <td>18307</td>\n",
              "      <td>322</td>\n",
              "      <td>760</td>\n",
              "      <td>321</td>\n",
              "      <td>0</td>\n",
              "      <td>1</td>\n",
              "      <td>0</td>\n",
              "      <td>37</td>\n",
              "      <td>0</td>\n",
              "      <td>0</td>\n",
              "      <td>...</td>\n",
              "      <td>1</td>\n",
              "      <td>0</td>\n",
              "      <td>36</td>\n",
              "      <td>1</td>\n",
              "      <td>0</td>\n",
              "      <td>8</td>\n",
              "      <td>0</td>\n",
              "      <td>0</td>\n",
              "      <td>0</td>\n",
              "      <td>0</td>\n",
              "    </tr>\n",
              "  </tbody>\n",
              "</table>\n",
              "<p>5 rows × 32 columns</p>\n",
              "</div>\n",
              "    <div class=\"colab-df-buttons\">\n",
              "\n",
              "  <div class=\"colab-df-container\">\n",
              "    <button class=\"colab-df-convert\" onclick=\"convertToInteractive('df-74ec888c-e9c5-4741-a128-529b468a2d18')\"\n",
              "            title=\"Convert this dataframe to an interactive table.\"\n",
              "            style=\"display:none;\">\n",
              "\n",
              "  <svg xmlns=\"http://www.w3.org/2000/svg\" height=\"24px\" viewBox=\"0 -960 960 960\">\n",
              "    <path d=\"M120-120v-720h720v720H120Zm60-500h600v-160H180v160Zm220 220h160v-160H400v160Zm0 220h160v-160H400v160ZM180-400h160v-160H180v160Zm440 0h160v-160H620v160ZM180-180h160v-160H180v160Zm440 0h160v-160H620v160Z\"/>\n",
              "  </svg>\n",
              "    </button>\n",
              "\n",
              "  <style>\n",
              "    .colab-df-container {\n",
              "      display:flex;\n",
              "      gap: 12px;\n",
              "    }\n",
              "\n",
              "    .colab-df-convert {\n",
              "      background-color: #E8F0FE;\n",
              "      border: none;\n",
              "      border-radius: 50%;\n",
              "      cursor: pointer;\n",
              "      display: none;\n",
              "      fill: #1967D2;\n",
              "      height: 32px;\n",
              "      padding: 0 0 0 0;\n",
              "      width: 32px;\n",
              "    }\n",
              "\n",
              "    .colab-df-convert:hover {\n",
              "      background-color: #E2EBFA;\n",
              "      box-shadow: 0px 1px 2px rgba(60, 64, 67, 0.3), 0px 1px 3px 1px rgba(60, 64, 67, 0.15);\n",
              "      fill: #174EA6;\n",
              "    }\n",
              "\n",
              "    .colab-df-buttons div {\n",
              "      margin-bottom: 4px;\n",
              "    }\n",
              "\n",
              "    [theme=dark] .colab-df-convert {\n",
              "      background-color: #3B4455;\n",
              "      fill: #D2E3FC;\n",
              "    }\n",
              "\n",
              "    [theme=dark] .colab-df-convert:hover {\n",
              "      background-color: #434B5C;\n",
              "      box-shadow: 0px 1px 3px 1px rgba(0, 0, 0, 0.15);\n",
              "      filter: drop-shadow(0px 1px 2px rgba(0, 0, 0, 0.3));\n",
              "      fill: #FFFFFF;\n",
              "    }\n",
              "  </style>\n",
              "\n",
              "    <script>\n",
              "      const buttonEl =\n",
              "        document.querySelector('#df-74ec888c-e9c5-4741-a128-529b468a2d18 button.colab-df-convert');\n",
              "      buttonEl.style.display =\n",
              "        google.colab.kernel.accessAllowed ? 'block' : 'none';\n",
              "\n",
              "      async function convertToInteractive(key) {\n",
              "        const element = document.querySelector('#df-74ec888c-e9c5-4741-a128-529b468a2d18');\n",
              "        const dataTable =\n",
              "          await google.colab.kernel.invokeFunction('convertToInteractive',\n",
              "                                                    [key], {});\n",
              "        if (!dataTable) return;\n",
              "\n",
              "        const docLinkHtml = 'Like what you see? Visit the ' +\n",
              "          '<a target=\"_blank\" href=https://colab.research.google.com/notebooks/data_table.ipynb>data table notebook</a>'\n",
              "          + ' to learn more about interactive tables.';\n",
              "        element.innerHTML = '';\n",
              "        dataTable['output_type'] = 'display_data';\n",
              "        await google.colab.output.renderOutput(dataTable, element);\n",
              "        const docLink = document.createElement('div');\n",
              "        docLink.innerHTML = docLinkHtml;\n",
              "        element.appendChild(docLink);\n",
              "      }\n",
              "    </script>\n",
              "  </div>\n",
              "\n",
              "\n",
              "<div id=\"df-8d24e227-bc10-40c8-bbb5-c61e35344ac8\">\n",
              "  <button class=\"colab-df-quickchart\" onclick=\"quickchart('df-8d24e227-bc10-40c8-bbb5-c61e35344ac8')\"\n",
              "            title=\"Suggest charts\"\n",
              "            style=\"display:none;\">\n",
              "\n",
              "<svg xmlns=\"http://www.w3.org/2000/svg\" height=\"24px\"viewBox=\"0 0 24 24\"\n",
              "     width=\"24px\">\n",
              "    <g>\n",
              "        <path d=\"M19 3H5c-1.1 0-2 .9-2 2v14c0 1.1.9 2 2 2h14c1.1 0 2-.9 2-2V5c0-1.1-.9-2-2-2zM9 17H7v-7h2v7zm4 0h-2V7h2v10zm4 0h-2v-4h2v4z\"/>\n",
              "    </g>\n",
              "</svg>\n",
              "  </button>\n",
              "\n",
              "<style>\n",
              "  .colab-df-quickchart {\n",
              "      --bg-color: #E8F0FE;\n",
              "      --fill-color: #1967D2;\n",
              "      --hover-bg-color: #E2EBFA;\n",
              "      --hover-fill-color: #174EA6;\n",
              "      --disabled-fill-color: #AAA;\n",
              "      --disabled-bg-color: #DDD;\n",
              "  }\n",
              "\n",
              "  [theme=dark] .colab-df-quickchart {\n",
              "      --bg-color: #3B4455;\n",
              "      --fill-color: #D2E3FC;\n",
              "      --hover-bg-color: #434B5C;\n",
              "      --hover-fill-color: #FFFFFF;\n",
              "      --disabled-bg-color: #3B4455;\n",
              "      --disabled-fill-color: #666;\n",
              "  }\n",
              "\n",
              "  .colab-df-quickchart {\n",
              "    background-color: var(--bg-color);\n",
              "    border: none;\n",
              "    border-radius: 50%;\n",
              "    cursor: pointer;\n",
              "    display: none;\n",
              "    fill: var(--fill-color);\n",
              "    height: 32px;\n",
              "    padding: 0;\n",
              "    width: 32px;\n",
              "  }\n",
              "\n",
              "  .colab-df-quickchart:hover {\n",
              "    background-color: var(--hover-bg-color);\n",
              "    box-shadow: 0 1px 2px rgba(60, 64, 67, 0.3), 0 1px 3px 1px rgba(60, 64, 67, 0.15);\n",
              "    fill: var(--button-hover-fill-color);\n",
              "  }\n",
              "\n",
              "  .colab-df-quickchart-complete:disabled,\n",
              "  .colab-df-quickchart-complete:disabled:hover {\n",
              "    background-color: var(--disabled-bg-color);\n",
              "    fill: var(--disabled-fill-color);\n",
              "    box-shadow: none;\n",
              "  }\n",
              "\n",
              "  .colab-df-spinner {\n",
              "    border: 2px solid var(--fill-color);\n",
              "    border-color: transparent;\n",
              "    border-bottom-color: var(--fill-color);\n",
              "    animation:\n",
              "      spin 1s steps(1) infinite;\n",
              "  }\n",
              "\n",
              "  @keyframes spin {\n",
              "    0% {\n",
              "      border-color: transparent;\n",
              "      border-bottom-color: var(--fill-color);\n",
              "      border-left-color: var(--fill-color);\n",
              "    }\n",
              "    20% {\n",
              "      border-color: transparent;\n",
              "      border-left-color: var(--fill-color);\n",
              "      border-top-color: var(--fill-color);\n",
              "    }\n",
              "    30% {\n",
              "      border-color: transparent;\n",
              "      border-left-color: var(--fill-color);\n",
              "      border-top-color: var(--fill-color);\n",
              "      border-right-color: var(--fill-color);\n",
              "    }\n",
              "    40% {\n",
              "      border-color: transparent;\n",
              "      border-right-color: var(--fill-color);\n",
              "      border-top-color: var(--fill-color);\n",
              "    }\n",
              "    60% {\n",
              "      border-color: transparent;\n",
              "      border-right-color: var(--fill-color);\n",
              "    }\n",
              "    80% {\n",
              "      border-color: transparent;\n",
              "      border-right-color: var(--fill-color);\n",
              "      border-bottom-color: var(--fill-color);\n",
              "    }\n",
              "    90% {\n",
              "      border-color: transparent;\n",
              "      border-bottom-color: var(--fill-color);\n",
              "    }\n",
              "  }\n",
              "</style>\n",
              "\n",
              "  <script>\n",
              "    async function quickchart(key) {\n",
              "      const quickchartButtonEl =\n",
              "        document.querySelector('#' + key + ' button');\n",
              "      quickchartButtonEl.disabled = true;  // To prevent multiple clicks.\n",
              "      quickchartButtonEl.classList.add('colab-df-spinner');\n",
              "      try {\n",
              "        const charts = await google.colab.kernel.invokeFunction(\n",
              "            'suggestCharts', [key], {});\n",
              "      } catch (error) {\n",
              "        console.error('Error during call to suggestCharts:', error);\n",
              "      }\n",
              "      quickchartButtonEl.classList.remove('colab-df-spinner');\n",
              "      quickchartButtonEl.classList.add('colab-df-quickchart-complete');\n",
              "    }\n",
              "    (() => {\n",
              "      let quickchartButtonEl =\n",
              "        document.querySelector('#df-8d24e227-bc10-40c8-bbb5-c61e35344ac8 button');\n",
              "      quickchartButtonEl.style.display =\n",
              "        google.colab.kernel.accessAllowed ? 'block' : 'none';\n",
              "    })();\n",
              "  </script>\n",
              "</div>\n",
              "\n",
              "    </div>\n",
              "  </div>\n"
            ],
            "application/vnd.google.colaboratory.intrinsic+json": {
              "type": "dataframe",
              "variable_name": "data"
            }
          },
          "metadata": {},
          "execution_count": 13
        }
      ],
      "source": [
        "data.head()"
      ]
    },
    {
      "cell_type": "code",
      "execution_count": null,
      "metadata": {
        "colab": {
          "base_uri": "https://localhost:8080/",
          "height": 1000
        },
        "id": "K7JVVpNhPUcM",
        "outputId": "abb59dd8-8951-42ea-f323-b07d0054cc74"
      },
      "outputs": [
        {
          "output_type": "execute_result",
          "data": {
            "text/plain": [
              "url_length                        0\n",
              "num_dots_in_url                   0\n",
              "num_special_chars                 0\n",
              "num_subdomains                    0\n",
              "num_forms                         0\n",
              "num_inputs                        0\n",
              "num_password_fields               0\n",
              "num_external_links                0\n",
              "num_internal_links                0\n",
              "num_hidden_fields                 0\n",
              "num_mailto_links                  0\n",
              "num_scripts                       0\n",
              "num_js_functions                  0\n",
              "has_eval_js                       0\n",
              "has_escape_js                     0\n",
              "has_unescape_js                   0\n",
              "has_settimeout_js                 0\n",
              "has_setinterval_js                0\n",
              "has_https                         0\n",
              "suspicious_url                    0\n",
              "num_meta_tags                     0\n",
              "num_refresh_meta                  0\n",
              "num_iframes                       0\n",
              "num_hidden_iframes                0\n",
              "num_images                        0\n",
              "num_images_with_suspicious_url    0\n",
              "num_style_tags                    0\n",
              "num_inline_styles                 0\n",
              "num_onload_attributes             0\n",
              "num_onerror_attributes            0\n",
              "num_external_form_actions         0\n",
              "label                             0\n",
              "dtype: int64"
            ],
            "text/html": [
              "<div>\n",
              "<style scoped>\n",
              "    .dataframe tbody tr th:only-of-type {\n",
              "        vertical-align: middle;\n",
              "    }\n",
              "\n",
              "    .dataframe tbody tr th {\n",
              "        vertical-align: top;\n",
              "    }\n",
              "\n",
              "    .dataframe thead th {\n",
              "        text-align: right;\n",
              "    }\n",
              "</style>\n",
              "<table border=\"1\" class=\"dataframe\">\n",
              "  <thead>\n",
              "    <tr style=\"text-align: right;\">\n",
              "      <th></th>\n",
              "      <th>0</th>\n",
              "    </tr>\n",
              "  </thead>\n",
              "  <tbody>\n",
              "    <tr>\n",
              "      <th>url_length</th>\n",
              "      <td>0</td>\n",
              "    </tr>\n",
              "    <tr>\n",
              "      <th>num_dots_in_url</th>\n",
              "      <td>0</td>\n",
              "    </tr>\n",
              "    <tr>\n",
              "      <th>num_special_chars</th>\n",
              "      <td>0</td>\n",
              "    </tr>\n",
              "    <tr>\n",
              "      <th>num_subdomains</th>\n",
              "      <td>0</td>\n",
              "    </tr>\n",
              "    <tr>\n",
              "      <th>num_forms</th>\n",
              "      <td>0</td>\n",
              "    </tr>\n",
              "    <tr>\n",
              "      <th>num_inputs</th>\n",
              "      <td>0</td>\n",
              "    </tr>\n",
              "    <tr>\n",
              "      <th>num_password_fields</th>\n",
              "      <td>0</td>\n",
              "    </tr>\n",
              "    <tr>\n",
              "      <th>num_external_links</th>\n",
              "      <td>0</td>\n",
              "    </tr>\n",
              "    <tr>\n",
              "      <th>num_internal_links</th>\n",
              "      <td>0</td>\n",
              "    </tr>\n",
              "    <tr>\n",
              "      <th>num_hidden_fields</th>\n",
              "      <td>0</td>\n",
              "    </tr>\n",
              "    <tr>\n",
              "      <th>num_mailto_links</th>\n",
              "      <td>0</td>\n",
              "    </tr>\n",
              "    <tr>\n",
              "      <th>num_scripts</th>\n",
              "      <td>0</td>\n",
              "    </tr>\n",
              "    <tr>\n",
              "      <th>num_js_functions</th>\n",
              "      <td>0</td>\n",
              "    </tr>\n",
              "    <tr>\n",
              "      <th>has_eval_js</th>\n",
              "      <td>0</td>\n",
              "    </tr>\n",
              "    <tr>\n",
              "      <th>has_escape_js</th>\n",
              "      <td>0</td>\n",
              "    </tr>\n",
              "    <tr>\n",
              "      <th>has_unescape_js</th>\n",
              "      <td>0</td>\n",
              "    </tr>\n",
              "    <tr>\n",
              "      <th>has_settimeout_js</th>\n",
              "      <td>0</td>\n",
              "    </tr>\n",
              "    <tr>\n",
              "      <th>has_setinterval_js</th>\n",
              "      <td>0</td>\n",
              "    </tr>\n",
              "    <tr>\n",
              "      <th>has_https</th>\n",
              "      <td>0</td>\n",
              "    </tr>\n",
              "    <tr>\n",
              "      <th>suspicious_url</th>\n",
              "      <td>0</td>\n",
              "    </tr>\n",
              "    <tr>\n",
              "      <th>num_meta_tags</th>\n",
              "      <td>0</td>\n",
              "    </tr>\n",
              "    <tr>\n",
              "      <th>num_refresh_meta</th>\n",
              "      <td>0</td>\n",
              "    </tr>\n",
              "    <tr>\n",
              "      <th>num_iframes</th>\n",
              "      <td>0</td>\n",
              "    </tr>\n",
              "    <tr>\n",
              "      <th>num_hidden_iframes</th>\n",
              "      <td>0</td>\n",
              "    </tr>\n",
              "    <tr>\n",
              "      <th>num_images</th>\n",
              "      <td>0</td>\n",
              "    </tr>\n",
              "    <tr>\n",
              "      <th>num_images_with_suspicious_url</th>\n",
              "      <td>0</td>\n",
              "    </tr>\n",
              "    <tr>\n",
              "      <th>num_style_tags</th>\n",
              "      <td>0</td>\n",
              "    </tr>\n",
              "    <tr>\n",
              "      <th>num_inline_styles</th>\n",
              "      <td>0</td>\n",
              "    </tr>\n",
              "    <tr>\n",
              "      <th>num_onload_attributes</th>\n",
              "      <td>0</td>\n",
              "    </tr>\n",
              "    <tr>\n",
              "      <th>num_onerror_attributes</th>\n",
              "      <td>0</td>\n",
              "    </tr>\n",
              "    <tr>\n",
              "      <th>num_external_form_actions</th>\n",
              "      <td>0</td>\n",
              "    </tr>\n",
              "    <tr>\n",
              "      <th>label</th>\n",
              "      <td>0</td>\n",
              "    </tr>\n",
              "  </tbody>\n",
              "</table>\n",
              "</div><br><label><b>dtype:</b> int64</label>"
            ]
          },
          "metadata": {},
          "execution_count": 14
        }
      ],
      "source": [
        "data.isnull().sum()"
      ]
    },
    {
      "cell_type": "code",
      "execution_count": null,
      "metadata": {
        "colab": {
          "base_uri": "https://localhost:8080/",
          "height": 255
        },
        "id": "XrCWqob0Phwi",
        "outputId": "1f6037b1-76d8-43b4-bdcc-14772ab2235a"
      },
      "outputs": [
        {
          "output_type": "execute_result",
          "data": {
            "text/plain": [
              "   url_length  num_dots_in_url  num_special_chars  num_subdomains  num_forms  \\\n",
              "0        7032               12                 52              11          0   \n",
              "1       23676              205               1192             204          0   \n",
              "2      154373              935               5468             934          1   \n",
              "3       44520              721               1657             720          1   \n",
              "4       18307              322                760             321          0   \n",
              "\n",
              "   num_inputs  num_password_fields  num_external_links  num_internal_links  \\\n",
              "0           0                    0                   2                   0   \n",
              "1           2                    0                   3                  65   \n",
              "2          11                    0                  29                 316   \n",
              "3           4                    0                   7                  55   \n",
              "4           1                    0                  37                   0   \n",
              "\n",
              "   num_hidden_fields  ...  num_iframes  num_hidden_iframes  num_images  \\\n",
              "0                  0  ...            0                   0           1   \n",
              "1                  0  ...            0                   0          28   \n",
              "2                  7  ...            2                   0         107   \n",
              "3                  3  ...            0                   0          30   \n",
              "4                  0  ...            1                   0          36   \n",
              "\n",
              "   num_images_with_suspicious_url  num_style_tags  num_inline_styles  \\\n",
              "0                               0               1                  4   \n",
              "1                               1               0                 40   \n",
              "2                               1               1                 39   \n",
              "3                               1               2                 18   \n",
              "4                               1               0                  8   \n",
              "\n",
              "   num_onload_attributes  num_onerror_attributes  num_external_form_actions  \\\n",
              "0                      0                       0                          0   \n",
              "1                      0                       0                          0   \n",
              "2                      0                       0                          0   \n",
              "3                      0                       0                          0   \n",
              "4                      0                       0                          0   \n",
              "\n",
              "   label  \n",
              "0      0  \n",
              "1      0  \n",
              "2      0  \n",
              "3      0  \n",
              "4      0  \n",
              "\n",
              "[5 rows x 32 columns]"
            ],
            "text/html": [
              "\n",
              "  <div id=\"df-3885e90f-3817-4a35-a586-1bef6e280e17\" class=\"colab-df-container\">\n",
              "    <div>\n",
              "<style scoped>\n",
              "    .dataframe tbody tr th:only-of-type {\n",
              "        vertical-align: middle;\n",
              "    }\n",
              "\n",
              "    .dataframe tbody tr th {\n",
              "        vertical-align: top;\n",
              "    }\n",
              "\n",
              "    .dataframe thead th {\n",
              "        text-align: right;\n",
              "    }\n",
              "</style>\n",
              "<table border=\"1\" class=\"dataframe\">\n",
              "  <thead>\n",
              "    <tr style=\"text-align: right;\">\n",
              "      <th></th>\n",
              "      <th>url_length</th>\n",
              "      <th>num_dots_in_url</th>\n",
              "      <th>num_special_chars</th>\n",
              "      <th>num_subdomains</th>\n",
              "      <th>num_forms</th>\n",
              "      <th>num_inputs</th>\n",
              "      <th>num_password_fields</th>\n",
              "      <th>num_external_links</th>\n",
              "      <th>num_internal_links</th>\n",
              "      <th>num_hidden_fields</th>\n",
              "      <th>...</th>\n",
              "      <th>num_iframes</th>\n",
              "      <th>num_hidden_iframes</th>\n",
              "      <th>num_images</th>\n",
              "      <th>num_images_with_suspicious_url</th>\n",
              "      <th>num_style_tags</th>\n",
              "      <th>num_inline_styles</th>\n",
              "      <th>num_onload_attributes</th>\n",
              "      <th>num_onerror_attributes</th>\n",
              "      <th>num_external_form_actions</th>\n",
              "      <th>label</th>\n",
              "    </tr>\n",
              "  </thead>\n",
              "  <tbody>\n",
              "    <tr>\n",
              "      <th>0</th>\n",
              "      <td>7032</td>\n",
              "      <td>12</td>\n",
              "      <td>52</td>\n",
              "      <td>11</td>\n",
              "      <td>0</td>\n",
              "      <td>0</td>\n",
              "      <td>0</td>\n",
              "      <td>2</td>\n",
              "      <td>0</td>\n",
              "      <td>0</td>\n",
              "      <td>...</td>\n",
              "      <td>0</td>\n",
              "      <td>0</td>\n",
              "      <td>1</td>\n",
              "      <td>0</td>\n",
              "      <td>1</td>\n",
              "      <td>4</td>\n",
              "      <td>0</td>\n",
              "      <td>0</td>\n",
              "      <td>0</td>\n",
              "      <td>0</td>\n",
              "    </tr>\n",
              "    <tr>\n",
              "      <th>1</th>\n",
              "      <td>23676</td>\n",
              "      <td>205</td>\n",
              "      <td>1192</td>\n",
              "      <td>204</td>\n",
              "      <td>0</td>\n",
              "      <td>2</td>\n",
              "      <td>0</td>\n",
              "      <td>3</td>\n",
              "      <td>65</td>\n",
              "      <td>0</td>\n",
              "      <td>...</td>\n",
              "      <td>0</td>\n",
              "      <td>0</td>\n",
              "      <td>28</td>\n",
              "      <td>1</td>\n",
              "      <td>0</td>\n",
              "      <td>40</td>\n",
              "      <td>0</td>\n",
              "      <td>0</td>\n",
              "      <td>0</td>\n",
              "      <td>0</td>\n",
              "    </tr>\n",
              "    <tr>\n",
              "      <th>2</th>\n",
              "      <td>154373</td>\n",
              "      <td>935</td>\n",
              "      <td>5468</td>\n",
              "      <td>934</td>\n",
              "      <td>1</td>\n",
              "      <td>11</td>\n",
              "      <td>0</td>\n",
              "      <td>29</td>\n",
              "      <td>316</td>\n",
              "      <td>7</td>\n",
              "      <td>...</td>\n",
              "      <td>2</td>\n",
              "      <td>0</td>\n",
              "      <td>107</td>\n",
              "      <td>1</td>\n",
              "      <td>1</td>\n",
              "      <td>39</td>\n",
              "      <td>0</td>\n",
              "      <td>0</td>\n",
              "      <td>0</td>\n",
              "      <td>0</td>\n",
              "    </tr>\n",
              "    <tr>\n",
              "      <th>3</th>\n",
              "      <td>44520</td>\n",
              "      <td>721</td>\n",
              "      <td>1657</td>\n",
              "      <td>720</td>\n",
              "      <td>1</td>\n",
              "      <td>4</td>\n",
              "      <td>0</td>\n",
              "      <td>7</td>\n",
              "      <td>55</td>\n",
              "      <td>3</td>\n",
              "      <td>...</td>\n",
              "      <td>0</td>\n",
              "      <td>0</td>\n",
              "      <td>30</td>\n",
              "      <td>1</td>\n",
              "      <td>2</td>\n",
              "      <td>18</td>\n",
              "      <td>0</td>\n",
              "      <td>0</td>\n",
              "      <td>0</td>\n",
              "      <td>0</td>\n",
              "    </tr>\n",
              "    <tr>\n",
              "      <th>4</th>\n",
              "      <td>18307</td>\n",
              "      <td>322</td>\n",
              "      <td>760</td>\n",
              "      <td>321</td>\n",
              "      <td>0</td>\n",
              "      <td>1</td>\n",
              "      <td>0</td>\n",
              "      <td>37</td>\n",
              "      <td>0</td>\n",
              "      <td>0</td>\n",
              "      <td>...</td>\n",
              "      <td>1</td>\n",
              "      <td>0</td>\n",
              "      <td>36</td>\n",
              "      <td>1</td>\n",
              "      <td>0</td>\n",
              "      <td>8</td>\n",
              "      <td>0</td>\n",
              "      <td>0</td>\n",
              "      <td>0</td>\n",
              "      <td>0</td>\n",
              "    </tr>\n",
              "  </tbody>\n",
              "</table>\n",
              "<p>5 rows × 32 columns</p>\n",
              "</div>\n",
              "    <div class=\"colab-df-buttons\">\n",
              "\n",
              "  <div class=\"colab-df-container\">\n",
              "    <button class=\"colab-df-convert\" onclick=\"convertToInteractive('df-3885e90f-3817-4a35-a586-1bef6e280e17')\"\n",
              "            title=\"Convert this dataframe to an interactive table.\"\n",
              "            style=\"display:none;\">\n",
              "\n",
              "  <svg xmlns=\"http://www.w3.org/2000/svg\" height=\"24px\" viewBox=\"0 -960 960 960\">\n",
              "    <path d=\"M120-120v-720h720v720H120Zm60-500h600v-160H180v160Zm220 220h160v-160H400v160Zm0 220h160v-160H400v160ZM180-400h160v-160H180v160Zm440 0h160v-160H620v160ZM180-180h160v-160H180v160Zm440 0h160v-160H620v160Z\"/>\n",
              "  </svg>\n",
              "    </button>\n",
              "\n",
              "  <style>\n",
              "    .colab-df-container {\n",
              "      display:flex;\n",
              "      gap: 12px;\n",
              "    }\n",
              "\n",
              "    .colab-df-convert {\n",
              "      background-color: #E8F0FE;\n",
              "      border: none;\n",
              "      border-radius: 50%;\n",
              "      cursor: pointer;\n",
              "      display: none;\n",
              "      fill: #1967D2;\n",
              "      height: 32px;\n",
              "      padding: 0 0 0 0;\n",
              "      width: 32px;\n",
              "    }\n",
              "\n",
              "    .colab-df-convert:hover {\n",
              "      background-color: #E2EBFA;\n",
              "      box-shadow: 0px 1px 2px rgba(60, 64, 67, 0.3), 0px 1px 3px 1px rgba(60, 64, 67, 0.15);\n",
              "      fill: #174EA6;\n",
              "    }\n",
              "\n",
              "    .colab-df-buttons div {\n",
              "      margin-bottom: 4px;\n",
              "    }\n",
              "\n",
              "    [theme=dark] .colab-df-convert {\n",
              "      background-color: #3B4455;\n",
              "      fill: #D2E3FC;\n",
              "    }\n",
              "\n",
              "    [theme=dark] .colab-df-convert:hover {\n",
              "      background-color: #434B5C;\n",
              "      box-shadow: 0px 1px 3px 1px rgba(0, 0, 0, 0.15);\n",
              "      filter: drop-shadow(0px 1px 2px rgba(0, 0, 0, 0.3));\n",
              "      fill: #FFFFFF;\n",
              "    }\n",
              "  </style>\n",
              "\n",
              "    <script>\n",
              "      const buttonEl =\n",
              "        document.querySelector('#df-3885e90f-3817-4a35-a586-1bef6e280e17 button.colab-df-convert');\n",
              "      buttonEl.style.display =\n",
              "        google.colab.kernel.accessAllowed ? 'block' : 'none';\n",
              "\n",
              "      async function convertToInteractive(key) {\n",
              "        const element = document.querySelector('#df-3885e90f-3817-4a35-a586-1bef6e280e17');\n",
              "        const dataTable =\n",
              "          await google.colab.kernel.invokeFunction('convertToInteractive',\n",
              "                                                    [key], {});\n",
              "        if (!dataTable) return;\n",
              "\n",
              "        const docLinkHtml = 'Like what you see? Visit the ' +\n",
              "          '<a target=\"_blank\" href=https://colab.research.google.com/notebooks/data_table.ipynb>data table notebook</a>'\n",
              "          + ' to learn more about interactive tables.';\n",
              "        element.innerHTML = '';\n",
              "        dataTable['output_type'] = 'display_data';\n",
              "        await google.colab.output.renderOutput(dataTable, element);\n",
              "        const docLink = document.createElement('div');\n",
              "        docLink.innerHTML = docLinkHtml;\n",
              "        element.appendChild(docLink);\n",
              "      }\n",
              "    </script>\n",
              "  </div>\n",
              "\n",
              "\n",
              "<div id=\"df-080e0a0b-91a4-4062-a91d-d29b437fe391\">\n",
              "  <button class=\"colab-df-quickchart\" onclick=\"quickchart('df-080e0a0b-91a4-4062-a91d-d29b437fe391')\"\n",
              "            title=\"Suggest charts\"\n",
              "            style=\"display:none;\">\n",
              "\n",
              "<svg xmlns=\"http://www.w3.org/2000/svg\" height=\"24px\"viewBox=\"0 0 24 24\"\n",
              "     width=\"24px\">\n",
              "    <g>\n",
              "        <path d=\"M19 3H5c-1.1 0-2 .9-2 2v14c0 1.1.9 2 2 2h14c1.1 0 2-.9 2-2V5c0-1.1-.9-2-2-2zM9 17H7v-7h2v7zm4 0h-2V7h2v10zm4 0h-2v-4h2v4z\"/>\n",
              "    </g>\n",
              "</svg>\n",
              "  </button>\n",
              "\n",
              "<style>\n",
              "  .colab-df-quickchart {\n",
              "      --bg-color: #E8F0FE;\n",
              "      --fill-color: #1967D2;\n",
              "      --hover-bg-color: #E2EBFA;\n",
              "      --hover-fill-color: #174EA6;\n",
              "      --disabled-fill-color: #AAA;\n",
              "      --disabled-bg-color: #DDD;\n",
              "  }\n",
              "\n",
              "  [theme=dark] .colab-df-quickchart {\n",
              "      --bg-color: #3B4455;\n",
              "      --fill-color: #D2E3FC;\n",
              "      --hover-bg-color: #434B5C;\n",
              "      --hover-fill-color: #FFFFFF;\n",
              "      --disabled-bg-color: #3B4455;\n",
              "      --disabled-fill-color: #666;\n",
              "  }\n",
              "\n",
              "  .colab-df-quickchart {\n",
              "    background-color: var(--bg-color);\n",
              "    border: none;\n",
              "    border-radius: 50%;\n",
              "    cursor: pointer;\n",
              "    display: none;\n",
              "    fill: var(--fill-color);\n",
              "    height: 32px;\n",
              "    padding: 0;\n",
              "    width: 32px;\n",
              "  }\n",
              "\n",
              "  .colab-df-quickchart:hover {\n",
              "    background-color: var(--hover-bg-color);\n",
              "    box-shadow: 0 1px 2px rgba(60, 64, 67, 0.3), 0 1px 3px 1px rgba(60, 64, 67, 0.15);\n",
              "    fill: var(--button-hover-fill-color);\n",
              "  }\n",
              "\n",
              "  .colab-df-quickchart-complete:disabled,\n",
              "  .colab-df-quickchart-complete:disabled:hover {\n",
              "    background-color: var(--disabled-bg-color);\n",
              "    fill: var(--disabled-fill-color);\n",
              "    box-shadow: none;\n",
              "  }\n",
              "\n",
              "  .colab-df-spinner {\n",
              "    border: 2px solid var(--fill-color);\n",
              "    border-color: transparent;\n",
              "    border-bottom-color: var(--fill-color);\n",
              "    animation:\n",
              "      spin 1s steps(1) infinite;\n",
              "  }\n",
              "\n",
              "  @keyframes spin {\n",
              "    0% {\n",
              "      border-color: transparent;\n",
              "      border-bottom-color: var(--fill-color);\n",
              "      border-left-color: var(--fill-color);\n",
              "    }\n",
              "    20% {\n",
              "      border-color: transparent;\n",
              "      border-left-color: var(--fill-color);\n",
              "      border-top-color: var(--fill-color);\n",
              "    }\n",
              "    30% {\n",
              "      border-color: transparent;\n",
              "      border-left-color: var(--fill-color);\n",
              "      border-top-color: var(--fill-color);\n",
              "      border-right-color: var(--fill-color);\n",
              "    }\n",
              "    40% {\n",
              "      border-color: transparent;\n",
              "      border-right-color: var(--fill-color);\n",
              "      border-top-color: var(--fill-color);\n",
              "    }\n",
              "    60% {\n",
              "      border-color: transparent;\n",
              "      border-right-color: var(--fill-color);\n",
              "    }\n",
              "    80% {\n",
              "      border-color: transparent;\n",
              "      border-right-color: var(--fill-color);\n",
              "      border-bottom-color: var(--fill-color);\n",
              "    }\n",
              "    90% {\n",
              "      border-color: transparent;\n",
              "      border-bottom-color: var(--fill-color);\n",
              "    }\n",
              "  }\n",
              "</style>\n",
              "\n",
              "  <script>\n",
              "    async function quickchart(key) {\n",
              "      const quickchartButtonEl =\n",
              "        document.querySelector('#' + key + ' button');\n",
              "      quickchartButtonEl.disabled = true;  // To prevent multiple clicks.\n",
              "      quickchartButtonEl.classList.add('colab-df-spinner');\n",
              "      try {\n",
              "        const charts = await google.colab.kernel.invokeFunction(\n",
              "            'suggestCharts', [key], {});\n",
              "      } catch (error) {\n",
              "        console.error('Error during call to suggestCharts:', error);\n",
              "      }\n",
              "      quickchartButtonEl.classList.remove('colab-df-spinner');\n",
              "      quickchartButtonEl.classList.add('colab-df-quickchart-complete');\n",
              "    }\n",
              "    (() => {\n",
              "      let quickchartButtonEl =\n",
              "        document.querySelector('#df-080e0a0b-91a4-4062-a91d-d29b437fe391 button');\n",
              "      quickchartButtonEl.style.display =\n",
              "        google.colab.kernel.accessAllowed ? 'block' : 'none';\n",
              "    })();\n",
              "  </script>\n",
              "</div>\n",
              "\n",
              "    </div>\n",
              "  </div>\n"
            ],
            "application/vnd.google.colaboratory.intrinsic+json": {
              "type": "dataframe",
              "variable_name": "data"
            }
          },
          "metadata": {},
          "execution_count": 15
        }
      ],
      "source": [
        "data.head()"
      ]
    },
    {
      "cell_type": "code",
      "execution_count": null,
      "metadata": {
        "colab": {
          "base_uri": "https://localhost:8080/"
        },
        "id": "epN5RJJoO3wK",
        "outputId": "c9514683-0ad1-450a-dd9c-87b9fda33397"
      },
      "outputs": [
        {
          "output_type": "stream",
          "name": "stdout",
          "text": [
            "Number of rows with '0' in 'result' column: 4282\n"
          ]
        }
      ],
      "source": [
        "count_zeros = (data['label'] == 0).sum()\n",
        "print(\"Number of rows with '0' in 'result' column:\", count_zeros)\n"
      ]
    },
    {
      "cell_type": "code",
      "execution_count": null,
      "metadata": {
        "colab": {
          "base_uri": "https://localhost:8080/"
        },
        "id": "iI8xlp1kPhQE",
        "outputId": "044cd070-639d-4a9d-a0b6-313d1b52a2e0"
      },
      "outputs": [
        {
          "output_type": "stream",
          "name": "stdout",
          "text": [
            "Number of rows with '1' in 'result' column: 1734\n"
          ]
        }
      ],
      "source": [
        "count_ones = (data['label'] == 1).sum()\n",
        "print(\"Number of rows with '1' in 'result' column:\", count_ones)"
      ]
    },
    {
      "cell_type": "code",
      "execution_count": null,
      "metadata": {
        "colab": {
          "base_uri": "https://localhost:8080/"
        },
        "id": "v3YVhj-2Qj3G",
        "outputId": "c9b8d5b8-2d66-4526-f4a4-d3378b110016"
      },
      "outputs": [
        {
          "output_type": "stream",
          "name": "stdout",
          "text": [
            "Index(['url_length', 'num_dots_in_url', 'num_special_chars', 'num_subdomains',\n",
            "       'num_forms', 'num_inputs', 'num_password_fields', 'num_external_links',\n",
            "       'num_internal_links', 'num_hidden_fields', 'num_mailto_links',\n",
            "       'num_scripts', 'num_js_functions', 'has_eval_js', 'has_escape_js',\n",
            "       'has_unescape_js', 'has_settimeout_js', 'has_setinterval_js',\n",
            "       'has_https', 'suspicious_url', 'num_meta_tags', 'num_refresh_meta',\n",
            "       'num_iframes', 'num_hidden_iframes', 'num_images',\n",
            "       'num_images_with_suspicious_url', 'num_style_tags', 'num_inline_styles',\n",
            "       'num_onload_attributes', 'num_onerror_attributes',\n",
            "       'num_external_form_actions', 'label'],\n",
            "      dtype='object')\n",
            "(6016, 32)\n"
          ]
        }
      ],
      "source": [
        "print(data.columns)\n",
        "print(data.shape)"
      ]
    },
    {
      "cell_type": "code",
      "execution_count": null,
      "metadata": {
        "colab": {
          "base_uri": "https://localhost:8080/",
          "height": 601
        },
        "id": "135qbtrQ83t4",
        "outputId": "bc738591-2aef-45e8-d457-863b7b2f14fc"
      },
      "outputs": [
        {
          "output_type": "display_data",
          "data": {
            "text/plain": [
              "<Figure size 1200x600 with 1 Axes>"
            ],
            "image/png": "[encoded data removed]"
          },
          "metadata": {}
        }
      ],
      "source": [
        "means = data.mean()\n",
        "stds = data.std()\n",
        "\n",
        "plt.figure(figsize=(12, 6))\n",
        "plt.bar(means.index, stds)\n",
        "plt.xlabel('Columns')\n",
        "plt.ylabel('Standard Deviation')\n",
        "plt.title('Deviation of Values for Each Column')\n",
        "plt.xticks(rotation=90)\n",
        "plt.tight_layout()\n",
        "plt.show()\n"
      ]
    },
    {
      "cell_type": "markdown",
      "metadata": {
        "id": "edluv5iT-zNE"
      },
      "source": [
        "##Splitting the dataset and standardization"
      ]
    },
    {
      "cell_type": "code",
      "execution_count": null,
      "metadata": {
        "id": "8LvGKSMU8sd1"
      },
      "outputs": [],
      "source": [
        "X = data.drop('label', axis=1)\n",
        "y = data['label']"
      ]
    },
    {
      "cell_type": "code",
      "execution_count": null,
      "metadata": {
        "colab": {
          "base_uri": "https://localhost:8080/"
        },
        "id": "N7KTwbtJN-vg",
        "outputId": "be801845-08eb-4876-9f10-1476075b8ea7"
      },
      "outputs": [
        {
          "output_type": "execute_result",
          "data": {
            "text/plain": [
              "(6016, 31)"
            ]
          },
          "metadata": {},
          "execution_count": 22
        }
      ],
      "source": [
        "X.shape"
      ]
    },
    {
      "cell_type": "code",
      "execution_count": null,
      "metadata": {
        "colab": {
          "base_uri": "https://localhost:8080/"
        },
        "id": "wDUMrWn5Rkmw",
        "outputId": "d2a89b90-dcdf-4104-f05f-4a51a0ef0f56"
      },
      "outputs": [
        {
          "output_type": "execute_result",
          "data": {
            "text/plain": [
              "Index(['url_length', 'num_dots_in_url', 'num_special_chars', 'num_subdomains',\n",
              "       'num_forms', 'num_inputs', 'num_password_fields', 'num_external_links',\n",
              "       'num_internal_links', 'num_hidden_fields', 'num_mailto_links',\n",
              "       'num_scripts', 'num_js_functions', 'has_eval_js', 'has_escape_js',\n",
              "       'has_unescape_js', 'has_settimeout_js', 'has_setinterval_js',\n",
              "       'has_https', 'suspicious_url', 'num_meta_tags', 'num_refresh_meta',\n",
              "       'num_iframes', 'num_hidden_iframes', 'num_images',\n",
              "       'num_images_with_suspicious_url', 'num_style_tags', 'num_inline_styles',\n",
              "       'num_onload_attributes', 'num_onerror_attributes',\n",
              "       'num_external_form_actions'],\n",
              "      dtype='object')"
            ]
          },
          "metadata": {},
          "execution_count": 23
        }
      ],
      "source": [
        "feature_names = X.columns\n",
        "feature_names"
      ]
    },
    {
      "cell_type": "code",
      "execution_count": null,
      "metadata": {
        "id": "NcWsDyFc9cRV"
      },
      "outputs": [],
      "source": [
        "scaler = StandardScaler()\n",
        "X_train, X_test, y_train, y_test = train_test_split(X, y, test_size=0.2, random_state=42)\n",
        "X_train = scaler.fit_transform(X_train)\n",
        "X_test = scaler.transform(X_test)"
      ]
    },
    {
      "cell_type": "code",
      "source": [
        "from sklearn.metrics import accuracy_score, f1_score, precision_score, recall_score"
      ],
      "metadata": {
        "id": "HG3NlbMTJkWI"
      },
      "execution_count": null,
      "outputs": []
    },
    {
      "cell_type": "markdown",
      "metadata": {
        "id": "_RzSPMwW_COC"
      },
      "source": [
        "#Logistic Regression"
      ]
    },
    {
      "cell_type": "code",
      "execution_count": null,
      "metadata": {
        "colab": {
          "base_uri": "https://localhost:8080/"
        },
        "id": "8Ww62FBE9f47",
        "outputId": "40e01df3-ad31-413b-e356-c63ac8a21a15"
      },
      "outputs": [
        {
          "output_type": "stream",
          "name": "stdout",
          "text": [
            "Logistic Regression Test Accuracy: 0.8646179401993356\n",
            "[[776  88]\n",
            " [ 75 265]]\n",
            "              precision    recall  f1-score   support\n",
            "\n",
            "           0       0.91      0.90      0.90       864\n",
            "           1       0.75      0.78      0.76       340\n",
            "\n",
            "    accuracy                           0.86      1204\n",
            "   macro avg       0.83      0.84      0.83      1204\n",
            "weighted avg       0.87      0.86      0.87      1204\n",
            "\n",
            "Logistic Regression Train Accuracy: 0.8545303408146301\n",
            "Logistic Regression Test Accuracy: 0.8646179401993356\n",
            "Logistic Regression F1 Score: 0.7647907647907649\n",
            "Logistic Regression Precision: 0.7507082152974505\n",
            "Logistic Regression Recall: 0.7794117647058824\n"
          ]
        }
      ],
      "source": [
        "logreg = LogisticRegression(max_iter=1000)\n",
        "logreg.fit(X_train, y_train)\n",
        "\n",
        "y_train_pred_logreg = logreg.predict(X_train)\n",
        "y_test_pred_logreg = logreg.predict(X_test)\n",
        "\n",
        "print(\"Logistic Regression Test Accuracy:\", accuracy_score(y_test,y_test_pred_logreg ))\n",
        "print(confusion_matrix(y_test, y_test_pred_logreg))\n",
        "print(classification_report(y_test, y_test_pred_logreg))\n",
        "\n",
        "lr_train_acc = accuracy_score(y_train, y_train_pred_logreg)\n",
        "lr_test_acc = accuracy_score(y_test, y_test_pred_logreg)\n",
        "lr_f1 = f1_score(y_test, y_test_pred_logreg)\n",
        "lr_precision = precision_score(y_test, y_test_pred_logreg)\n",
        "lr_recall = recall_score(y_test, y_test_pred_logreg)\n",
        "print(\"Logistic Regression Train Accuracy:\", lr_train_acc)\n",
        "print(\"Logistic Regression Test Accuracy:\", lr_test_acc)\n",
        "print(\"Logistic Regression F1 Score:\", lr_f1)\n",
        "print(\"Logistic Regression Precision:\", lr_precision)\n",
        "print(\"Logistic Regression Recall:\", lr_recall)"
      ]
    },
    {
      "cell_type": "code",
      "execution_count": null,
      "metadata": {
        "id": "DSavUl5gbrX-"
      },
      "outputs": [],
      "source": [
        "importance_lr = np.abs(logreg.coef_[0])"
      ]
    },
    {
      "cell_type": "markdown",
      "metadata": {
        "id": "F6aBWWxr_OqI"
      },
      "source": [
        "#Random Forest Classifier"
      ]
    },
    {
      "cell_type": "code",
      "execution_count": null,
      "metadata": {
        "colab": {
          "base_uri": "https://localhost:8080/"
        },
        "id": "aqCbdHtK_M37",
        "outputId": "7a08b067-48e7-498c-80ed-63c04b45aeb9"
      },
      "outputs": [
        {
          "output_type": "stream",
          "name": "stdout",
          "text": [
            "Random Forest Accuracy: 0.9501661129568106\n",
            "[[847  17]\n",
            " [ 43 297]]\n",
            "              precision    recall  f1-score   support\n",
            "\n",
            "           0       0.95      0.98      0.97       864\n",
            "           1       0.95      0.87      0.91       340\n",
            "\n",
            "    accuracy                           0.95      1204\n",
            "   macro avg       0.95      0.93      0.94      1204\n",
            "weighted avg       0.95      0.95      0.95      1204\n",
            "\n",
            "Random Forest Train Accuracy: 0.99833748960931\n",
            "Random Forest Test Accuracy: 0.9501661129568106\n",
            "Random Forest F1 Score: 0.908256880733945\n",
            "Random Forest Precision: 0.945859872611465\n",
            "Random Forest Recall: 0.8735294117647059\n"
          ]
        }
      ],
      "source": [
        "rf = RandomForestClassifier()\n",
        "rf.fit(X_train, y_train)\n",
        "\n",
        "y_train_pred_rf = rf.predict(X_train)\n",
        "y_test_pred_rf = rf.predict(X_test)\n",
        "\n",
        "print(\"Random Forest Accuracy:\", accuracy_score(y_test, y_test_pred_rf))\n",
        "print(confusion_matrix(y_test, y_test_pred_rf))\n",
        "print(classification_report(y_test, y_test_pred_rf))\n",
        "\n",
        "rf_train_acc = accuracy_score(y_train, y_train_pred_rf)\n",
        "rf_test_acc = accuracy_score(y_test, y_test_pred_rf)\n",
        "rf_f1 = f1_score(y_test, y_test_pred_rf)\n",
        "rf_precision = precision_score(y_test, y_test_pred_rf)\n",
        "rf_recall = recall_score(y_test, y_test_pred_rf)\n",
        "print(\"Random Forest Train Accuracy:\", rf_train_acc)\n",
        "print(\"Random Forest Test Accuracy:\", rf_test_acc)\n",
        "print(\"Random Forest F1 Score:\", rf_f1)\n",
        "print(\"Random Forest Precision:\", rf_precision)\n",
        "print(\"Random Forest Recall:\", rf_recall)"
      ]
    },
    {
      "cell_type": "code",
      "execution_count": null,
      "metadata": {
        "id": "SUzYduiEbxDf"
      },
      "outputs": [],
      "source": [
        "importance_rf =rf.feature_importances_"
      ]
    },
    {
      "cell_type": "markdown",
      "metadata": {
        "id": "nTnZRMTmBpzN"
      },
      "source": [
        "# KNN"
      ]
    },
    {
      "cell_type": "code",
      "execution_count": null,
      "metadata": {
        "colab": {
          "base_uri": "https://localhost:8080/"
        },
        "id": "sBWzzZ7DBrRr",
        "outputId": "e99be6cc-6bb5-42c1-9b00-7ad4123295cc"
      },
      "outputs": [
        {
          "output_type": "stream",
          "name": "stdout",
          "text": [
            "KNN Accuracy: 0.8995016611295681\n",
            "[[804  60]\n",
            " [ 61 279]]\n",
            "              precision    recall  f1-score   support\n",
            "\n",
            "           0       0.93      0.93      0.93       864\n",
            "           1       0.82      0.82      0.82       340\n",
            "\n",
            "    accuracy                           0.90      1204\n",
            "   macro avg       0.88      0.88      0.88      1204\n",
            "weighted avg       0.90      0.90      0.90      1204\n",
            "\n",
            "KNN Train Accuracy: 0.9256026600166251\n",
            "KNN Test Accuracy: 0.8995016611295681\n",
            "KNN F1 Score: 0.8217967599410899\n",
            "KNN Precision: 0.8230088495575221\n",
            "KNN Recall: 0.8205882352941176\n"
          ]
        }
      ],
      "source": [
        "knn = KNeighborsClassifier(n_neighbors=5)\n",
        "knn.fit(X_train, y_train)\n",
        "\n",
        "y_train_pred_knn = knn.predict(X_train)\n",
        "y_test_pred_knn = knn.predict(X_test)\n",
        "\n",
        "print(\"KNN Accuracy:\", accuracy_score(y_test, y_test_pred_knn))\n",
        "print(confusion_matrix(y_test, y_test_pred_knn))\n",
        "print(classification_report(y_test, y_test_pred_knn))\n",
        "\n",
        "knn_train_acc = accuracy_score(y_train, y_train_pred_knn)\n",
        "knn_test_acc = accuracy_score(y_test, y_test_pred_knn)\n",
        "knn_f1 = f1_score(y_test, y_test_pred_knn)\n",
        "knn_precision = precision_score(y_test, y_test_pred_knn)\n",
        "knn_recall = recall_score(y_test, y_test_pred_knn)\n",
        "\n",
        "print(\"KNN Train Accuracy:\", knn_train_acc)\n",
        "print(\"KNN Test Accuracy:\", knn_test_acc)\n",
        "print(\"KNN F1 Score:\", knn_f1)\n",
        "print(\"KNN Precision:\", knn_precision)\n",
        "print(\"KNN Recall:\", knn_recall)"
      ]
    },
    {
      "cell_type": "code",
      "execution_count": null,
      "metadata": {
        "id": "0giB7xXmcnno"
      },
      "outputs": [],
      "source": [
        "from sklearn.inspection import permutation_importance"
      ]
    },
    {
      "cell_type": "code",
      "execution_count": null,
      "metadata": {
        "id": "2SCHXweYcER1"
      },
      "outputs": [],
      "source": [
        "importance_knn = permutation_importance(knn, X_train, y_train, n_repeats=10, random_state=42).importances_mean"
      ]
    },
    {
      "cell_type": "markdown",
      "metadata": {
        "id": "3IjDSig2A33C"
      },
      "source": [
        "#Support Vector Machine (SVM)"
      ]
    },
    {
      "cell_type": "code",
      "execution_count": null,
      "metadata": {
        "colab": {
          "base_uri": "https://localhost:8080/"
        },
        "id": "Gw6Qo26QA7oj",
        "outputId": "b00ffc55-e731-4391-857c-8afb37be5263"
      },
      "outputs": [
        {
          "output_type": "stream",
          "name": "stdout",
          "text": [
            "SVM Accuracy: 0.8654485049833887\n",
            "[[768  96]\n",
            " [ 66 274]]\n",
            "              precision    recall  f1-score   support\n",
            "\n",
            "           0       0.92      0.89      0.90       864\n",
            "           1       0.74      0.81      0.77       340\n",
            "\n",
            "    accuracy                           0.87      1204\n",
            "   macro avg       0.83      0.85      0.84      1204\n",
            "weighted avg       0.87      0.87      0.87      1204\n",
            "\n",
            "SVM Train Accuracy: 0.8503740648379052\n",
            "SVM Test Accuracy: 0.8654485049833887\n",
            "SVM F1 Score: 0.7718309859154929\n",
            "SVM Precision: 0.7405405405405405\n",
            "SVM Recall: 0.8058823529411765\n"
          ]
        }
      ],
      "source": [
        "svm = SVC(kernel='linear', probability=True)\n",
        "svm.fit(X_train, y_train)\n",
        "\n",
        "y_train_pred_svm = svm.predict(X_train)\n",
        "y_test_pred_svm = svm.predict(X_test)\n",
        "\n",
        "print(\"SVM Accuracy:\", accuracy_score(y_test, y_test_pred_svm))\n",
        "print(confusion_matrix(y_test, y_test_pred_svm))\n",
        "print(classification_report(y_test, y_test_pred_svm))\n",
        "\n",
        "\n",
        "svm_train_acc = accuracy_score(y_train, y_train_pred_svm)\n",
        "svm_test_acc = accuracy_score(y_test, y_test_pred_svm)\n",
        "svm_f1 = f1_score(y_test, y_test_pred_svm)\n",
        "svm_precision = precision_score(y_test, y_test_pred_svm)\n",
        "svm_recall = recall_score(y_test, y_test_pred_svm)\n",
        "print(\"SVM Train Accuracy:\", svm_train_acc)\n",
        "print(\"SVM Test Accuracy:\", svm_test_acc)\n",
        "print(\"SVM F1 Score:\", svm_f1)\n",
        "print(\"SVM Precision:\", svm_precision)\n",
        "print(\"SVM Recall:\", svm_recall)"
      ]
    },
    {
      "cell_type": "code",
      "execution_count": null,
      "metadata": {
        "id": "cYXV_hgycvPL"
      },
      "outputs": [],
      "source": [
        "importance_svm = np.abs(svm.coef_[0])"
      ]
    },
    {
      "cell_type": "markdown",
      "metadata": {
        "id": "w4uj6Ex_BBG7"
      },
      "source": [
        "#Gradient Boosting Classifier"
      ]
    },
    {
      "cell_type": "code",
      "execution_count": null,
      "metadata": {
        "colab": {
          "base_uri": "https://localhost:8080/"
        },
        "id": "KtqEX5d7BGRE",
        "outputId": "74f9eb05-10b7-463b-92dc-80b0a73d567e"
      },
      "outputs": [
        {
          "output_type": "stream",
          "name": "stdout",
          "text": [
            "Gradient Boosting Accuracy: 0.909468438538206\n",
            "[[818  46]\n",
            " [ 63 277]]\n",
            "              precision    recall  f1-score   support\n",
            "\n",
            "           0       0.93      0.95      0.94       864\n",
            "           1       0.86      0.81      0.84       340\n",
            "\n",
            "    accuracy                           0.91      1204\n",
            "   macro avg       0.89      0.88      0.89      1204\n",
            "weighted avg       0.91      0.91      0.91      1204\n",
            "\n",
            "Gradient Boosting Train Accuracy: 0.9318370739817123\n",
            "Gradient Boosting Test Accuracy: 0.909468438538206\n",
            "Gradient Boosting F1 Score: 0.8355957767722475\n",
            "Gradient Boosting Precision: 0.8575851393188855\n",
            "Gradient Boosting Recall: 0.8147058823529412\n"
          ]
        }
      ],
      "source": [
        "gb = GradientBoostingClassifier()\n",
        "gb.fit(X_train, y_train)\n",
        "y_train_pred_gb = gb.predict(X_train)\n",
        "y_test_pred_gb = gb.predict(X_test)\n",
        "\n",
        "print(\"Gradient Boosting Accuracy:\", accuracy_score(y_test, y_test_pred_gb))\n",
        "print(confusion_matrix(y_test, y_test_pred_gb))\n",
        "print(classification_report(y_test, y_test_pred_gb))\n",
        "\n",
        "\n",
        "gb_train_acc = accuracy_score(y_train, y_train_pred_gb)\n",
        "gb_test_acc = accuracy_score(y_test, y_test_pred_gb)\n",
        "gb_f1 = f1_score(y_test, y_test_pred_gb)\n",
        "gb_precision = precision_score(y_test, y_test_pred_gb)\n",
        "gb_recall = recall_score(y_test, y_test_pred_gb)\n",
        "\n",
        "print(\"Gradient Boosting Train Accuracy:\", gb_train_acc)\n",
        "print(\"Gradient Boosting Test Accuracy:\", gb_test_acc)\n",
        "print(\"Gradient Boosting F1 Score:\", gb_f1)\n",
        "print(\"Gradient Boosting Precision:\", gb_precision)\n",
        "print(\"Gradient Boosting Recall:\", gb_recall)"
      ]
    },
    {
      "cell_type": "code",
      "execution_count": null,
      "metadata": {
        "id": "_GYf85qvcy_Y"
      },
      "outputs": [],
      "source": [
        "importance_gb = gb.feature_importances_"
      ]
    },
    {
      "cell_type": "markdown",
      "metadata": {
        "id": "EguQI-cCBD-j"
      },
      "source": [
        "#XGBoost"
      ]
    },
    {
      "cell_type": "code",
      "execution_count": null,
      "metadata": {
        "colab": {
          "base_uri": "https://localhost:8080/"
        },
        "id": "gJYWDmzFBLLN",
        "outputId": "87643fb6-8657-4585-98f2-b5663783e6b8"
      },
      "outputs": [
        {
          "output_type": "stream",
          "name": "stdout",
          "text": [
            "XGBoost Accuracy: 0.9410299003322259\n",
            "[[834  30]\n",
            " [ 41 299]]\n",
            "              precision    recall  f1-score   support\n",
            "\n",
            "           0       0.95      0.97      0.96       864\n",
            "           1       0.91      0.88      0.89       340\n",
            "\n",
            "    accuracy                           0.94      1204\n",
            "   macro avg       0.93      0.92      0.93      1204\n",
            "weighted avg       0.94      0.94      0.94      1204\n",
            "\n",
            "XGBoost Train Accuracy: 0.9937655860349127\n",
            "XGBoost Test Accuracy: 0.9410299003322259\n",
            "XGBoost F1 Score: 0.8938714499252616\n",
            "XGBoost Precision: 0.9088145896656535\n",
            "XGBoost Recall: 0.8794117647058823\n"
          ]
        }
      ],
      "source": [
        "xgb_model = xgb.XGBClassifier()\n",
        "xgb_model.fit(X_train, y_train)\n",
        "\n",
        "y_train_pred_xgb = xgb_model.predict(X_train)\n",
        "y_test_pred_xgb = xgb_model.predict(X_test)\n",
        "\n",
        "print(\"XGBoost Accuracy:\", accuracy_score(y_test, y_test_pred_xgb))\n",
        "print(confusion_matrix(y_test, y_test_pred_xgb))\n",
        "print(classification_report(y_test, y_test_pred_xgb))\n",
        "\n",
        "xgb_train_acc = accuracy_score(y_train, y_train_pred_xgb)\n",
        "xgb_test_acc = accuracy_score(y_test, y_test_pred_xgb)\n",
        "xgb_f1 = f1_score(y_test, y_test_pred_xgb)\n",
        "xgb_precision = precision_score(y_test, y_test_pred_xgb)\n",
        "xgb_recall = recall_score(y_test, y_test_pred_xgb)\n",
        "print(\"XGBoost Train Accuracy:\", xgb_train_acc)\n",
        "print(\"XGBoost Test Accuracy:\", xgb_test_acc)\n",
        "print(\"XGBoost F1 Score:\", xgb_f1)\n",
        "print(\"XGBoost Precision:\", xgb_precision)\n",
        "print(\"XGBoost Recall:\", xgb_recall)"
      ]
    },
    {
      "cell_type": "code",
      "execution_count": null,
      "metadata": {
        "id": "Ts1Af3JUc2Q3"
      },
      "outputs": [],
      "source": [
        "importance_xgb = xgb_model.feature_importances_"
      ]
    },
    {
      "cell_type": "markdown",
      "metadata": {
        "id": "Oh-8Ny6IBTsS"
      },
      "source": [
        "#LightGBM"
      ]
    },
    {
      "cell_type": "code",
      "execution_count": null,
      "metadata": {
        "colab": {
          "base_uri": "https://localhost:8080/"
        },
        "id": "KIB6492FBSwf",
        "outputId": "f09c9132-5155-4984-e113-3ee73a39edac"
      },
      "outputs": [
        {
          "output_type": "stream",
          "name": "stdout",
          "text": [
            "[LightGBM] [Info] Number of positive: 1394, number of negative: 3418\n",
            "[LightGBM] [Info] Auto-choosing row-wise multi-threading, the overhead of testing was 0.001779 seconds.\n",
            "You can set `force_row_wise=true` to remove the overhead.\n",
            "And if memory is not enough, you can set `force_col_wise=true`.\n",
            "[LightGBM] [Info] Total Bins 2636\n",
            "[LightGBM] [Info] Number of data points in the train set: 4812, number of used features: 30\n",
            "[LightGBM] [Info] [binary:BoostFromScore]: pavg=0.289692 -> initscore=-0.896878\n",
            "[LightGBM] [Info] Start training from score -0.896878\n",
            "LightGBM Accuracy: 0.9418604651162791\n",
            "[[834  30]\n",
            " [ 40 300]]\n",
            "              precision    recall  f1-score   support\n",
            "\n",
            "           0       0.95      0.97      0.96       864\n",
            "           1       0.91      0.88      0.90       340\n",
            "\n",
            "    accuracy                           0.94      1204\n",
            "   macro avg       0.93      0.92      0.93      1204\n",
            "weighted avg       0.94      0.94      0.94      1204\n",
            "\n",
            "LightGBM Train Accuracy: 0.9877389858686617\n",
            "LightGBM Test Accuracy: 0.9418604651162791\n",
            "LightGBM F1 Score: 0.8955223880597014\n",
            "LightGBM Precision: 0.9090909090909091\n",
            "LightGBM Recall: 0.8823529411764706\n"
          ]
        }
      ],
      "source": [
        "lgb_model = lgb.LGBMClassifier()\n",
        "lgb_model.fit(X_train, y_train)\n",
        "\n",
        "y_train_pred_lgb = lgb_model.predict(X_train)\n",
        "y_test_pred_lgb = lgb_model.predict(X_test)\n",
        "print(\"LightGBM Accuracy:\", accuracy_score(y_test, y_test_pred_lgb))\n",
        "print(confusion_matrix(y_test, y_test_pred_lgb))\n",
        "print(classification_report(y_test, y_test_pred_lgb))\n",
        "\n",
        "lgb_train_acc = accuracy_score(y_train, y_train_pred_lgb)\n",
        "lgb_test_acc = accuracy_score(y_test, y_test_pred_lgb)\n",
        "lgb_f1 = f1_score(y_test, y_test_pred_lgb)\n",
        "lgb_precision = precision_score(y_test, y_test_pred_lgb)\n",
        "lgb_recall = recall_score(y_test, y_test_pred_lgb)\n",
        "\n",
        "print(\"LightGBM Train Accuracy:\", lgb_train_acc)\n",
        "print(\"LightGBM Test Accuracy:\", lgb_test_acc)\n",
        "print(\"LightGBM F1 Score:\", lgb_f1)\n",
        "print(\"LightGBM Precision:\", lgb_precision)\n",
        "print(\"LightGBM Recall:\", lgb_recall)"
      ]
    },
    {
      "cell_type": "code",
      "execution_count": null,
      "metadata": {
        "id": "DwJCW-onc4kI"
      },
      "outputs": [],
      "source": [
        "importance_lgb = lgb_model.feature_importances_"
      ]
    },
    {
      "cell_type": "markdown",
      "metadata": {
        "id": "FrPeeWz1BZMP"
      },
      "source": [
        "#Catboost"
      ]
    },
    {
      "cell_type": "code",
      "execution_count": null,
      "metadata": {
        "colab": {
          "base_uri": "https://localhost:8080/"
        },
        "id": "xv3N-x5qBbPk",
        "outputId": "8e2b3181-75c3-4421-b85b-4ba9dd3a9949"
      },
      "outputs": [
        {
          "output_type": "stream",
          "name": "stdout",
          "text": [
            "CatBoost Accuracy: 0.9368770764119602\n",
            "[[833  31]\n",
            " [ 45 295]]\n",
            "              precision    recall  f1-score   support\n",
            "\n",
            "           0       0.95      0.96      0.96       864\n",
            "           1       0.90      0.87      0.89       340\n",
            "\n",
            "    accuracy                           0.94      1204\n",
            "   macro avg       0.93      0.92      0.92      1204\n",
            "weighted avg       0.94      0.94      0.94      1204\n",
            "\n",
            "CatBoost Train Accuracy: 0.9781795511221946\n",
            "CatBoost Test Accuracy: 0.9368770764119602\n",
            "CatBoost F1 Score: 0.885885885885886\n",
            "CatBoost Precision: 0.9049079754601227\n",
            "CatBoost Recall: 0.8676470588235294\n"
          ]
        }
      ],
      "source": [
        "cat_model = CatBoostClassifier(verbose=0)\n",
        "cat_model.fit(X_train, y_train)\n",
        "\n",
        "y_train_pred_cb = cat_model.predict(X_train)\n",
        "y_test_pred_cb = cat_model.predict(X_test)\n",
        "\n",
        "print(\"CatBoost Accuracy:\", accuracy_score(y_test, y_test_pred_cb))\n",
        "print(confusion_matrix(y_test, y_test_pred_cb))\n",
        "print(classification_report(y_test, y_test_pred_cb))\n",
        "\n",
        "\n",
        "cb_train_acc = accuracy_score(y_train, y_train_pred_cb)\n",
        "cb_test_acc = accuracy_score(y_test, y_test_pred_cb)\n",
        "cb_f1 = f1_score(y_test, y_test_pred_cb)\n",
        "cb_precision = precision_score(y_test, y_test_pred_cb)\n",
        "cb_recall = recall_score(y_test, y_test_pred_cb)\n",
        "\n",
        "print(\"CatBoost Train Accuracy:\", cb_train_acc)\n",
        "print(\"CatBoost Test Accuracy:\", cb_test_acc)\n",
        "print(\"CatBoost F1 Score:\", cb_f1)\n",
        "print(\"CatBoost Precision:\", cb_precision)\n",
        "print(\"CatBoost Recall:\", cb_recall)"
      ]
    },
    {
      "cell_type": "code",
      "execution_count": null,
      "metadata": {
        "id": "oJx110KIdMFz"
      },
      "outputs": [],
      "source": [
        "importance_cb = cat_model.feature_importances_"
      ]
    },
    {
      "cell_type": "markdown",
      "source": [
        "MLP CLassifier"
      ],
      "metadata": {
        "id": "_6X6h_ubNVlp"
      }
    },
    {
      "cell_type": "code",
      "source": [
        "from sklearn.neural_network import MLPClassifier # Import the MLPClassifier class\n"
      ],
      "metadata": {
        "id": "b4tvxYMMNZjL"
      },
      "execution_count": null,
      "outputs": []
    },
    {
      "cell_type": "code",
      "source": [
        "nn_mlp = MLPClassifier(max_iter=1000)\n",
        "nn_mlp.fit(X_train, y_train)\n",
        "y_train_pred_nn_mlp = nn_mlp.predict(X_train)\n",
        "y_test_pred_nn_mlp = nn_mlp.predict(X_test)\n",
        "nn_mlp_train_acc = accuracy_score(y_train, y_train_pred_nn_mlp)\n",
        "nn_mlp_test_acc = accuracy_score(y_test, y_test_pred_nn_mlp)\n",
        "nn_mlp_f1 = f1_score(y_test, y_test_pred_nn_mlp)\n",
        "nn_mlp_precision = precision_score(y_test, y_test_pred_nn_mlp)\n",
        "nn_mlp_recall = recall_score(y_test, y_test_pred_nn_mlp)"
      ],
      "metadata": {
        "id": "tAIaTiPvNXSi"
      },
      "execution_count": null,
      "outputs": []
    },
    {
      "cell_type": "code",
      "source": [
        "print(\"Neural Network Train Accuracy:\", nn_mlp_train_acc)\n",
        "print(\"Neural Network Test Accuracy:\", nn_mlp_test_acc)\n",
        "print(\"Neural Network F1 Score:\", nn_mlp_f1)\n",
        "print(\"Neural Network Precision:\", nn_mlp_precision)\n",
        "print(\"Neural Network Recall:\", nn_mlp_recall)"
      ],
      "metadata": {
        "colab": {
          "base_uri": "https://localhost:8080/"
        },
        "id": "eS7USD3ONhh6",
        "outputId": "40f547fd-1b18-458f-d004-a5023e538005"
      },
      "execution_count": null,
      "outputs": [
        {
          "output_type": "stream",
          "name": "stdout",
          "text": [
            "Neural Network Train Accuracy: 0.9407730673316709\n",
            "Neural Network Test Accuracy: 0.9269102990033222\n",
            "Neural Network F1 Score: 0.8728323699421965\n",
            "Neural Network Precision: 0.8579545454545454\n",
            "Neural Network Recall: 0.888235294117647\n"
          ]
        }
      ]
    },
    {
      "cell_type": "code",
      "source": [
        "from sklearn.inspection import permutation_importance"
      ],
      "metadata": {
        "id": "Tr8ufFzhPlQx"
      },
      "execution_count": null,
      "outputs": []
    },
    {
      "cell_type": "code",
      "source": [
        "importance_mlp = permutation_importance(nn_mlp, X_train, y_train, n_repeats=10, random_state=42).importances_mean\n"
      ],
      "metadata": {
        "id": "KN2Bu7MBPZhL"
      },
      "execution_count": null,
      "outputs": []
    },
    {
      "cell_type": "markdown",
      "metadata": {
        "id": "NN-IUxfgCwSw"
      },
      "source": [
        "#Results"
      ]
    },
    {
      "cell_type": "code",
      "source": [
        "\n",
        "results_df = pd.DataFrame({\n",
        "    'Model': ['Logistic Regression', 'Random Forest', 'KNN', 'SVM', 'Gradient Boosting', 'XGBoost', 'LightGBM', 'CatBoost','Neural Network (MLP)'],\n",
        "    'Train Accuracy': [lr_train_acc, rf_train_acc, knn_train_acc, svm_train_acc, gb_train_acc, xgb_train_acc, lgb_train_acc, cb_train_acc, nn_mlp_train_acc],\n",
        "    'Test Accuracy': [lr_test_acc, rf_test_acc, knn_test_acc, svm_test_acc, gb_test_acc, xgb_test_acc, lgb_test_acc, cb_test_acc, nn_mlp_test_acc],\n",
        "    'Precision': [lr_precision, rf_precision, knn_precision, svm_precision, gb_precision, xgb_precision, lgb_precision, cb_precision, nn_mlp_precision],\n",
        "    'Recall': [lr_recall, rf_recall, knn_recall, svm_recall, gb_recall, xgb_recall, lgb_recall, cb_recall, nn_mlp_recall],\n",
        "    'F1 Score': [lr_f1, rf_f1, knn_f1, svm_f1, gb_f1, xgb_f1, lgb_f1, cb_f1, nn_mlp_f1]\n",
        "})\n",
        "\n",
        "print(results_df)\n"
      ],
      "metadata": {
        "colab": {
          "base_uri": "https://localhost:8080/"
        },
        "id": "6QlTsZXvOu5t",
        "outputId": "866e401f-b1e4-4201-e94a-fdef9ac6ab5c"
      },
      "execution_count": null,
      "outputs": [
        {
          "output_type": "stream",
          "name": "stdout",
          "text": [
            "                  Model  Train Accuracy  Test Accuracy  Precision    Recall  \\\n",
            "0   Logistic Regression        0.854530       0.864618   0.750708  0.779412   \n",
            "1         Random Forest        0.998337       0.950166   0.945860  0.873529   \n",
            "2                   KNN        0.925603       0.899502   0.823009  0.820588   \n",
            "3                   SVM        0.850374       0.865449   0.740541  0.805882   \n",
            "4     Gradient Boosting        0.931837       0.909468   0.857585  0.814706   \n",
            "5               XGBoost        0.993766       0.941030   0.908815  0.879412   \n",
            "6              LightGBM        0.987739       0.941860   0.909091  0.882353   \n",
            "7              CatBoost        0.978180       0.936877   0.904908  0.867647   \n",
            "8  Neural Network (MLP)        0.940773       0.926910   0.857955  0.888235   \n",
            "\n",
            "   F1 Score  \n",
            "0  0.764791  \n",
            "1  0.908257  \n",
            "2  0.821797  \n",
            "3  0.771831  \n",
            "4  0.835596  \n",
            "5  0.893871  \n",
            "6  0.895522  \n",
            "7  0.885886  \n",
            "8  0.872832  \n"
          ]
        }
      ]
    },
    {
      "cell_type": "code",
      "source": [
        "results_df.to_csv('new_model_results.csv', index=False)\n"
      ],
      "metadata": {
        "id": "vwUfKtMDPIw7"
      },
      "execution_count": null,
      "outputs": []
    },
    {
      "cell_type": "code",
      "execution_count": null,
      "metadata": {
        "colab": {
          "base_uri": "https://localhost:8080/",
          "height": 667
        },
        "id": "m0V2fLyeDJle",
        "outputId": "d8d27bcc-03da-40fb-e0b7-2c25eef86efa"
      },
      "outputs": [
        {
          "output_type": "display_data",
          "data": {
            "text/plain": [
              "<Figure size 1000x600 with 1 Axes>"
            ],
            "image/png": "[encoded data removed]"
          },
          "metadata": {}
        }
      ],
      "source": [
        "import matplotlib.pyplot as plt\n",
        "plt.figure(figsize=(10, 6))\n",
        "plt.bar(results_df['Model'], results_df['Test Accuracy'], color='skyblue')\n",
        "plt.xlabel('Models')\n",
        "plt.ylabel('Accuracy')\n",
        "plt.title('Model Comparison')\n",
        "plt.xticks(rotation=45)\n",
        "plt.ylim(0, 1)\n",
        "plt.show()\n"
      ]
    },
    {
      "cell_type": "markdown",
      "metadata": {
        "id": "NIGjM6dGdg6B"
      },
      "source": [
        "# Important Feature"
      ]
    },
    {
      "cell_type": "code",
      "execution_count": null,
      "metadata": {
        "id": "_fqLHjCue8yf"
      },
      "outputs": [],
      "source": [
        "from sklearn.preprocessing import MinMaxScaler"
      ]
    },
    {
      "cell_type": "code",
      "execution_count": null,
      "metadata": {
        "colab": {
          "base_uri": "https://localhost:8080/"
        },
        "id": "ZqLZOqFJdjs3",
        "outputId": "074b4db3-a8a8-4d15-de34-dd3f8fdd8634"
      },
      "outputs": [
        {
          "output_type": "stream",
          "name": "stdout",
          "text": [
            "                                Mean Importance\n",
            "num_external_links                     0.683885\n",
            "num_internal_links                     0.661173\n",
            "num_password_fields                    0.580848\n",
            "num_meta_tags                          0.540401\n",
            "num_scripts                            0.428654\n",
            "url_length                             0.387216\n",
            "num_images                             0.382620\n",
            "num_special_chars                      0.380602\n",
            "num_dots_in_url                        0.296862\n",
            "num_style_tags                         0.215309\n",
            "num_inputs                             0.207658\n",
            "num_js_functions                       0.203524\n",
            "num_hidden_fields                      0.201009\n",
            "num_inline_styles                      0.194285\n",
            "num_forms                              0.179925\n",
            "has_escape_js                          0.172772\n",
            "num_subdomains                         0.167166\n",
            "suspicious_url                         0.148231\n",
            "num_external_form_actions              0.145473\n",
            "has_settimeout_js                      0.139860\n",
            "num_iframes                            0.116735\n",
            "num_onload_attributes                  0.115764\n",
            "has_unescape_js                        0.098318\n",
            "num_mailto_links                       0.090297\n",
            "num_onerror_attributes                 0.088472\n",
            "has_setinterval_js                     0.067037\n",
            "num_refresh_meta                       0.064602\n",
            "num_images_with_suspicious_url         0.048377\n",
            "has_eval_js                            0.023450\n",
            "num_hidden_iframes                     0.014422\n",
            "has_https                              0.000000\n"
          ]
        }
      ],
      "source": [
        "def normalize_importances(importances):\n",
        "    scaler = MinMaxScaler()\n",
        "    return scaler.fit_transform(importances.reshape(-1, 1)).flatten()\n",
        "\n",
        "normalized_importances = {\n",
        "    'Logistic Regression': normalize_importances(importance_lr),\n",
        "    'Random Forest': normalize_importances(importance_rf),\n",
        "    'KNN': normalize_importances(importance_knn),\n",
        "    'SVM': normalize_importances(importance_svm),\n",
        "    'Gradient Boosting': normalize_importances(importance_gb),\n",
        "    'XGBoost': normalize_importances(importance_xgb),\n",
        "    'LightGBM': normalize_importances(importance_lgb),\n",
        "    'CatBoost': normalize_importances(importance_cb),\n",
        "    'Neural Network (MLP)': normalize_importances(importance_mlp)\n",
        "\n",
        "\n",
        "}\n",
        "\n",
        "normalized_importances_df = pd.DataFrame(normalized_importances, index=feature_names)\n",
        "normalized_importances_df['Mean Importance'] = normalized_importances_df.mean(axis=1)\n",
        "ranked_features = normalized_importances_df.sort_values(by='Mean Importance', ascending=False)\n",
        "print(ranked_features[['Mean Importance']])"
      ]
    },
    {
      "cell_type": "code",
      "execution_count": null,
      "metadata": {
        "id": "09Al-fN29yQb"
      },
      "outputs": [],
      "source": [
        "import numpy as np\n",
        "import pandas as pd\n",
        "from sklearn.preprocessing import MinMaxScaler\n",
        "import matplotlib.pyplot as plt"
      ]
    },
    {
      "cell_type": "code",
      "execution_count": null,
      "metadata": {
        "colab": {
          "base_uri": "https://localhost:8080/",
          "height": 718
        },
        "id": "tktWESTOG0aT",
        "outputId": "dd8397da-152d-4e50-ff00-b8585c24b875"
      },
      "outputs": [
        {
          "output_type": "display_data",
          "data": {
            "text/plain": [
              "<Figure size 1000x800 with 1 Axes>"
            ],
            "image/png": "[encoded data removed]"
          },
          "metadata": {}
        }
      ],
      "source": [
        "plt.figure(figsize=(10, 8))\n",
        "plt.barh(ranked_features.index, ranked_features['Mean Importance'], color='skyblue')\n",
        "plt.xlabel('Mean Importance')\n",
        "plt.ylabel('Feature')\n",
        "plt.title('Feature Importances')\n",
        "plt.gca().invert_yaxis()\n",
        "plt.show()\n"
      ]
    },
    {
      "cell_type": "markdown",
      "metadata": {
        "id": "ngY4TbuaIDUH"
      },
      "source": [
        "#Testing"
      ]
    },
    {
      "cell_type": "code",
      "execution_count": null,
      "metadata": {
        "id": "8cyBd3qvIIC3"
      },
      "outputs": [],
      "source": [
        "import requests\n",
        "from bs4 import BeautifulSoup\n",
        "import pandas as pd\n",
        "import re\n",
        "from urllib.parse import urlparse"
      ]
    },
    {
      "cell_type": "code",
      "execution_count": null,
      "metadata": {
        "colab": {
          "background_save": true
        },
        "id": "uKgbScZHHKnX"
      },
      "outputs": [],
      "source": [
        "def extract_features(soup, url):\n",
        "    parsed_url = urlparse(url)\n",
        "    filename = parsed_url.path.split('/')[-1] or 'index.html'\n",
        "    features = {\n",
        "        'url': url,\n",
        "        'url_length': len(url),\n",
        "        'num_dots_in_url': url.count('.'),\n",
        "        'num_special_chars': len(re.findall(r'[@\\-_=&]', url)),\n",
        "        'num_subdomains': url.count('.') - 1,\n",
        "        'num_forms': len(soup.find_all('form')),\n",
        "        'num_inputs': len(soup.find_all('input')),\n",
        "        'num_password_fields': len(soup.find_all('input', {'type': 'password'})),\n",
        "        'num_external_links': len([link for link in soup.find_all('a', href=True) if urlparse(link['href']).netloc]),\n",
        "        'num_internal_links': len([link for link in soup.find_all('a', href=True) if not urlparse(link['href']).netloc]),\n",
        "        'num_hidden_fields': len(soup.find_all('input', {'type': 'hidden'})),\n",
        "        'num_mailto_links': len(soup.find_all('a', href=re.compile(r'^mailto:'))),\n",
        "        'num_scripts': len(soup.find_all('script')),\n",
        "        'num_js_functions': sum([str(script).count('function') for script in soup.find_all('script')]),\n",
        "        'has_eval_js': int(any('eval(' in str(script) for script in soup.find_all('script'))),\n",
        "        'has_escape_js': int(any('escape(' in str(script) for script in soup.find_all('script'))),\n",
        "        'has_unescape_js': int(any('unescape(' in str(script) for script in soup.find_all('script'))),\n",
        "        'has_settimeout_js': int(any('setTimeout(' in str(script) for script in soup.find_all('script'))),\n",
        "        'has_setinterval_js': int(any('setInterval(' in str(script) for script in soup.find_all('script'))),\n",
        "        'has_https': int(url.startswith('https://')),\n",
        "        'suspicious_url': int(any(keyword in url.lower() for keyword in ['login', 'bank', 'verify', 'secure', 'account'])),\n",
        "        'num_meta_tags': len(soup.find_all('meta')),\n",
        "        'num_refresh_meta': len(soup.find_all('meta', attrs={'http-equiv': 'refresh'})),\n",
        "        'num_iframes': len(soup.find_all('iframe')),\n",
        "        'num_hidden_iframes': len([iframe for iframe in soup.find_all('iframe') if iframe.get('style') == 'display:none']),\n",
        "        'num_images': len(soup.find_all('img')),\n",
        "        'num_images_with_suspicious_url': len([img for img in soup.find_all('img') if any(keyword in img.get('src', '').lower() for keyword in ['login', 'bank', 'verify', 'secure', 'account'])]),\n",
        "        'num_style_tags': len(soup.find_all('style')),\n",
        "        'num_inline_styles': len(soup.find_all(style=True)),\n",
        "        'num_onload_attributes': len(soup.find_all(attrs={'onload': True})),\n",
        "        'num_onerror_attributes': len(soup.find_all(attrs={'onerror': True})),\n",
        "        'num_external_form_actions': len([form for form in soup.find_all('form') if urlparse(form.get('action', '')).netloc])\n",
        "    }\n",
        "\n",
        "    return features\n"
      ]
    },
    {
      "cell_type": "code",
      "execution_count": null,
      "metadata": {
        "id": "4Qf3c184SE4t"
      },
      "outputs": [],
      "source": [
        " #https://en.wikipedia.org/wiki/Web_scraping"
      ]
    },
    {
      "cell_type": "code",
      "execution_count": null,
      "metadata": {
        "colab": {
          "base_uri": "https://localhost:8080/",
          "height": 164
        },
        "id": "hsH77yydIGKg",
        "outputId": "1efc5a34-fa0b-4df5-e0f5-e1d85193229c"
      },
      "outputs": [
        {
          "name": "stdout",
          "output_type": "stream",
          "text": [
            "Enter a URL: https://en.wikipedia.org/wiki/Web_scraping\n",
            "Processed URL: https://en.wikipedia.org/wiki/Web_scraping\n"
          ]
        },
        {
          "data": {
            "application/vnd.google.colaboratory.intrinsic+json": {
              "type": "dataframe",
              "variable_name": "test_df"
            },
            "text/html": [
              "\n",
              "  <div id=\"df-290d1e7a-8aad-483a-b253-a087673c599d\" class=\"colab-df-container\">\n",
              "    <div>\n",
              "<style scoped>\n",
              "    .dataframe tbody tr th:only-of-type {\n",
              "        vertical-align: middle;\n",
              "    }\n",
              "\n",
              "    .dataframe tbody tr th {\n",
              "        vertical-align: top;\n",
              "    }\n",
              "\n",
              "    .dataframe thead th {\n",
              "        text-align: right;\n",
              "    }\n",
              "</style>\n",
              "<table border=\"1\" class=\"dataframe\">\n",
              "  <thead>\n",
              "    <tr style=\"text-align: right;\">\n",
              "      <th></th>\n",
              "      <th>url</th>\n",
              "      <th>url_length</th>\n",
              "      <th>num_dots_in_url</th>\n",
              "      <th>num_special_chars</th>\n",
              "      <th>num_subdomains</th>\n",
              "      <th>num_forms</th>\n",
              "      <th>num_inputs</th>\n",
              "      <th>num_password_fields</th>\n",
              "      <th>num_external_links</th>\n",
              "      <th>num_internal_links</th>\n",
              "      <th>...</th>\n",
              "      <th>num_refresh_meta</th>\n",
              "      <th>num_iframes</th>\n",
              "      <th>num_hidden_iframes</th>\n",
              "      <th>num_images</th>\n",
              "      <th>num_images_with_suspicious_url</th>\n",
              "      <th>num_style_tags</th>\n",
              "      <th>num_inline_styles</th>\n",
              "      <th>num_onload_attributes</th>\n",
              "      <th>num_onerror_attributes</th>\n",
              "      <th>num_external_form_actions</th>\n",
              "    </tr>\n",
              "  </thead>\n",
              "  <tbody>\n",
              "    <tr>\n",
              "      <th>0</th>\n",
              "      <td>https://en.wikipedia.org/wiki/Web_scraping</td>\n",
              "      <td>42</td>\n",
              "      <td>2</td>\n",
              "      <td>1</td>\n",
              "      <td>1</td>\n",
              "      <td>1</td>\n",
              "      <td>9</td>\n",
              "      <td>0</td>\n",
              "      <td>100</td>\n",
              "      <td>316</td>\n",
              "      <td>...</td>\n",
              "      <td>0</td>\n",
              "      <td>0</td>\n",
              "      <td>0</td>\n",
              "      <td>8</td>\n",
              "      <td>1</td>\n",
              "      <td>5</td>\n",
              "      <td>9</td>\n",
              "      <td>0</td>\n",
              "      <td>0</td>\n",
              "      <td>0</td>\n",
              "    </tr>\n",
              "  </tbody>\n",
              "</table>\n",
              "<p>1 rows × 32 columns</p>\n",
              "</div>\n",
              "    <div class=\"colab-df-buttons\">\n",
              "\n",
              "  <div class=\"colab-df-container\">\n",
              "    <button class=\"colab-df-convert\" onclick=\"convertToInteractive('df-290d1e7a-8aad-483a-b253-a087673c599d')\"\n",
              "            title=\"Convert this dataframe to an interactive table.\"\n",
              "            style=\"display:none;\">\n",
              "\n",
              "  <svg xmlns=\"http://www.w3.org/2000/svg\" height=\"24px\" viewBox=\"0 -960 960 960\">\n",
              "    <path d=\"M120-120v-720h720v720H120Zm60-500h600v-160H180v160Zm220 220h160v-160H400v160Zm0 220h160v-160H400v160ZM180-400h160v-160H180v160Zm440 0h160v-160H620v160ZM180-180h160v-160H180v160Zm440 0h160v-160H620v160Z\"/>\n",
              "  </svg>\n",
              "    </button>\n",
              "\n",
              "  <style>\n",
              "    .colab-df-container {\n",
              "      display:flex;\n",
              "      gap: 12px;\n",
              "    }\n",
              "\n",
              "    .colab-df-convert {\n",
              "      background-color: #E8F0FE;\n",
              "      border: none;\n",
              "      border-radius: 50%;\n",
              "      cursor: pointer;\n",
              "      display: none;\n",
              "      fill: #1967D2;\n",
              "      height: 32px;\n",
              "      padding: 0 0 0 0;\n",
              "      width: 32px;\n",
              "    }\n",
              "\n",
              "    .colab-df-convert:hover {\n",
              "      background-color: #E2EBFA;\n",
              "      box-shadow: 0px 1px 2px rgba(60, 64, 67, 0.3), 0px 1px 3px 1px rgba(60, 64, 67, 0.15);\n",
              "      fill: #174EA6;\n",
              "    }\n",
              "\n",
              "    .colab-df-buttons div {\n",
              "      margin-bottom: 4px;\n",
              "    }\n",
              "\n",
              "    [theme=dark] .colab-df-convert {\n",
              "      background-color: #3B4455;\n",
              "      fill: #D2E3FC;\n",
              "    }\n",
              "\n",
              "    [theme=dark] .colab-df-convert:hover {\n",
              "      background-color: #434B5C;\n",
              "      box-shadow: 0px 1px 3px 1px rgba(0, 0, 0, 0.15);\n",
              "      filter: drop-shadow(0px 1px 2px rgba(0, 0, 0, 0.3));\n",
              "      fill: #FFFFFF;\n",
              "    }\n",
              "  </style>\n",
              "\n",
              "    <script>\n",
              "      const buttonEl =\n",
              "        document.querySelector('#df-290d1e7a-8aad-483a-b253-a087673c599d button.colab-df-convert');\n",
              "      buttonEl.style.display =\n",
              "        google.colab.kernel.accessAllowed ? 'block' : 'none';\n",
              "\n",
              "      async function convertToInteractive(key) {\n",
              "        const element = document.querySelector('#df-290d1e7a-8aad-483a-b253-a087673c599d');\n",
              "        const dataTable =\n",
              "          await google.colab.kernel.invokeFunction('convertToInteractive',\n",
              "                                                    [key], {});\n",
              "        if (!dataTable) return;\n",
              "\n",
              "        const docLinkHtml = 'Like what you see? Visit the ' +\n",
              "          '<a target=\"_blank\" href=https://colab.research.google.com/notebooks/data_table.ipynb>data table notebook</a>'\n",
              "          + ' to learn more about interactive tables.';\n",
              "        element.innerHTML = '';\n",
              "        dataTable['output_type'] = 'display_data';\n",
              "        await google.colab.output.renderOutput(dataTable, element);\n",
              "        const docLink = document.createElement('div');\n",
              "        docLink.innerHTML = docLinkHtml;\n",
              "        element.appendChild(docLink);\n",
              "      }\n",
              "    </script>\n",
              "  </div>\n",
              "\n",
              "\n",
              "  <div id=\"id_95fa0d29-f2ba-47da-9150-96d79df865c5\">\n",
              "    <style>\n",
              "      .colab-df-generate {\n",
              "        background-color: #E8F0FE;\n",
              "        border: none;\n",
              "        border-radius: 50%;\n",
              "        cursor: pointer;\n",
              "        display: none;\n",
              "        fill: #1967D2;\n",
              "        height: 32px;\n",
              "        padding: 0 0 0 0;\n",
              "        width: 32px;\n",
              "      }\n",
              "\n",
              "      .colab-df-generate:hover {\n",
              "        background-color: #E2EBFA;\n",
              "        box-shadow: 0px 1px 2px rgba(60, 64, 67, 0.3), 0px 1px 3px 1px rgba(60, 64, 67, 0.15);\n",
              "        fill: #174EA6;\n",
              "      }\n",
              "\n",
              "      [theme=dark] .colab-df-generate {\n",
              "        background-color: #3B4455;\n",
              "        fill: #D2E3FC;\n",
              "      }\n",
              "\n",
              "      [theme=dark] .colab-df-generate:hover {\n",
              "        background-color: #434B5C;\n",
              "        box-shadow: 0px 1px 3px 1px rgba(0, 0, 0, 0.15);\n",
              "        filter: drop-shadow(0px 1px 2px rgba(0, 0, 0, 0.3));\n",
              "        fill: #FFFFFF;\n",
              "      }\n",
              "    </style>\n",
              "    <button class=\"colab-df-generate\" onclick=\"generateWithVariable('test_df')\"\n",
              "            title=\"Generate code using this dataframe.\"\n",
              "            style=\"display:none;\">\n",
              "\n",
              "  <svg xmlns=\"http://www.w3.org/2000/svg\" height=\"24px\"viewBox=\"0 0 24 24\"\n",
              "       width=\"24px\">\n",
              "    <path d=\"M7,19H8.4L18.45,9,17,7.55,7,17.6ZM5,21V16.75L18.45,3.32a2,2,0,0,1,2.83,0l1.4,1.43a1.91,1.91,0,0,1,.58,1.4,1.91,1.91,0,0,1-.58,1.4L9.25,21ZM18.45,9,17,7.55Zm-12,3A5.31,5.31,0,0,0,4.9,8.1,5.31,5.31,0,0,0,1,6.5,5.31,5.31,0,0,0,4.9,4.9,5.31,5.31,0,0,0,6.5,1,5.31,5.31,0,0,0,8.1,4.9,5.31,5.31,0,0,0,12,6.5,5.46,5.46,0,0,0,6.5,12Z\"/>\n",
              "  </svg>\n",
              "    </button>\n",
              "    <script>\n",
              "      (() => {\n",
              "      const buttonEl =\n",
              "        document.querySelector('#id_95fa0d29-f2ba-47da-9150-96d79df865c5 button.colab-df-generate');\n",
              "      buttonEl.style.display =\n",
              "        google.colab.kernel.accessAllowed ? 'block' : 'none';\n",
              "\n",
              "      buttonEl.onclick = () => {\n",
              "        google.colab.notebook.generateWithVariable('test_df');\n",
              "      }\n",
              "      })();\n",
              "    </script>\n",
              "  </div>\n",
              "\n",
              "    </div>\n",
              "  </div>\n"
            ],
            "text/plain": [
              "                                          url  url_length  num_dots_in_url  \\\n",
              "0  https://en.wikipedia.org/wiki/Web_scraping          42                2   \n",
              "\n",
              "   num_special_chars  num_subdomains  num_forms  num_inputs  \\\n",
              "0                  1               1          1           9   \n",
              "\n",
              "   num_password_fields  num_external_links  num_internal_links  ...  \\\n",
              "0                    0                 100                 316  ...   \n",
              "\n",
              "   num_refresh_meta  num_iframes  num_hidden_iframes  num_images  \\\n",
              "0                 0            0                   0           8   \n",
              "\n",
              "   num_images_with_suspicious_url  num_style_tags  num_inline_styles  \\\n",
              "0                               1               5                  9   \n",
              "\n",
              "   num_onload_attributes  num_onerror_attributes  num_external_form_actions  \n",
              "0                      0                       0                          0  \n",
              "\n",
              "[1 rows x 32 columns]"
            ]
          },
          "execution_count": 51,
          "metadata": {},
          "output_type": "execute_result"
        }
      ],
      "source": [
        "url= input(\"Enter a URL: \")\n",
        "data = []\n",
        "\n",
        "try:\n",
        "  response = requests.get(url)\n",
        "  response.raise_for_status()\n",
        "  soup = BeautifulSoup(response.content, 'html.parser')\n",
        "  features = extract_features(soup, url)\n",
        "  data.append(features)\n",
        "  print(f\"Processed URL: {url}\")\n",
        "\n",
        "except requests.exceptions.RequestException as e:\n",
        "  print(f\"Error fetching {url}: {e}\")\n",
        "\n",
        "test_df = pd.DataFrame(data)\n",
        "test_df"
      ]
    },
    {
      "cell_type": "code",
      "execution_count": null,
      "metadata": {
        "colab": {
          "base_uri": "https://localhost:8080/",
          "height": 130
        },
        "id": "A_aP-h6rRa6N",
        "outputId": "84419142-58c8-4921-e6ce-57c2d9a2f9b5"
      },
      "outputs": [
        {
          "data": {
            "application/vnd.google.colaboratory.intrinsic+json": {
              "type": "dataframe",
              "variable_name": "test_df_without_url"
            },
            "text/html": [
              "\n",
              "  <div id=\"df-bc6bf033-6859-4a2c-ae4b-6e926996cf24\" class=\"colab-df-container\">\n",
              "    <div>\n",
              "<style scoped>\n",
              "    .dataframe tbody tr th:only-of-type {\n",
              "        vertical-align: middle;\n",
              "    }\n",
              "\n",
              "    .dataframe tbody tr th {\n",
              "        vertical-align: top;\n",
              "    }\n",
              "\n",
              "    .dataframe thead th {\n",
              "        text-align: right;\n",
              "    }\n",
              "</style>\n",
              "<table border=\"1\" class=\"dataframe\">\n",
              "  <thead>\n",
              "    <tr style=\"text-align: right;\">\n",
              "      <th></th>\n",
              "      <th>url_length</th>\n",
              "      <th>num_dots_in_url</th>\n",
              "      <th>num_special_chars</th>\n",
              "      <th>num_subdomains</th>\n",
              "      <th>num_forms</th>\n",
              "      <th>num_inputs</th>\n",
              "      <th>num_password_fields</th>\n",
              "      <th>num_external_links</th>\n",
              "      <th>num_internal_links</th>\n",
              "      <th>num_hidden_fields</th>\n",
              "      <th>...</th>\n",
              "      <th>num_refresh_meta</th>\n",
              "      <th>num_iframes</th>\n",
              "      <th>num_hidden_iframes</th>\n",
              "      <th>num_images</th>\n",
              "      <th>num_images_with_suspicious_url</th>\n",
              "      <th>num_style_tags</th>\n",
              "      <th>num_inline_styles</th>\n",
              "      <th>num_onload_attributes</th>\n",
              "      <th>num_onerror_attributes</th>\n",
              "      <th>num_external_form_actions</th>\n",
              "    </tr>\n",
              "  </thead>\n",
              "  <tbody>\n",
              "    <tr>\n",
              "      <th>0</th>\n",
              "      <td>42</td>\n",
              "      <td>2</td>\n",
              "      <td>1</td>\n",
              "      <td>1</td>\n",
              "      <td>1</td>\n",
              "      <td>9</td>\n",
              "      <td>0</td>\n",
              "      <td>100</td>\n",
              "      <td>316</td>\n",
              "      <td>1</td>\n",
              "      <td>...</td>\n",
              "      <td>0</td>\n",
              "      <td>0</td>\n",
              "      <td>0</td>\n",
              "      <td>8</td>\n",
              "      <td>1</td>\n",
              "      <td>5</td>\n",
              "      <td>9</td>\n",
              "      <td>0</td>\n",
              "      <td>0</td>\n",
              "      <td>0</td>\n",
              "    </tr>\n",
              "  </tbody>\n",
              "</table>\n",
              "<p>1 rows × 31 columns</p>\n",
              "</div>\n",
              "    <div class=\"colab-df-buttons\">\n",
              "\n",
              "  <div class=\"colab-df-container\">\n",
              "    <button class=\"colab-df-convert\" onclick=\"convertToInteractive('df-bc6bf033-6859-4a2c-ae4b-6e926996cf24')\"\n",
              "            title=\"Convert this dataframe to an interactive table.\"\n",
              "            style=\"display:none;\">\n",
              "\n",
              "  <svg xmlns=\"http://www.w3.org/2000/svg\" height=\"24px\" viewBox=\"0 -960 960 960\">\n",
              "    <path d=\"M120-120v-720h720v720H120Zm60-500h600v-160H180v160Zm220 220h160v-160H400v160Zm0 220h160v-160H400v160ZM180-400h160v-160H180v160Zm440 0h160v-160H620v160ZM180-180h160v-160H180v160Zm440 0h160v-160H620v160Z\"/>\n",
              "  </svg>\n",
              "    </button>\n",
              "\n",
              "  <style>\n",
              "    .colab-df-container {\n",
              "      display:flex;\n",
              "      gap: 12px;\n",
              "    }\n",
              "\n",
              "    .colab-df-convert {\n",
              "      background-color: #E8F0FE;\n",
              "      border: none;\n",
              "      border-radius: 50%;\n",
              "      cursor: pointer;\n",
              "      display: none;\n",
              "      fill: #1967D2;\n",
              "      height: 32px;\n",
              "      padding: 0 0 0 0;\n",
              "      width: 32px;\n",
              "    }\n",
              "\n",
              "    .colab-df-convert:hover {\n",
              "      background-color: #E2EBFA;\n",
              "      box-shadow: 0px 1px 2px rgba(60, 64, 67, 0.3), 0px 1px 3px 1px rgba(60, 64, 67, 0.15);\n",
              "      fill: #174EA6;\n",
              "    }\n",
              "\n",
              "    .colab-df-buttons div {\n",
              "      margin-bottom: 4px;\n",
              "    }\n",
              "\n",
              "    [theme=dark] .colab-df-convert {\n",
              "      background-color: #3B4455;\n",
              "      fill: #D2E3FC;\n",
              "    }\n",
              "\n",
              "    [theme=dark] .colab-df-convert:hover {\n",
              "      background-color: #434B5C;\n",
              "      box-shadow: 0px 1px 3px 1px rgba(0, 0, 0, 0.15);\n",
              "      filter: drop-shadow(0px 1px 2px rgba(0, 0, 0, 0.3));\n",
              "      fill: #FFFFFF;\n",
              "    }\n",
              "  </style>\n",
              "\n",
              "    <script>\n",
              "      const buttonEl =\n",
              "        document.querySelector('#df-bc6bf033-6859-4a2c-ae4b-6e926996cf24 button.colab-df-convert');\n",
              "      buttonEl.style.display =\n",
              "        google.colab.kernel.accessAllowed ? 'block' : 'none';\n",
              "\n",
              "      async function convertToInteractive(key) {\n",
              "        const element = document.querySelector('#df-bc6bf033-6859-4a2c-ae4b-6e926996cf24');\n",
              "        const dataTable =\n",
              "          await google.colab.kernel.invokeFunction('convertToInteractive',\n",
              "                                                    [key], {});\n",
              "        if (!dataTable) return;\n",
              "\n",
              "        const docLinkHtml = 'Like what you see? Visit the ' +\n",
              "          '<a target=\"_blank\" href=https://colab.research.google.com/notebooks/data_table.ipynb>data table notebook</a>'\n",
              "          + ' to learn more about interactive tables.';\n",
              "        element.innerHTML = '';\n",
              "        dataTable['output_type'] = 'display_data';\n",
              "        await google.colab.output.renderOutput(dataTable, element);\n",
              "        const docLink = document.createElement('div');\n",
              "        docLink.innerHTML = docLinkHtml;\n",
              "        element.appendChild(docLink);\n",
              "      }\n",
              "    </script>\n",
              "  </div>\n",
              "\n",
              "\n",
              "  <div id=\"id_cb0aff9b-acfc-4ca5-b2cc-e0109a550e0f\">\n",
              "    <style>\n",
              "      .colab-df-generate {\n",
              "        background-color: #E8F0FE;\n",
              "        border: none;\n",
              "        border-radius: 50%;\n",
              "        cursor: pointer;\n",
              "        display: none;\n",
              "        fill: #1967D2;\n",
              "        height: 32px;\n",
              "        padding: 0 0 0 0;\n",
              "        width: 32px;\n",
              "      }\n",
              "\n",
              "      .colab-df-generate:hover {\n",
              "        background-color: #E2EBFA;\n",
              "        box-shadow: 0px 1px 2px rgba(60, 64, 67, 0.3), 0px 1px 3px 1px rgba(60, 64, 67, 0.15);\n",
              "        fill: #174EA6;\n",
              "      }\n",
              "\n",
              "      [theme=dark] .colab-df-generate {\n",
              "        background-color: #3B4455;\n",
              "        fill: #D2E3FC;\n",
              "      }\n",
              "\n",
              "      [theme=dark] .colab-df-generate:hover {\n",
              "        background-color: #434B5C;\n",
              "        box-shadow: 0px 1px 3px 1px rgba(0, 0, 0, 0.15);\n",
              "        filter: drop-shadow(0px 1px 2px rgba(0, 0, 0, 0.3));\n",
              "        fill: #FFFFFF;\n",
              "      }\n",
              "    </style>\n",
              "    <button class=\"colab-df-generate\" onclick=\"generateWithVariable('test_df_without_url')\"\n",
              "            title=\"Generate code using this dataframe.\"\n",
              "            style=\"display:none;\">\n",
              "\n",
              "  <svg xmlns=\"http://www.w3.org/2000/svg\" height=\"24px\"viewBox=\"0 0 24 24\"\n",
              "       width=\"24px\">\n",
              "    <path d=\"M7,19H8.4L18.45,9,17,7.55,7,17.6ZM5,21V16.75L18.45,3.32a2,2,0,0,1,2.83,0l1.4,1.43a1.91,1.91,0,0,1,.58,1.4,1.91,1.91,0,0,1-.58,1.4L9.25,21ZM18.45,9,17,7.55Zm-12,3A5.31,5.31,0,0,0,4.9,8.1,5.31,5.31,0,0,0,1,6.5,5.31,5.31,0,0,0,4.9,4.9,5.31,5.31,0,0,0,6.5,1,5.31,5.31,0,0,0,8.1,4.9,5.31,5.31,0,0,0,12,6.5,5.46,5.46,0,0,0,6.5,12Z\"/>\n",
              "  </svg>\n",
              "    </button>\n",
              "    <script>\n",
              "      (() => {\n",
              "      const buttonEl =\n",
              "        document.querySelector('#id_cb0aff9b-acfc-4ca5-b2cc-e0109a550e0f button.colab-df-generate');\n",
              "      buttonEl.style.display =\n",
              "        google.colab.kernel.accessAllowed ? 'block' : 'none';\n",
              "\n",
              "      buttonEl.onclick = () => {\n",
              "        google.colab.notebook.generateWithVariable('test_df_without_url');\n",
              "      }\n",
              "      })();\n",
              "    </script>\n",
              "  </div>\n",
              "\n",
              "    </div>\n",
              "  </div>\n"
            ],
            "text/plain": [
              "   url_length  num_dots_in_url  num_special_chars  num_subdomains  num_forms  \\\n",
              "0          42                2                  1               1          1   \n",
              "\n",
              "   num_inputs  num_password_fields  num_external_links  num_internal_links  \\\n",
              "0           9                    0                 100                 316   \n",
              "\n",
              "   num_hidden_fields  ...  num_refresh_meta  num_iframes  num_hidden_iframes  \\\n",
              "0                  1  ...                 0            0                   0   \n",
              "\n",
              "   num_images  num_images_with_suspicious_url  num_style_tags  \\\n",
              "0           8                               1               5   \n",
              "\n",
              "   num_inline_styles  num_onload_attributes  num_onerror_attributes  \\\n",
              "0                  9                      0                       0   \n",
              "\n",
              "   num_external_form_actions  \n",
              "0                          0  \n",
              "\n",
              "[1 rows x 31 columns]"
            ]
          },
          "execution_count": 58,
          "metadata": {},
          "output_type": "execute_result"
        }
      ],
      "source": [
        "test_df_without_url = test_df.drop('url', axis=1)\n",
        "test_df_without_url"
      ]
    },
    {
      "cell_type": "code",
      "execution_count": null,
      "metadata": {
        "colab": {
          "background_save": true
        },
        "id": "Z6BntqDiRNYZ",
        "outputId": "e46c4a79-9970-4a40-8be6-6ee7a7831600"
      },
      "outputs": [
        {
          "ename": "NameError",
          "evalue": "name 'scaler' is not defined",
          "output_type": "error",
          "traceback": [
            "\u001b[0;31m---------------------------------------------------------------------------\u001b[0m",
            "\u001b[0;31mNameError\u001b[0m                                 Traceback (most recent call last)",
            "\u001b[0;32m<ipython-input-5-88e6632bb9fb>\u001b[0m in \u001b[0;36m<cell line: 1>\u001b[0;34m()\u001b[0m\n\u001b[0;32m----> 1\u001b[0;31m \u001b[0mtext_url\u001b[0m \u001b[0;34m=\u001b[0m \u001b[0mscaler\u001b[0m\u001b[0;34m.\u001b[0m\u001b[0mtransform\u001b[0m\u001b[0;34m(\u001b[0m\u001b[0mtest_df_without_url\u001b[0m\u001b[0;34m)\u001b[0m\u001b[0;34m\u001b[0m\u001b[0;34m\u001b[0m\u001b[0m\n\u001b[0m",
            "\u001b[0;31mNameError\u001b[0m: name 'scaler' is not defined"
          ]
        }
      ],
      "source": [
        "text_url = scaler.transform(test_df_without_url)"
      ]
    },
    {
      "cell_type": "code",
      "execution_count": null,
      "metadata": {
        "colab": {
          "base_uri": "https://localhost:8080/"
        },
        "id": "V2v4IoCfTkD7",
        "outputId": "6ab03e3b-9dcc-4e33-caf9-0f1a23dad917"
      },
      "outputs": [
        {
          "name": "stdout",
          "output_type": "stream",
          "text": [
            "Random Forest Prediction: [0]\n",
            "CatBoost Prediction: [0]\n",
            "XGBoost Prediction: [0]\n",
            "LightGBM Prediction: [0]\n"
          ]
        }
      ],
      "source": [
        "random_forest_prediction = rf.predict(text_url)\n",
        "print(\"Random Forest Prediction:\", random_forest_prediction)\n",
        "catboost_prediction = cat_model.predict(text_url)\n",
        "print(\"CatBoost Prediction:\", catboost_prediction)\n",
        "xgboost_prediction = xgb_model.predict(text_url)\n",
        "print(\"XGBoost Prediction:\", xgboost_prediction)\n",
        "lightgbm_prediction = lgb_model.predict(text_url)\n",
        "print(\"LightGBM Prediction:\", lightgbm_prediction)\n"
      ]
    }
  ],
  "metadata": {
    "accelerator": "GPU",
    "colab": {
      "gpuType": "T4",
      "provenance": []
    },
    "kernelspec": {
      "display_name": "Python 3",
      "name": "python3"
    },
    "language_info": {
      "name": "python"
    }
  },
  "nbformat": 4,
  "nbformat_minor": 0
}