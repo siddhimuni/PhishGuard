{
  "cells": [
    {
      "cell_type": "markdown",
      "source": [
        "# Classification"
      ],
      "metadata": {
        "id": "JpFGR3HBMw00"
      }
    },
    {
      "cell_type": "markdown",
      "metadata": {
        "id": "cXFShK2wwJvG"
      },
      "source": [
        "importing libraries"
      ]
    },
    {
      "cell_type": "code",
      "execution_count": null,
      "metadata": {
        "id": "-holaQha9JjS"
      },
      "outputs": [],
      "source": [
        "import pandas as pd\n",
        "import matplotlib.pyplot as plt\n",
        "import numpy as np\n",
        "from sklearn.model_selection import train_test_split\n",
        "from sklearn.preprocessing import StandardScaler"
      ]
    },
    {
      "cell_type": "code",
      "execution_count": null,
      "metadata": {
        "id": "5EI6pPOx-iTi"
      },
      "outputs": [],
      "source": [
        "from sklearn.metrics import accuracy_score, confusion_matrix, classification_report"
      ]
    },
    {
      "cell_type": "code",
      "source": [
        "\n",
        "!pip install catboost"
      ],
      "metadata": {
        "colab": {
          "base_uri": "https://localhost:8080/"
        },
        "id": "KU9MuGIF-D_N",
        "outputId": "30730655-4140-48c0-ea6e-23b269c2b1f8"
      },
      "execution_count": null,
      "outputs": [
        {
          "output_type": "stream",
          "name": "stdout",
          "text": [
            "Requirement already satisfied: catboost in /usr/local/lib/python3.10/dist-packages (1.2.5)\n",
            "Requirement already satisfied: graphviz in /usr/local/lib/python3.10/dist-packages (from catboost) (0.20.3)\n",
            "Requirement already satisfied: matplotlib in /usr/local/lib/python3.10/dist-packages (from catboost) (3.7.1)\n",
            "Requirement already satisfied: numpy>=1.16.0 in /usr/local/lib/python3.10/dist-packages (from catboost) (1.26.4)\n",
            "Requirement already satisfied: pandas>=0.24 in /usr/local/lib/python3.10/dist-packages (from catboost) (2.1.4)\n",
            "Requirement already satisfied: scipy in /usr/local/lib/python3.10/dist-packages (from catboost) (1.13.1)\n",
            "Requirement already satisfied: plotly in /usr/local/lib/python3.10/dist-packages (from catboost) (5.15.0)\n",
            "Requirement already satisfied: six in /usr/local/lib/python3.10/dist-packages (from catboost) (1.16.0)\n",
            "Requirement already satisfied: python-dateutil>=2.8.2 in /usr/local/lib/python3.10/dist-packages (from pandas>=0.24->catboost) (2.8.2)\n",
            "Requirement already satisfied: pytz>=2020.1 in /usr/local/lib/python3.10/dist-packages (from pandas>=0.24->catboost) (2024.1)\n",
            "Requirement already satisfied: tzdata>=2022.1 in /usr/local/lib/python3.10/dist-packages (from pandas>=0.24->catboost) (2024.1)\n",
            "Requirement already satisfied: contourpy>=1.0.1 in /usr/local/lib/python3.10/dist-packages (from matplotlib->catboost) (1.2.1)\n",
            "Requirement already satisfied: cycler>=0.10 in /usr/local/lib/python3.10/dist-packages (from matplotlib->catboost) (0.12.1)\n",
            "Requirement already satisfied: fonttools>=4.22.0 in /usr/local/lib/python3.10/dist-packages (from matplotlib->catboost) (4.53.1)\n",
            "Requirement already satisfied: kiwisolver>=1.0.1 in /usr/local/lib/python3.10/dist-packages (from matplotlib->catboost) (1.4.5)\n",
            "Requirement already satisfied: packaging>=20.0 in /usr/local/lib/python3.10/dist-packages (from matplotlib->catboost) (24.1)\n",
            "Requirement already satisfied: pillow>=6.2.0 in /usr/local/lib/python3.10/dist-packages (from matplotlib->catboost) (9.4.0)\n",
            "Requirement already satisfied: pyparsing>=2.3.1 in /usr/local/lib/python3.10/dist-packages (from matplotlib->catboost) (3.1.2)\n",
            "Requirement already satisfied: tenacity>=6.2.0 in /usr/local/lib/python3.10/dist-packages (from plotly->catboost) (9.0.0)\n"
          ]
        }
      ]
    },
    {
      "cell_type": "code",
      "execution_count": null,
      "metadata": {
        "id": "JiTa3Dl7-lhi"
      },
      "outputs": [],
      "source": [
        "from sklearn.ensemble import RandomForestClassifier\n",
        "from sklearn.svm import SVC\n",
        "import xgboost as xgb\n",
        "from catboost import CatBoostClassifier\n",
        "import lightgbm as lgb\n",
        "from sklearn.ensemble import GradientBoostingClassifier\n",
        "from sklearn.linear_model import LogisticRegression\n",
        "from sklearn.neighbors import KNeighborsClassifier"
      ]
    },
    {
      "cell_type": "code",
      "execution_count": null,
      "metadata": {
        "id": "X08npR8v-nt4"
      },
      "outputs": [],
      "source": [
        "import tensorflow as tf\n",
        "from tensorflow.keras.models import Sequential\n",
        "from tensorflow.keras.layers import Dense"
      ]
    },
    {
      "cell_type": "markdown",
      "metadata": {
        "id": "8jaSU-1xwOky"
      },
      "source": [
        "## merging datasets"
      ]
    },
    {
      "cell_type": "code",
      "source": [
        "df = pd.read_csv('/content/htmlDataset.csv')\n",
        "df.shape"
      ],
      "metadata": {
        "colab": {
          "base_uri": "https://localhost:8080/"
        },
        "id": "eDkDIAw5Vowh",
        "outputId": "bb2ea27d-8631-4d23-cdfb-bc96bb17fed2"
      },
      "execution_count": null,
      "outputs": [
        {
          "output_type": "execute_result",
          "data": {
            "text/plain": [
              "(14640, 36)"
            ]
          },
          "metadata": {},
          "execution_count": 28
        }
      ]
    },
    {
      "cell_type": "code",
      "execution_count": null,
      "metadata": {
        "colab": {
          "base_uri": "https://localhost:8080/"
        },
        "id": "fJY9qNo40OAj",
        "outputId": "82317ec4-4b13-4965-88cf-fa8e37669c1d"
      },
      "outputs": [
        {
          "output_type": "stream",
          "name": "stdout",
          "text": [
            "Number of NaN values in 'result' column: 10735\n"
          ]
        }
      ],
      "source": [
        "nan_count_result = df['result'].isna().sum()\n",
        "print(\"Number of NaN values in 'result' column:\", nan_count_result)\n"
      ]
    },
    {
      "cell_type": "code",
      "execution_count": null,
      "metadata": {
        "colab": {
          "base_uri": "https://localhost:8080/"
        },
        "id": "BqIpLXM37q_9",
        "outputId": "17916bf2-c1bf-4d21-e0f0-fbcea4742936"
      },
      "outputs": [
        {
          "output_type": "execute_result",
          "data": {
            "text/plain": [
              "(3905, 36)"
            ]
          },
          "metadata": {},
          "execution_count": 30
        }
      ],
      "source": [
        "data = df.dropna(subset=['result'])\n",
        "data.shape"
      ]
    },
    {
      "cell_type": "code",
      "source": [
        "count_zeros = (data['result'] == 0).sum()\n",
        "print(\"Number of rows with '0' in 'result' column:\", count_zeros)\n"
      ],
      "metadata": {
        "colab": {
          "base_uri": "https://localhost:8080/"
        },
        "id": "epN5RJJoO3wK",
        "outputId": "89759dfd-dfab-4584-f287-6e465ffdf101"
      },
      "execution_count": null,
      "outputs": [
        {
          "output_type": "stream",
          "name": "stdout",
          "text": [
            "Number of rows with '0' in 'result' column: 2551\n"
          ]
        }
      ]
    },
    {
      "cell_type": "code",
      "source": [
        "count_ones = (data['result'] == 1).sum()\n",
        "print(\"Number of rows with '0' in 'result' column:\", count_ones)"
      ],
      "metadata": {
        "colab": {
          "base_uri": "https://localhost:8080/"
        },
        "id": "iI8xlp1kPhQE",
        "outputId": "8b46a4ff-5e83-4f51-833a-d2fdf2626e10"
      },
      "execution_count": null,
      "outputs": [
        {
          "output_type": "stream",
          "name": "stdout",
          "text": [
            "Number of rows with '0' in 'result' column: 1354\n"
          ]
        }
      ]
    },
    {
      "cell_type": "code",
      "execution_count": null,
      "metadata": {
        "colab": {
          "base_uri": "https://localhost:8080/"
        },
        "id": "IDGfV7xe8GCt",
        "outputId": "ad1cbab6-a18e-4008-c86a-350521ce348e"
      },
      "outputs": [
        {
          "output_type": "stream",
          "name": "stdout",
          "text": [
            "columns to drop ['num_special_chars', 'num_subdomains', 'has_https', 'suspicious_url']\n"
          ]
        }
      ],
      "source": [
        "columns_to_drop = []\n",
        "for column in data.columns:\n",
        "  if data[column].sum() == 0 or data[column].isnull().all():\n",
        "    columns_to_drop.append(column)\n",
        "\n",
        "\n",
        "print(\"columns to drop\", columns_to_drop)"
      ]
    },
    {
      "cell_type": "code",
      "source": [
        "print(data.columns)\n",
        "print(data.shape)"
      ],
      "metadata": {
        "colab": {
          "base_uri": "https://localhost:8080/"
        },
        "id": "v3YVhj-2Qj3G",
        "outputId": "af9ad9cb-7cfd-44bb-e76f-8cfa488d8e54"
      },
      "execution_count": null,
      "outputs": [
        {
          "output_type": "stream",
          "name": "stdout",
          "text": [
            "Index(['filename', 'url_length', 'num_dots_in_url', 'num_special_chars',\n",
            "       'num_subdomains', 'num_forms', 'num_inputs', 'num_password_fields',\n",
            "       'num_external_links', 'num_internal_links', 'num_hidden_fields',\n",
            "       'num_mailto_links', 'num_scripts', 'num_js_functions', 'has_eval_js',\n",
            "       'has_escape_js', 'has_unescape_js', 'has_settimeout_js',\n",
            "       'has_setinterval_js', 'has_https', 'suspicious_url', 'num_meta_tags',\n",
            "       'num_refresh_meta', 'num_iframes', 'num_hidden_iframes', 'num_images',\n",
            "       'num_images_with_suspicious_url', 'num_style_tags', 'num_inline_styles',\n",
            "       'num_onload_attributes', 'num_onerror_attributes',\n",
            "       'num_external_form_actions', 'rec_id', 'url', 'result', 'created_date'],\n",
            "      dtype='object')\n",
            "(3905, 36)\n"
          ]
        }
      ]
    },
    {
      "cell_type": "code",
      "source": [
        "columns_not_reqd = ['filename','rec_id', 'url', 'created_date','num_special_chars', 'num_subdomains', 'has_https', 'suspicious_url']"
      ],
      "metadata": {
        "id": "RA19leuyQTWh"
      },
      "execution_count": null,
      "outputs": []
    },
    {
      "cell_type": "code",
      "source": [
        "data_cleaned = data.drop(columns=columns_not_reqd)\n",
        "data_cleaned.shape"
      ],
      "metadata": {
        "colab": {
          "base_uri": "https://localhost:8080/"
        },
        "id": "1yURjPOOQxia",
        "outputId": "a681d20c-108a-47cd-b277-e543a74adb44"
      },
      "execution_count": null,
      "outputs": [
        {
          "output_type": "execute_result",
          "data": {
            "text/plain": [
              "(3905, 28)"
            ]
          },
          "metadata": {},
          "execution_count": 36
        }
      ]
    },
    {
      "cell_type": "code",
      "execution_count": null,
      "metadata": {
        "colab": {
          "base_uri": "https://localhost:8080/",
          "height": 600
        },
        "id": "135qbtrQ83t4",
        "outputId": "b56592be-770b-4594-ef10-6d05c647424e"
      },
      "outputs": [
        {
          "output_type": "display_data",
          "data": {
            "text/plain": [
              "<Figure size 1200x600 with 1 Axes>"
            ],
            "image/png": "[encoded data removed]"
          },
          "metadata": {}
        }
      ],
      "source": [
        "means = data_cleaned.mean()\n",
        "stds = data_cleaned.std()\n",
        "\n",
        "plt.figure(figsize=(12, 6))\n",
        "plt.bar(means.index, stds)\n",
        "plt.xlabel('Columns')\n",
        "plt.ylabel('Standard Deviation')\n",
        "plt.title('Deviation of Values for Each Column')\n",
        "plt.xticks(rotation=90)\n",
        "plt.tight_layout()\n",
        "plt.show()\n"
      ]
    },
    {
      "cell_type": "markdown",
      "metadata": {
        "id": "edluv5iT-zNE"
      },
      "source": [
        "##Splitting the dataset and standardization"
      ]
    },
    {
      "cell_type": "code",
      "execution_count": null,
      "metadata": {
        "id": "8LvGKSMU8sd1"
      },
      "outputs": [],
      "source": [
        "X = data_cleaned.drop('result', axis=1)\n",
        "y = data_cleaned['result']"
      ]
    },
    {
      "cell_type": "code",
      "source": [
        "X.shape"
      ],
      "metadata": {
        "colab": {
          "base_uri": "https://localhost:8080/"
        },
        "id": "N7KTwbtJN-vg",
        "outputId": "44c5950b-1523-485f-9953-55ec88d403ee"
      },
      "execution_count": null,
      "outputs": [
        {
          "output_type": "execute_result",
          "data": {
            "text/plain": [
              "(3905, 27)"
            ]
          },
          "metadata": {},
          "execution_count": 39
        }
      ]
    },
    {
      "cell_type": "code",
      "source": [
        "feature_names = X.columns\n",
        "feature_names"
      ],
      "metadata": {
        "colab": {
          "base_uri": "https://localhost:8080/"
        },
        "id": "wDUMrWn5Rkmw",
        "outputId": "fa7facb8-253e-497c-91a0-a75c5c388406"
      },
      "execution_count": null,
      "outputs": [
        {
          "output_type": "execute_result",
          "data": {
            "text/plain": [
              "Index(['url_length', 'num_dots_in_url', 'num_forms', 'num_inputs',\n",
              "       'num_password_fields', 'num_external_links', 'num_internal_links',\n",
              "       'num_hidden_fields', 'num_mailto_links', 'num_scripts',\n",
              "       'num_js_functions', 'has_eval_js', 'has_escape_js', 'has_unescape_js',\n",
              "       'has_settimeout_js', 'has_setinterval_js', 'num_meta_tags',\n",
              "       'num_refresh_meta', 'num_iframes', 'num_hidden_iframes', 'num_images',\n",
              "       'num_images_with_suspicious_url', 'num_style_tags', 'num_inline_styles',\n",
              "       'num_onload_attributes', 'num_onerror_attributes',\n",
              "       'num_external_form_actions'],\n",
              "      dtype='object')"
            ]
          },
          "metadata": {},
          "execution_count": 40
        }
      ]
    },
    {
      "cell_type": "code",
      "execution_count": null,
      "metadata": {
        "id": "NcWsDyFc9cRV"
      },
      "outputs": [],
      "source": [
        "scaler = StandardScaler()\n",
        "X_train, X_test, y_train, y_test = train_test_split(X, y, test_size=0.2, random_state=42)\n",
        "X_train = scaler.fit_transform(X_train)\n",
        "X_test = scaler.transform(X_test)"
      ]
    },
    {
      "cell_type": "markdown",
      "source": [
        "NEW TEXT"
      ],
      "metadata": {
        "id": "Wv0mxf7jV5Zp"
      }
    },
    {
      "cell_type": "markdown",
      "metadata": {
        "id": "CXamzc9wV8LF"
      },
      "source": [
        "#Logistic Regression"
      ]
    },
    {
      "cell_type": "code",
      "source": [
        "from sklearn.metrics import accuracy_score, f1_score, precision_score, recall_score"
      ],
      "metadata": {
        "id": "URkea4pRWIIi"
      },
      "execution_count": null,
      "outputs": []
    },
    {
      "cell_type": "code",
      "execution_count": null,
      "metadata": {
        "colab": {
          "base_uri": "https://localhost:8080/"
        },
        "outputId": "5fd9def6-00af-4a1f-b416-4023c81498cd",
        "id": "DM5CuQZhV8LF"
      },
      "outputs": [
        {
          "output_type": "stream",
          "name": "stdout",
          "text": [
            "Logistic Regression Test Accuracy: 0.8143405889884763\n",
            "[[423  74]\n",
            " [ 71 213]]\n",
            "              precision    recall  f1-score   support\n",
            "\n",
            "         0.0       0.86      0.85      0.85       497\n",
            "         1.0       0.74      0.75      0.75       284\n",
            "\n",
            "    accuracy                           0.81       781\n",
            "   macro avg       0.80      0.80      0.80       781\n",
            "weighted avg       0.81      0.81      0.81       781\n",
            "\n",
            "Logistic Regression Train Accuracy: 0.8175416133162612\n",
            "Logistic Regression Test Accuracy: 0.8143405889884763\n",
            "Logistic Regression F1 Score: 0.746059544658494\n",
            "Logistic Regression Precision: 0.7421602787456446\n",
            "Logistic Regression Recall: 0.75\n"
          ]
        }
      ],
      "source": [
        "\n",
        "logreg = LogisticRegression(max_iter=1000)\n",
        "logreg.fit(X_train, y_train)\n",
        "\n",
        "y_train_pred_logreg = logreg.predict(X_train)\n",
        "y_test_pred_logreg = logreg.predict(X_test)\n",
        "\n",
        "print(\"Logistic Regression Test Accuracy:\", accuracy_score(y_test,y_test_pred_logreg ))\n",
        "print(confusion_matrix(y_test, y_test_pred_logreg))\n",
        "print(classification_report(y_test, y_test_pred_logreg))\n",
        "\n",
        "lr_train_acc = accuracy_score(y_train, y_train_pred_logreg)\n",
        "lr_test_acc = accuracy_score(y_test, y_test_pred_logreg)\n",
        "lr_f1 = f1_score(y_test, y_test_pred_logreg)\n",
        "lr_precision = precision_score(y_test, y_test_pred_logreg)\n",
        "lr_recall = recall_score(y_test, y_test_pred_logreg)\n",
        "print(\"Logistic Regression Train Accuracy:\", lr_train_acc)\n",
        "print(\"Logistic Regression Test Accuracy:\", lr_test_acc)\n",
        "print(\"Logistic Regression F1 Score:\", lr_f1)\n",
        "print(\"Logistic Regression Precision:\", lr_precision)\n",
        "print(\"Logistic Regression Recall:\", lr_recall)"
      ]
    },
    {
      "cell_type": "code",
      "execution_count": null,
      "metadata": {
        "id": "LrY5KJSTV8LG"
      },
      "outputs": [],
      "source": [
        "importance_lr = np.abs(logreg.coef_[0])"
      ]
    },
    {
      "cell_type": "markdown",
      "metadata": {
        "id": "ngq0Pb_RV8LG"
      },
      "source": [
        "#Random Forest Classifier"
      ]
    },
    {
      "cell_type": "code",
      "execution_count": null,
      "metadata": {
        "colab": {
          "base_uri": "https://localhost:8080/"
        },
        "outputId": "8676a563-95f2-43f8-dd02-87190342017e",
        "id": "6jgQN9G6V8LG"
      },
      "outputs": [
        {
          "output_type": "stream",
          "name": "stdout",
          "text": [
            "Random Forest Accuracy: 0.9206145966709347\n",
            "[[474  23]\n",
            " [ 39 245]]\n",
            "              precision    recall  f1-score   support\n",
            "\n",
            "         0.0       0.92      0.95      0.94       497\n",
            "         1.0       0.91      0.86      0.89       284\n",
            "\n",
            "    accuracy                           0.92       781\n",
            "   macro avg       0.92      0.91      0.91       781\n",
            "weighted avg       0.92      0.92      0.92       781\n",
            "\n",
            "Random Forest Train Accuracy: 0.9891165172855314\n",
            "Random Forest Test Accuracy: 0.9206145966709347\n",
            "Random Forest F1 Score: 0.8876811594202898\n",
            "Random Forest Precision: 0.914179104477612\n",
            "Random Forest Recall: 0.8626760563380281\n"
          ]
        }
      ],
      "source": [
        "rf = RandomForestClassifier()\n",
        "rf.fit(X_train, y_train)\n",
        "\n",
        "y_train_pred_rf = rf.predict(X_train)\n",
        "y_test_pred_rf = rf.predict(X_test)\n",
        "\n",
        "print(\"Random Forest Accuracy:\", accuracy_score(y_test, y_test_pred_rf))\n",
        "print(confusion_matrix(y_test, y_test_pred_rf))\n",
        "print(classification_report(y_test, y_test_pred_rf))\n",
        "\n",
        "rf_train_acc = accuracy_score(y_train, y_train_pred_rf)\n",
        "rf_test_acc = accuracy_score(y_test, y_test_pred_rf)\n",
        "rf_f1 = f1_score(y_test, y_test_pred_rf)\n",
        "rf_precision = precision_score(y_test, y_test_pred_rf)\n",
        "rf_recall = recall_score(y_test, y_test_pred_rf)\n",
        "print(\"Random Forest Train Accuracy:\", rf_train_acc)\n",
        "print(\"Random Forest Test Accuracy:\", rf_test_acc)\n",
        "print(\"Random Forest F1 Score:\", rf_f1)\n",
        "print(\"Random Forest Precision:\", rf_precision)\n",
        "print(\"Random Forest Recall:\", rf_recall)"
      ]
    },
    {
      "cell_type": "code",
      "execution_count": null,
      "metadata": {
        "id": "ewBz3-11V8LH"
      },
      "outputs": [],
      "source": [
        "importance_rf =rf.feature_importances_"
      ]
    },
    {
      "cell_type": "markdown",
      "metadata": {
        "id": "85CptT0oV8LH"
      },
      "source": [
        "# KNN"
      ]
    },
    {
      "cell_type": "code",
      "execution_count": null,
      "metadata": {
        "colab": {
          "base_uri": "https://localhost:8080/"
        },
        "outputId": "22ded09f-0148-45fa-ebfd-8c2a580e6eff",
        "id": "h1xMkzefV8LH"
      },
      "outputs": [
        {
          "output_type": "stream",
          "name": "stdout",
          "text": [
            "KNN Accuracy: 0.8565941101152369\n",
            "[[449  48]\n",
            " [ 64 220]]\n",
            "              precision    recall  f1-score   support\n",
            "\n",
            "         0.0       0.88      0.90      0.89       497\n",
            "         1.0       0.82      0.77      0.80       284\n",
            "\n",
            "    accuracy                           0.86       781\n",
            "   macro avg       0.85      0.84      0.84       781\n",
            "weighted avg       0.86      0.86      0.86       781\n",
            "\n",
            "KNN Train Accuracy: 0.897247119078105\n",
            "KNN Test Accuracy: 0.8565941101152369\n",
            "KNN F1 Score: 0.7971014492753623\n",
            "KNN Precision: 0.8208955223880597\n",
            "KNN Recall: 0.7746478873239436\n"
          ]
        }
      ],
      "source": [
        "knn = KNeighborsClassifier(n_neighbors=5)\n",
        "knn.fit(X_train, y_train)\n",
        "\n",
        "y_train_pred_knn = knn.predict(X_train)\n",
        "y_test_pred_knn = knn.predict(X_test)\n",
        "\n",
        "print(\"KNN Accuracy:\", accuracy_score(y_test, y_test_pred_knn))\n",
        "print(confusion_matrix(y_test, y_test_pred_knn))\n",
        "print(classification_report(y_test, y_test_pred_knn))\n",
        "\n",
        "knn_train_acc = accuracy_score(y_train, y_train_pred_knn)\n",
        "knn_test_acc = accuracy_score(y_test, y_test_pred_knn)\n",
        "knn_f1 = f1_score(y_test, y_test_pred_knn)\n",
        "knn_precision = precision_score(y_test, y_test_pred_knn)\n",
        "knn_recall = recall_score(y_test, y_test_pred_knn)\n",
        "\n",
        "print(\"KNN Train Accuracy:\", knn_train_acc)\n",
        "print(\"KNN Test Accuracy:\", knn_test_acc)\n",
        "print(\"KNN F1 Score:\", knn_f1)\n",
        "print(\"KNN Precision:\", knn_precision)\n",
        "print(\"KNN Recall:\", knn_recall)"
      ]
    },
    {
      "cell_type": "code",
      "execution_count": null,
      "metadata": {
        "id": "GGbeKJq1V8LH"
      },
      "outputs": [],
      "source": [
        "from sklearn.inspection import permutation_importance"
      ]
    },
    {
      "cell_type": "code",
      "execution_count": null,
      "metadata": {
        "id": "UANiuAggV8LH"
      },
      "outputs": [],
      "source": [
        "importance_knn = permutation_importance(knn, X_train, y_train, n_repeats=10, random_state=42).importances_mean"
      ]
    },
    {
      "cell_type": "markdown",
      "metadata": {
        "id": "wj2UEoGeV8LH"
      },
      "source": [
        "#Support Vector Machine (SVM)"
      ]
    },
    {
      "cell_type": "code",
      "execution_count": null,
      "metadata": {
        "colab": {
          "base_uri": "https://localhost:8080/"
        },
        "outputId": "cc747610-fc20-469b-b78d-1dc3d7855d1d",
        "id": "eM7uLQATV8LI"
      },
      "outputs": [
        {
          "output_type": "stream",
          "name": "stdout",
          "text": [
            "SVM Accuracy: 0.8079385403329066\n",
            "[[413  84]\n",
            " [ 66 218]]\n",
            "              precision    recall  f1-score   support\n",
            "\n",
            "         0.0       0.86      0.83      0.85       497\n",
            "         1.0       0.72      0.77      0.74       284\n",
            "\n",
            "    accuracy                           0.81       781\n",
            "   macro avg       0.79      0.80      0.80       781\n",
            "weighted avg       0.81      0.81      0.81       781\n",
            "\n",
            "SVM Train Accuracy: 0.8159411011523687\n",
            "SVM Test Accuracy: 0.8079385403329066\n",
            "SVM F1 Score: 0.7440273037542662\n",
            "SVM Precision: 0.7218543046357616\n",
            "SVM Recall: 0.7676056338028169\n"
          ]
        }
      ],
      "source": [
        "svm = SVC(kernel='linear', probability=True)\n",
        "svm.fit(X_train, y_train)\n",
        "\n",
        "y_train_pred_svm = svm.predict(X_train)\n",
        "y_test_pred_svm = svm.predict(X_test)\n",
        "\n",
        "print(\"SVM Accuracy:\", accuracy_score(y_test, y_test_pred_svm))\n",
        "print(confusion_matrix(y_test, y_test_pred_svm))\n",
        "print(classification_report(y_test, y_test_pred_svm))\n",
        "\n",
        "\n",
        "svm_train_acc = accuracy_score(y_train, y_train_pred_svm)\n",
        "svm_test_acc = accuracy_score(y_test, y_test_pred_svm)\n",
        "svm_f1 = f1_score(y_test, y_test_pred_svm)\n",
        "svm_precision = precision_score(y_test, y_test_pred_svm)\n",
        "svm_recall = recall_score(y_test, y_test_pred_svm)\n",
        "print(\"SVM Train Accuracy:\", svm_train_acc)\n",
        "print(\"SVM Test Accuracy:\", svm_test_acc)\n",
        "print(\"SVM F1 Score:\", svm_f1)\n",
        "print(\"SVM Precision:\", svm_precision)\n",
        "print(\"SVM Recall:\", svm_recall)"
      ]
    },
    {
      "cell_type": "code",
      "execution_count": null,
      "metadata": {
        "id": "w9PAy-IJV8LI"
      },
      "outputs": [],
      "source": [
        "importance_svm = np.abs(svm.coef_[0])"
      ]
    },
    {
      "cell_type": "markdown",
      "metadata": {
        "id": "jxn_6iyFV8LI"
      },
      "source": [
        "#Gradient Boosting Classifier"
      ]
    },
    {
      "cell_type": "code",
      "execution_count": null,
      "metadata": {
        "colab": {
          "base_uri": "https://localhost:8080/"
        },
        "outputId": "5276e46d-b2b2-416b-f675-eecef290885a",
        "id": "ysEzs5GaV8LI"
      },
      "outputs": [
        {
          "output_type": "stream",
          "name": "stdout",
          "text": [
            "Gradient Boosting Accuracy: 0.8796414852752881\n",
            "[[454  43]\n",
            " [ 51 233]]\n",
            "              precision    recall  f1-score   support\n",
            "\n",
            "         0.0       0.90      0.91      0.91       497\n",
            "         1.0       0.84      0.82      0.83       284\n",
            "\n",
            "    accuracy                           0.88       781\n",
            "   macro avg       0.87      0.87      0.87       781\n",
            "weighted avg       0.88      0.88      0.88       781\n",
            "\n",
            "Gradient Boosting Train Accuracy: 0.911651728553137\n",
            "Gradient Boosting Test Accuracy: 0.8796414852752881\n",
            "Gradient Boosting F1 Score: 0.8321428571428573\n",
            "Gradient Boosting Precision: 0.8442028985507246\n",
            "Gradient Boosting Recall: 0.8204225352112676\n"
          ]
        }
      ],
      "source": [
        "gb = GradientBoostingClassifier()\n",
        "gb.fit(X_train, y_train)\n",
        "y_train_pred_gb = gb.predict(X_train)\n",
        "y_test_pred_gb = gb.predict(X_test)\n",
        "\n",
        "print(\"Gradient Boosting Accuracy:\", accuracy_score(y_test, y_test_pred_gb))\n",
        "print(confusion_matrix(y_test, y_test_pred_gb))\n",
        "print(classification_report(y_test, y_test_pred_gb))\n",
        "\n",
        "\n",
        "gb_train_acc = accuracy_score(y_train, y_train_pred_gb)\n",
        "gb_test_acc = accuracy_score(y_test, y_test_pred_gb)\n",
        "gb_f1 = f1_score(y_test, y_test_pred_gb)\n",
        "gb_precision = precision_score(y_test, y_test_pred_gb)\n",
        "gb_recall = recall_score(y_test, y_test_pred_gb)\n",
        "\n",
        "print(\"Gradient Boosting Train Accuracy:\", gb_train_acc)\n",
        "print(\"Gradient Boosting Test Accuracy:\", gb_test_acc)\n",
        "print(\"Gradient Boosting F1 Score:\", gb_f1)\n",
        "print(\"Gradient Boosting Precision:\", gb_precision)\n",
        "print(\"Gradient Boosting Recall:\", gb_recall)"
      ]
    },
    {
      "cell_type": "code",
      "execution_count": null,
      "metadata": {
        "id": "AoBX9JHtV8LI"
      },
      "outputs": [],
      "source": [
        "importance_gb = gb.feature_importances_"
      ]
    },
    {
      "cell_type": "markdown",
      "metadata": {
        "id": "U5QY4TFHV8LJ"
      },
      "source": [
        "#XGBoost"
      ]
    },
    {
      "cell_type": "code",
      "execution_count": null,
      "metadata": {
        "colab": {
          "base_uri": "https://localhost:8080/"
        },
        "outputId": "8c3be163-c82b-4235-c711-3614ba8301c8",
        "id": "uuKzStPaV8LJ"
      },
      "outputs": [
        {
          "output_type": "stream",
          "name": "stdout",
          "text": [
            "XGBoost Accuracy: 0.912932138284251\n",
            "[[466  31]\n",
            " [ 37 247]]\n",
            "              precision    recall  f1-score   support\n",
            "\n",
            "         0.0       0.93      0.94      0.93       497\n",
            "         1.0       0.89      0.87      0.88       284\n",
            "\n",
            "    accuracy                           0.91       781\n",
            "   macro avg       0.91      0.90      0.91       781\n",
            "weighted avg       0.91      0.91      0.91       781\n",
            "\n",
            "XGBoost Train Accuracy: 0.984955185659411\n",
            "XGBoost Test Accuracy: 0.912932138284251\n",
            "XGBoost F1 Score: 0.8790035587188613\n",
            "XGBoost Precision: 0.8884892086330936\n",
            "XGBoost Recall: 0.8697183098591549\n"
          ]
        }
      ],
      "source": [
        "xgb_model = xgb.XGBClassifier()\n",
        "xgb_model.fit(X_train, y_train)\n",
        "\n",
        "y_train_pred_xgb = xgb_model.predict(X_train)\n",
        "y_test_pred_xgb = xgb_model.predict(X_test)\n",
        "\n",
        "print(\"XGBoost Accuracy:\", accuracy_score(y_test, y_test_pred_xgb))\n",
        "print(confusion_matrix(y_test, y_test_pred_xgb))\n",
        "print(classification_report(y_test, y_test_pred_xgb))\n",
        "\n",
        "xgb_train_acc = accuracy_score(y_train, y_train_pred_xgb)\n",
        "xgb_test_acc = accuracy_score(y_test, y_test_pred_xgb)\n",
        "xgb_f1 = f1_score(y_test, y_test_pred_xgb)\n",
        "xgb_precision = precision_score(y_test, y_test_pred_xgb)\n",
        "xgb_recall = recall_score(y_test, y_test_pred_xgb)\n",
        "print(\"XGBoost Train Accuracy:\", xgb_train_acc)\n",
        "print(\"XGBoost Test Accuracy:\", xgb_test_acc)\n",
        "print(\"XGBoost F1 Score:\", xgb_f1)\n",
        "print(\"XGBoost Precision:\", xgb_precision)\n",
        "print(\"XGBoost Recall:\", xgb_recall)"
      ]
    },
    {
      "cell_type": "code",
      "execution_count": null,
      "metadata": {
        "id": "_J1HsjfmV8LJ"
      },
      "outputs": [],
      "source": [
        "importance_xgb = xgb_model.feature_importances_"
      ]
    },
    {
      "cell_type": "markdown",
      "metadata": {
        "id": "jND_1X62V8LJ"
      },
      "source": [
        "#LightGBM"
      ]
    },
    {
      "cell_type": "code",
      "execution_count": null,
      "metadata": {
        "colab": {
          "base_uri": "https://localhost:8080/"
        },
        "outputId": "d099a2ce-145b-4431-be16-1ace0c31f6d4",
        "id": "ME5STGvrV8LJ"
      },
      "outputs": [
        {
          "output_type": "stream",
          "name": "stdout",
          "text": [
            "[LightGBM] [Info] Number of positive: 1070, number of negative: 2054\n",
            "[LightGBM] [Info] Auto-choosing row-wise multi-threading, the overhead of testing was 0.000815 seconds.\n",
            "You can set `force_row_wise=true` to remove the overhead.\n",
            "And if memory is not enough, you can set `force_col_wise=true`.\n",
            "[LightGBM] [Info] Total Bins 1396\n",
            "[LightGBM] [Info] Number of data points in the train set: 3124, number of used features: 25\n",
            "[LightGBM] [Info] [binary:BoostFromScore]: pavg=0.342510 -> initscore=-0.652130\n",
            "[LightGBM] [Info] Start training from score -0.652130\n",
            "LightGBM Accuracy: 0.9180537772087067\n",
            "[[469  28]\n",
            " [ 36 248]]\n",
            "              precision    recall  f1-score   support\n",
            "\n",
            "         0.0       0.93      0.94      0.94       497\n",
            "         1.0       0.90      0.87      0.89       284\n",
            "\n",
            "    accuracy                           0.92       781\n",
            "   macro avg       0.91      0.91      0.91       781\n",
            "weighted avg       0.92      0.92      0.92       781\n",
            "\n",
            "LightGBM Train Accuracy: 0.9795134443021767\n",
            "LightGBM Test Accuracy: 0.9180537772087067\n",
            "LightGBM F1 Score: 0.8857142857142857\n",
            "LightGBM Precision: 0.8985507246376812\n",
            "LightGBM Recall: 0.8732394366197183\n"
          ]
        }
      ],
      "source": [
        "lgb_model = lgb.LGBMClassifier()\n",
        "lgb_model.fit(X_train, y_train)\n",
        "\n",
        "y_train_pred_lgb = lgb_model.predict(X_train)\n",
        "y_test_pred_lgb = lgb_model.predict(X_test)\n",
        "print(\"LightGBM Accuracy:\", accuracy_score(y_test, y_test_pred_lgb))\n",
        "print(confusion_matrix(y_test, y_test_pred_lgb))\n",
        "print(classification_report(y_test, y_test_pred_lgb))\n",
        "\n",
        "lgb_train_acc = accuracy_score(y_train, y_train_pred_lgb)\n",
        "lgb_test_acc = accuracy_score(y_test, y_test_pred_lgb)\n",
        "lgb_f1 = f1_score(y_test, y_test_pred_lgb)\n",
        "lgb_precision = precision_score(y_test, y_test_pred_lgb)\n",
        "lgb_recall = recall_score(y_test, y_test_pred_lgb)\n",
        "\n",
        "print(\"LightGBM Train Accuracy:\", lgb_train_acc)\n",
        "print(\"LightGBM Test Accuracy:\", lgb_test_acc)\n",
        "print(\"LightGBM F1 Score:\", lgb_f1)\n",
        "print(\"LightGBM Precision:\", lgb_precision)\n",
        "print(\"LightGBM Recall:\", lgb_recall)"
      ]
    },
    {
      "cell_type": "code",
      "execution_count": null,
      "metadata": {
        "id": "FlNN9BjgV8LJ"
      },
      "outputs": [],
      "source": [
        "importance_lgb = lgb_model.feature_importances_"
      ]
    },
    {
      "cell_type": "markdown",
      "metadata": {
        "id": "4vNbLDA0V8LK"
      },
      "source": [
        "#Catboost"
      ]
    },
    {
      "cell_type": "code",
      "execution_count": null,
      "metadata": {
        "colab": {
          "base_uri": "https://localhost:8080/"
        },
        "outputId": "c44e0e34-bb48-40ee-8f70-f8a284f5d296",
        "id": "Gq0OIEZ2V8LK"
      },
      "outputs": [
        {
          "output_type": "stream",
          "name": "stdout",
          "text": [
            "CatBoost Accuracy: 0.912932138284251\n",
            "[[469  28]\n",
            " [ 40 244]]\n",
            "              precision    recall  f1-score   support\n",
            "\n",
            "         0.0       0.92      0.94      0.93       497\n",
            "         1.0       0.90      0.86      0.88       284\n",
            "\n",
            "    accuracy                           0.91       781\n",
            "   macro avg       0.91      0.90      0.91       781\n",
            "weighted avg       0.91      0.91      0.91       781\n",
            "\n",
            "CatBoost Train Accuracy: 0.9577464788732394\n",
            "CatBoost Test Accuracy: 0.912932138284251\n",
            "CatBoost F1 Score: 0.8776978417266187\n",
            "CatBoost Precision: 0.8970588235294118\n",
            "CatBoost Recall: 0.8591549295774648\n"
          ]
        }
      ],
      "source": [
        "cat_model = CatBoostClassifier(verbose=0)\n",
        "cat_model.fit(X_train, y_train)\n",
        "\n",
        "y_train_pred_cb = cat_model.predict(X_train)\n",
        "y_test_pred_cb = cat_model.predict(X_test)\n",
        "\n",
        "print(\"CatBoost Accuracy:\", accuracy_score(y_test, y_test_pred_cb))\n",
        "print(confusion_matrix(y_test, y_test_pred_cb))\n",
        "print(classification_report(y_test, y_test_pred_cb))\n",
        "\n",
        "\n",
        "cb_train_acc = accuracy_score(y_train, y_train_pred_cb)\n",
        "cb_test_acc = accuracy_score(y_test, y_test_pred_cb)\n",
        "cb_f1 = f1_score(y_test, y_test_pred_cb)\n",
        "cb_precision = precision_score(y_test, y_test_pred_cb)\n",
        "cb_recall = recall_score(y_test, y_test_pred_cb)\n",
        "\n",
        "print(\"CatBoost Train Accuracy:\", cb_train_acc)\n",
        "print(\"CatBoost Test Accuracy:\", cb_test_acc)\n",
        "print(\"CatBoost F1 Score:\", cb_f1)\n",
        "print(\"CatBoost Precision:\", cb_precision)\n",
        "print(\"CatBoost Recall:\", cb_recall)"
      ]
    },
    {
      "cell_type": "code",
      "execution_count": null,
      "metadata": {
        "id": "4Fva9bmkV8LK"
      },
      "outputs": [],
      "source": [
        "importance_cb = cat_model.feature_importances_"
      ]
    },
    {
      "cell_type": "markdown",
      "source": [
        "MLP CLassifier"
      ],
      "metadata": {
        "id": "_6X6h_ubNVlp"
      }
    },
    {
      "cell_type": "code",
      "source": [
        "from sklearn.neural_network import MLPClassifier # Import the MLPClassifier class\n"
      ],
      "metadata": {
        "id": "b4tvxYMMNZjL"
      },
      "execution_count": null,
      "outputs": []
    },
    {
      "cell_type": "code",
      "source": [
        "nn_mlp = MLPClassifier(max_iter=1000)\n",
        "nn_mlp.fit(X_train, y_train)\n",
        "y_train_pred_nn_mlp = nn_mlp.predict(X_train)\n",
        "y_test_pred_nn_mlp = nn_mlp.predict(X_test)\n",
        "nn_mlp_train_acc = accuracy_score(y_train, y_train_pred_nn_mlp)\n",
        "nn_mlp_test_acc = accuracy_score(y_test, y_test_pred_nn_mlp)\n",
        "nn_mlp_f1 = f1_score(y_test, y_test_pred_nn_mlp)\n",
        "nn_mlp_precision = precision_score(y_test, y_test_pred_nn_mlp)\n",
        "nn_mlp_recall = recall_score(y_test, y_test_pred_nn_mlp)"
      ],
      "metadata": {
        "id": "tAIaTiPvNXSi"
      },
      "execution_count": null,
      "outputs": []
    },
    {
      "cell_type": "code",
      "source": [
        "print(\"Neural Network Train Accuracy:\", nn_mlp_train_acc)\n",
        "print(\"Neural Network Test Accuracy:\", nn_mlp_test_acc)\n",
        "print(\"Neural Network F1 Score:\", nn_mlp_f1)\n",
        "print(\"Neural Network Precision:\", nn_mlp_precision)\n",
        "print(\"Neural Network Recall:\", nn_mlp_recall)"
      ],
      "metadata": {
        "colab": {
          "base_uri": "https://localhost:8080/"
        },
        "id": "eS7USD3ONhh6",
        "outputId": "cdc750e3-c68d-4dfc-a75b-74f372ade8a3"
      },
      "execution_count": null,
      "outputs": [
        {
          "output_type": "stream",
          "name": "stdout",
          "text": [
            "Neural Network Train Accuracy: 0.9289372599231754\n",
            "Neural Network Test Accuracy: 0.8681177976952625\n",
            "Neural Network F1 Score: 0.8130671506352086\n",
            "Neural Network Precision: 0.8389513108614233\n",
            "Neural Network Recall: 0.7887323943661971\n"
          ]
        }
      ]
    },
    {
      "cell_type": "code",
      "source": [
        "from sklearn.inspection import permutation_importance"
      ],
      "metadata": {
        "id": "Tr8ufFzhPlQx"
      },
      "execution_count": null,
      "outputs": []
    },
    {
      "cell_type": "code",
      "source": [
        "importance_mlp = permutation_importance(nn_mlp, X_train, y_train, n_repeats=10, random_state=42).importances_mean\n"
      ],
      "metadata": {
        "id": "KN2Bu7MBPZhL"
      },
      "execution_count": null,
      "outputs": []
    },
    {
      "cell_type": "markdown",
      "metadata": {
        "id": "nGRQr_NpV8LL"
      },
      "source": [
        "#Results"
      ]
    },
    {
      "cell_type": "code",
      "source": [
        "\n",
        "results_df = pd.DataFrame({\n",
        "    'Model': ['Logistic Regression', 'Random Forest', 'KNN', 'SVM', 'Gradient Boosting', 'XGBoost', 'LightGBM', 'CatBoost','Neural Network (MLP)'],\n",
        "    'Train Accuracy': [lr_train_acc, rf_train_acc, knn_train_acc, svm_train_acc, gb_train_acc, xgb_train_acc, lgb_train_acc, cb_train_acc, nn_mlp_train_acc],\n",
        "    'Test Accuracy': [lr_test_acc, rf_test_acc, knn_test_acc, svm_test_acc, gb_test_acc, xgb_test_acc, lgb_test_acc, cb_test_acc, nn_mlp_test_acc],\n",
        "    'Precision': [lr_precision, rf_precision, knn_precision, svm_precision, gb_precision, xgb_precision, lgb_precision, cb_precision, nn_mlp_precision],\n",
        "    'Recall': [lr_recall, rf_recall, knn_recall, svm_recall, gb_recall, xgb_recall, lgb_recall, cb_recall, nn_mlp_recall],\n",
        "    'F1 Score': [lr_f1, rf_f1, knn_f1, svm_f1, gb_f1, xgb_f1, lgb_f1, cb_f1, nn_mlp_f1]\n",
        "})\n",
        "\n",
        "print(results_df)\n"
      ],
      "metadata": {
        "colab": {
          "base_uri": "https://localhost:8080/"
        },
        "id": "6QlTsZXvOu5t",
        "outputId": "7bd4585e-1a36-48a7-cbc0-2a68fb5a1c28"
      },
      "execution_count": null,
      "outputs": [
        {
          "output_type": "stream",
          "name": "stdout",
          "text": [
            "                  Model  Train Accuracy  Test Accuracy  Precision    Recall  \\\n",
            "0   Logistic Regression        0.817542       0.814341   0.742160  0.750000   \n",
            "1         Random Forest        0.989117       0.920615   0.914179  0.862676   \n",
            "2                   KNN        0.897247       0.856594   0.820896  0.774648   \n",
            "3                   SVM        0.815941       0.807939   0.721854  0.767606   \n",
            "4     Gradient Boosting        0.911652       0.879641   0.844203  0.820423   \n",
            "5               XGBoost        0.984955       0.912932   0.888489  0.869718   \n",
            "6              LightGBM        0.979513       0.918054   0.898551  0.873239   \n",
            "7              CatBoost        0.957746       0.912932   0.897059  0.859155   \n",
            "8  Neural Network (MLP)        0.928937       0.868118   0.838951  0.788732   \n",
            "\n",
            "   F1 Score  \n",
            "0  0.746060  \n",
            "1  0.887681  \n",
            "2  0.797101  \n",
            "3  0.744027  \n",
            "4  0.832143  \n",
            "5  0.879004  \n",
            "6  0.885714  \n",
            "7  0.877698  \n",
            "8  0.813067  \n"
          ]
        }
      ]
    },
    {
      "cell_type": "code",
      "source": [
        "results_df.to_csv('new_model_results.csv', index=False)\n"
      ],
      "metadata": {
        "id": "vwUfKtMDPIw7"
      },
      "execution_count": null,
      "outputs": []
    },
    {
      "cell_type": "code",
      "execution_count": null,
      "metadata": {
        "colab": {
          "base_uri": "https://localhost:8080/",
          "height": 667
        },
        "outputId": "80facab3-6069-41b7-8816-263357042725",
        "id": "MhnXgXF9V8LL"
      },
      "outputs": [
        {
          "output_type": "display_data",
          "data": {
            "text/plain": [
              "<Figure size 1000x600 with 1 Axes>"
            ],
            "image/png": "[encoded data removed]"
          },
          "metadata": {}
        }
      ],
      "source": [
        "import matplotlib.pyplot as plt\n",
        "plt.figure(figsize=(10, 6))\n",
        "plt.bar(results_df['Model'], results_df['Test Accuracy'], color='skyblue')\n",
        "plt.xlabel('Models')\n",
        "plt.ylabel('Accuracy')\n",
        "plt.title('Model Comparison')\n",
        "plt.xticks(rotation=45)\n",
        "plt.ylim(0, 1)\n",
        "plt.show()\n"
      ]
    },
    {
      "cell_type": "markdown",
      "metadata": {
        "id": "6yG3L6k4V8LM"
      },
      "source": [
        "# Important Feature"
      ]
    },
    {
      "cell_type": "code",
      "execution_count": null,
      "metadata": {
        "id": "bEdbMkglV8LM"
      },
      "outputs": [],
      "source": [
        "from sklearn.preprocessing import MinMaxScaler"
      ]
    },
    {
      "cell_type": "code",
      "execution_count": null,
      "metadata": {
        "colab": {
          "base_uri": "https://localhost:8080/"
        },
        "outputId": "8d19869f-1986-4100-d076-c1f9dd80bdca",
        "id": "88Dl-XNSV8LM"
      },
      "outputs": [
        {
          "output_type": "stream",
          "name": "stdout",
          "text": [
            "                                Mean Importance\n",
            "num_scripts                            0.810688\n",
            "num_internal_links                     0.790090\n",
            "num_meta_tags                          0.579804\n",
            "num_password_fields                    0.555223\n",
            "num_external_links                     0.447878\n",
            "num_inputs                             0.338354\n",
            "num_mailto_links                       0.279393\n",
            "num_inline_styles                      0.257504\n",
            "num_js_functions                       0.253352\n",
            "num_images                             0.240590\n",
            "num_hidden_fields                      0.211549\n",
            "num_external_form_actions              0.203081\n",
            "num_style_tags                         0.169928\n",
            "num_forms                              0.160771\n",
            "has_settimeout_js                      0.136437\n",
            "num_iframes                            0.122063\n",
            "has_unescape_js                        0.094083\n",
            "num_refresh_meta                       0.092467\n",
            "has_escape_js                          0.089590\n",
            "num_onload_attributes                  0.072026\n",
            "url_length                             0.062680\n",
            "num_images_with_suspicious_url         0.061563\n",
            "has_setinterval_js                     0.059900\n",
            "has_eval_js                            0.023391\n",
            "num_onerror_attributes                 0.009746\n",
            "num_hidden_iframes                     0.006889\n",
            "num_dots_in_url                        0.000000\n"
          ]
        }
      ],
      "source": [
        "def normalize_importances(importances):\n",
        "    scaler = MinMaxScaler()\n",
        "    return scaler.fit_transform(importances.reshape(-1, 1)).flatten()\n",
        "\n",
        "normalized_importances = {\n",
        "    'Logistic Regression': normalize_importances(importance_lr),\n",
        "    'Random Forest': normalize_importances(importance_rf),\n",
        "    'KNN': normalize_importances(importance_knn),\n",
        "    'SVM': normalize_importances(importance_svm),\n",
        "    'Gradient Boosting': normalize_importances(importance_gb),\n",
        "    'XGBoost': normalize_importances(importance_xgb),\n",
        "    'LightGBM': normalize_importances(importance_lgb),\n",
        "    'CatBoost': normalize_importances(importance_cb),\n",
        "    'Neural Network (MLP)': normalize_importances(importance_mlp)\n",
        "\n",
        "\n",
        "}\n",
        "\n",
        "normalized_importances_df = pd.DataFrame(normalized_importances, index=feature_names)\n",
        "normalized_importances_df['Mean Importance'] = normalized_importances_df.mean(axis=1)\n",
        "ranked_features = normalized_importances_df.sort_values(by='Mean Importance', ascending=False)\n",
        "print(ranked_features[['Mean Importance']])"
      ]
    },
    {
      "cell_type": "code",
      "execution_count": null,
      "metadata": {
        "id": "vIa-Mrl0V8LM"
      },
      "outputs": [],
      "source": [
        "import numpy as np\n",
        "import pandas as pd\n",
        "from sklearn.preprocessing import MinMaxScaler\n",
        "import matplotlib.pyplot as plt"
      ]
    },
    {
      "cell_type": "code",
      "execution_count": null,
      "metadata": {
        "colab": {
          "base_uri": "https://localhost:8080/",
          "height": 718
        },
        "outputId": "9d34ce4c-bd7b-40bd-9586-a1159e57be0d",
        "id": "dQpV9kn-V8LM"
      },
      "outputs": [
        {
          "output_type": "display_data",
          "data": {
            "text/plain": [
              "<Figure size 1000x800 with 1 Axes>"
            ],
            "image/png": "[encoded data removed]"
          },
          "metadata": {}
        }
      ],
      "source": [
        "plt.figure(figsize=(10, 8))\n",
        "plt.barh(ranked_features.index, ranked_features['Mean Importance'], color='skyblue')\n",
        "plt.xlabel('Mean Importance')\n",
        "plt.ylabel('Feature')\n",
        "plt.title('Feature Importances')\n",
        "plt.gca().invert_yaxis()\n",
        "plt.show()\n"
      ]
    },
    {
      "cell_type": "markdown",
      "metadata": {
        "id": "_RzSPMwW_COC"
      },
      "source": [
        "#Logistic Regression"
      ]
    },
    {
      "cell_type": "code",
      "execution_count": null,
      "metadata": {
        "colab": {
          "base_uri": "https://localhost:8080/"
        },
        "id": "8Ww62FBE9f47",
        "outputId": "dd9da41e-077a-4cd9-9687-72b449ed7b3d"
      },
      "outputs": [
        {
          "output_type": "stream",
          "name": "stdout",
          "text": [
            "Logistic Regression Accuracy: 0.8143405889884763\n",
            "[[423  74]\n",
            " [ 71 213]]\n",
            "              precision    recall  f1-score   support\n",
            "\n",
            "         0.0       0.86      0.85      0.85       497\n",
            "         1.0       0.74      0.75      0.75       284\n",
            "\n",
            "    accuracy                           0.81       781\n",
            "   macro avg       0.80      0.80      0.80       781\n",
            "weighted avg       0.81      0.81      0.81       781\n",
            "\n"
          ]
        }
      ],
      "source": [
        "logreg = LogisticRegression()\n",
        "logreg.fit(X_train, y_train)\n",
        "y_pred_logreg = logreg.predict(X_test)\n",
        "print(\"Logistic Regression Accuracy:\", accuracy_score(y_test, y_pred_logreg))\n",
        "print(confusion_matrix(y_test, y_pred_logreg))\n",
        "print(classification_report(y_test, y_pred_logreg))"
      ]
    },
    {
      "cell_type": "code",
      "source": [
        "importance_lr = np.abs(logreg.coef_[0])"
      ],
      "metadata": {
        "id": "DSavUl5gbrX-"
      },
      "execution_count": null,
      "outputs": []
    },
    {
      "cell_type": "markdown",
      "metadata": {
        "id": "F6aBWWxr_OqI"
      },
      "source": [
        "#Random Forest Classifier"
      ]
    },
    {
      "cell_type": "code",
      "execution_count": null,
      "metadata": {
        "colab": {
          "base_uri": "https://localhost:8080/"
        },
        "id": "aqCbdHtK_M37",
        "outputId": "07556b1b-1b4c-40a8-e832-f0f5784448bd"
      },
      "outputs": [
        {
          "output_type": "stream",
          "name": "stdout",
          "text": [
            "Random Forest Accuracy: 0.912932138284251\n",
            "[[476  21]\n",
            " [ 47 237]]\n",
            "              precision    recall  f1-score   support\n",
            "\n",
            "         0.0       0.91      0.96      0.93       497\n",
            "         1.0       0.92      0.83      0.87       284\n",
            "\n",
            "    accuracy                           0.91       781\n",
            "   macro avg       0.91      0.90      0.90       781\n",
            "weighted avg       0.91      0.91      0.91       781\n",
            "\n"
          ]
        }
      ],
      "source": [
        "rf = RandomForestClassifier()\n",
        "rf.fit(X_train, y_train)\n",
        "y_pred_rf = rf.predict(X_test)\n",
        "print(\"Random Forest Accuracy:\", accuracy_score(y_test, y_pred_rf))\n",
        "print(confusion_matrix(y_test, y_pred_rf))\n",
        "print(classification_report(y_test, y_pred_rf))"
      ]
    },
    {
      "cell_type": "code",
      "source": [
        "importance_rf =rf.feature_importances_"
      ],
      "metadata": {
        "id": "SUzYduiEbxDf"
      },
      "execution_count": null,
      "outputs": []
    },
    {
      "cell_type": "markdown",
      "metadata": {
        "id": "nTnZRMTmBpzN"
      },
      "source": [
        "# KNN"
      ]
    },
    {
      "cell_type": "code",
      "execution_count": null,
      "metadata": {
        "colab": {
          "base_uri": "https://localhost:8080/"
        },
        "id": "sBWzzZ7DBrRr",
        "outputId": "0a3667f1-02fd-426a-c249-c41681b9c42b"
      },
      "outputs": [
        {
          "output_type": "stream",
          "name": "stdout",
          "text": [
            "KNN Accuracy: 0.8578745198463509\n",
            "[[450  47]\n",
            " [ 64 220]]\n",
            "              precision    recall  f1-score   support\n",
            "\n",
            "         0.0       0.88      0.91      0.89       497\n",
            "         1.0       0.82      0.77      0.80       284\n",
            "\n",
            "    accuracy                           0.86       781\n",
            "   macro avg       0.85      0.84      0.84       781\n",
            "weighted avg       0.86      0.86      0.86       781\n",
            "\n"
          ]
        }
      ],
      "source": [
        "knn = KNeighborsClassifier(n_neighbors=5)\n",
        "knn.fit(X_train, y_train)\n",
        "y_pred_knn = knn.predict(X_test)\n",
        "print(\"KNN Accuracy:\", accuracy_score(y_test, y_pred_knn))\n",
        "print(confusion_matrix(y_test, y_pred_knn))\n",
        "print(classification_report(y_test, y_pred_knn))"
      ]
    },
    {
      "cell_type": "code",
      "source": [
        "from sklearn.inspection import permutation_importance"
      ],
      "metadata": {
        "id": "0giB7xXmcnno"
      },
      "execution_count": null,
      "outputs": []
    },
    {
      "cell_type": "code",
      "source": [
        "importance_knn = permutation_importance(knn, X_train, y_train, n_repeats=10, random_state=42).importances_mean"
      ],
      "metadata": {
        "id": "2SCHXweYcER1"
      },
      "execution_count": null,
      "outputs": []
    },
    {
      "cell_type": "markdown",
      "metadata": {
        "id": "3IjDSig2A33C"
      },
      "source": [
        "#Support Vector Machine (SVM)"
      ]
    },
    {
      "cell_type": "code",
      "execution_count": null,
      "metadata": {
        "colab": {
          "base_uri": "https://localhost:8080/"
        },
        "id": "Gw6Qo26QA7oj",
        "outputId": "21b4b4ac-1581-4b0a-a493-eddd1bd7e523"
      },
      "outputs": [
        {
          "output_type": "stream",
          "name": "stdout",
          "text": [
            "SVM Accuracy: 0.8079385403329066\n",
            "[[413  84]\n",
            " [ 66 218]]\n",
            "              precision    recall  f1-score   support\n",
            "\n",
            "         0.0       0.86      0.83      0.85       497\n",
            "         1.0       0.72      0.77      0.74       284\n",
            "\n",
            "    accuracy                           0.81       781\n",
            "   macro avg       0.79      0.80      0.80       781\n",
            "weighted avg       0.81      0.81      0.81       781\n",
            "\n"
          ]
        }
      ],
      "source": [
        "svm = SVC(kernel='linear', probability=True)\n",
        "svm.fit(X_train, y_train)\n",
        "y_pred_svm = svm.predict(X_test)\n",
        "print(\"SVM Accuracy:\", accuracy_score(y_test, y_pred_svm))\n",
        "print(confusion_matrix(y_test, y_pred_svm))\n",
        "print(classification_report(y_test, y_pred_svm))"
      ]
    },
    {
      "cell_type": "code",
      "source": [
        "importance_svm = np.abs(svm.coef_[0])"
      ],
      "metadata": {
        "id": "cYXV_hgycvPL"
      },
      "execution_count": null,
      "outputs": []
    },
    {
      "cell_type": "markdown",
      "metadata": {
        "id": "w4uj6Ex_BBG7"
      },
      "source": [
        "#Gradient Boosting Classifier"
      ]
    },
    {
      "cell_type": "code",
      "execution_count": null,
      "metadata": {
        "colab": {
          "base_uri": "https://localhost:8080/"
        },
        "id": "KtqEX5d7BGRE",
        "outputId": "a8a10515-a89d-4e69-d8b9-96483965a4c5"
      },
      "outputs": [
        {
          "output_type": "stream",
          "name": "stdout",
          "text": [
            "Gradient Boosting Accuracy: 0.8796414852752881\n",
            "[[454  43]\n",
            " [ 51 233]]\n",
            "              precision    recall  f1-score   support\n",
            "\n",
            "         0.0       0.90      0.91      0.91       497\n",
            "         1.0       0.84      0.82      0.83       284\n",
            "\n",
            "    accuracy                           0.88       781\n",
            "   macro avg       0.87      0.87      0.87       781\n",
            "weighted avg       0.88      0.88      0.88       781\n",
            "\n"
          ]
        }
      ],
      "source": [
        "gb = GradientBoostingClassifier()\n",
        "gb.fit(X_train, y_train)\n",
        "y_pred_gb = gb.predict(X_test)\n",
        "print(\"Gradient Boosting Accuracy:\", accuracy_score(y_test, y_pred_gb))\n",
        "print(confusion_matrix(y_test, y_pred_gb))\n",
        "print(classification_report(y_test, y_pred_gb))"
      ]
    },
    {
      "cell_type": "code",
      "source": [
        "importance_gb = gb.feature_importances_"
      ],
      "metadata": {
        "id": "_GYf85qvcy_Y"
      },
      "execution_count": null,
      "outputs": []
    },
    {
      "cell_type": "markdown",
      "metadata": {
        "id": "EguQI-cCBD-j"
      },
      "source": [
        "#XGBoost"
      ]
    },
    {
      "cell_type": "code",
      "execution_count": null,
      "metadata": {
        "colab": {
          "base_uri": "https://localhost:8080/"
        },
        "id": "gJYWDmzFBLLN",
        "outputId": "e5aa98a0-24b1-4209-fa68-034d7c77f877"
      },
      "outputs": [
        {
          "output_type": "stream",
          "name": "stdout",
          "text": [
            "XGBoost Accuracy: 0.912932138284251\n",
            "[[466  31]\n",
            " [ 37 247]]\n",
            "              precision    recall  f1-score   support\n",
            "\n",
            "         0.0       0.93      0.94      0.93       497\n",
            "         1.0       0.89      0.87      0.88       284\n",
            "\n",
            "    accuracy                           0.91       781\n",
            "   macro avg       0.91      0.90      0.91       781\n",
            "weighted avg       0.91      0.91      0.91       781\n",
            "\n"
          ]
        }
      ],
      "source": [
        "xgb_model = xgb.XGBClassifier()\n",
        "xgb_model.fit(X_train, y_train)\n",
        "y_pred_xgb = xgb_model.predict(X_test)\n",
        "print(\"XGBoost Accuracy:\", accuracy_score(y_test, y_pred_xgb))\n",
        "print(confusion_matrix(y_test, y_pred_xgb))\n",
        "print(classification_report(y_test, y_pred_xgb))"
      ]
    },
    {
      "cell_type": "code",
      "source": [
        "importance_xgb = xgb_model.feature_importances_"
      ],
      "metadata": {
        "id": "Ts1Af3JUc2Q3"
      },
      "execution_count": null,
      "outputs": []
    },
    {
      "cell_type": "markdown",
      "metadata": {
        "id": "Oh-8Ny6IBTsS"
      },
      "source": [
        "#LightGBM"
      ]
    },
    {
      "cell_type": "code",
      "execution_count": null,
      "metadata": {
        "colab": {
          "base_uri": "https://localhost:8080/"
        },
        "id": "KIB6492FBSwf",
        "outputId": "eed80778-c665-4fab-fba9-4260181428ff"
      },
      "outputs": [
        {
          "output_type": "stream",
          "name": "stdout",
          "text": [
            "[LightGBM] [Info] Number of positive: 1070, number of negative: 2054\n",
            "[LightGBM] [Info] Auto-choosing row-wise multi-threading, the overhead of testing was 0.000966 seconds.\n",
            "You can set `force_row_wise=true` to remove the overhead.\n",
            "And if memory is not enough, you can set `force_col_wise=true`.\n",
            "[LightGBM] [Info] Total Bins 1396\n",
            "[LightGBM] [Info] Number of data points in the train set: 3124, number of used features: 25\n",
            "[LightGBM] [Info] [binary:BoostFromScore]: pavg=0.342510 -> initscore=-0.652130\n",
            "[LightGBM] [Info] Start training from score -0.652130\n",
            "LightGBM Accuracy: 0.9180537772087067\n",
            "[[469  28]\n",
            " [ 36 248]]\n",
            "              precision    recall  f1-score   support\n",
            "\n",
            "         0.0       0.93      0.94      0.94       497\n",
            "         1.0       0.90      0.87      0.89       284\n",
            "\n",
            "    accuracy                           0.92       781\n",
            "   macro avg       0.91      0.91      0.91       781\n",
            "weighted avg       0.92      0.92      0.92       781\n",
            "\n"
          ]
        }
      ],
      "source": [
        "lgb_model = lgb.LGBMClassifier()\n",
        "lgb_model.fit(X_train, y_train)\n",
        "y_pred_lgb = lgb_model.predict(X_test)\n",
        "print(\"LightGBM Accuracy:\", accuracy_score(y_test, y_pred_lgb))\n",
        "print(confusion_matrix(y_test, y_pred_lgb))\n",
        "print(classification_report(y_test, y_pred_lgb))"
      ]
    },
    {
      "cell_type": "code",
      "source": [
        "importance_lgb = lgb_model.feature_importances_"
      ],
      "metadata": {
        "id": "DwJCW-onc4kI"
      },
      "execution_count": null,
      "outputs": []
    },
    {
      "cell_type": "markdown",
      "metadata": {
        "id": "FrPeeWz1BZMP"
      },
      "source": [
        "#Catboost"
      ]
    },
    {
      "cell_type": "code",
      "execution_count": null,
      "metadata": {
        "colab": {
          "base_uri": "https://localhost:8080/"
        },
        "id": "xv3N-x5qBbPk",
        "outputId": "9faa85ac-8cf1-40b6-f68e-2083f8f359f3"
      },
      "outputs": [
        {
          "output_type": "stream",
          "name": "stdout",
          "text": [
            "CatBoost Accuracy: 0.912932138284251\n",
            "[[469  28]\n",
            " [ 40 244]]\n",
            "              precision    recall  f1-score   support\n",
            "\n",
            "         0.0       0.92      0.94      0.93       497\n",
            "         1.0       0.90      0.86      0.88       284\n",
            "\n",
            "    accuracy                           0.91       781\n",
            "   macro avg       0.91      0.90      0.91       781\n",
            "weighted avg       0.91      0.91      0.91       781\n",
            "\n"
          ]
        }
      ],
      "source": [
        "cat_model = CatBoostClassifier(verbose=0)\n",
        "cat_model.fit(X_train, y_train)\n",
        "y_pred_cat = cat_model.predict(X_test)\n",
        "print(\"CatBoost Accuracy:\", accuracy_score(y_test, y_pred_cat))\n",
        "print(confusion_matrix(y_test, y_pred_cat))\n",
        "print(classification_report(y_test, y_pred_cat))"
      ]
    },
    {
      "cell_type": "code",
      "source": [
        "importance_cb = cat_model.feature_importances_"
      ],
      "metadata": {
        "id": "oJx110KIdMFz"
      },
      "execution_count": null,
      "outputs": []
    },
    {
      "cell_type": "markdown",
      "metadata": {
        "id": "Em-A4ow-_VqQ"
      },
      "source": [
        "#Neural Network"
      ]
    },
    {
      "cell_type": "code",
      "execution_count": null,
      "metadata": {
        "colab": {
          "base_uri": "https://localhost:8080/"
        },
        "id": "4Of_Iw3L_Xju",
        "outputId": "9e2f9924-af1a-41fc-f802-87aad0e4888f"
      },
      "outputs": [
        {
          "output_type": "stream",
          "name": "stdout",
          "text": [
            "Epoch 1/50\n",
            "98/98 [==============================] - 2s 4ms/step - loss: 0.5829 - accuracy: 0.6969 - val_loss: 0.5037 - val_accuracy: 0.7836\n",
            "Epoch 2/50\n",
            "98/98 [==============================] - 0s 2ms/step - loss: 0.4587 - accuracy: 0.7878 - val_loss: 0.4390 - val_accuracy: 0.7964\n",
            "Epoch 3/50\n",
            "98/98 [==============================] - 0s 3ms/step - loss: 0.4080 - accuracy: 0.7935 - val_loss: 0.4156 - val_accuracy: 0.8118\n",
            "Epoch 4/50\n",
            "98/98 [==============================] - 0s 2ms/step - loss: 0.3861 - accuracy: 0.8095 - val_loss: 0.4162 - val_accuracy: 0.8156\n",
            "Epoch 5/50\n",
            "98/98 [==============================] - 0s 2ms/step - loss: 0.3725 - accuracy: 0.8166 - val_loss: 0.4128 - val_accuracy: 0.8131\n",
            "Epoch 6/50\n",
            "98/98 [==============================] - 0s 3ms/step - loss: 0.3644 - accuracy: 0.8188 - val_loss: 0.4001 - val_accuracy: 0.8169\n",
            "Epoch 7/50\n",
            "98/98 [==============================] - 0s 3ms/step - loss: 0.3543 - accuracy: 0.8262 - val_loss: 0.4145 - val_accuracy: 0.8015\n",
            "Epoch 8/50\n",
            "98/98 [==============================] - 0s 3ms/step - loss: 0.3493 - accuracy: 0.8275 - val_loss: 0.3955 - val_accuracy: 0.8156\n",
            "Epoch 9/50\n",
            "98/98 [==============================] - 0s 2ms/step - loss: 0.3431 - accuracy: 0.8310 - val_loss: 0.3951 - val_accuracy: 0.8246\n",
            "Epoch 10/50\n",
            "98/98 [==============================] - 0s 2ms/step - loss: 0.3400 - accuracy: 0.8358 - val_loss: 0.3962 - val_accuracy: 0.8015\n",
            "Epoch 11/50\n",
            "98/98 [==============================] - 0s 2ms/step - loss: 0.3343 - accuracy: 0.8335 - val_loss: 0.3876 - val_accuracy: 0.8412\n",
            "Epoch 12/50\n",
            "98/98 [==============================] - 0s 3ms/step - loss: 0.3296 - accuracy: 0.8361 - val_loss: 0.3908 - val_accuracy: 0.8195\n",
            "Epoch 13/50\n",
            "98/98 [==============================] - 0s 2ms/step - loss: 0.3258 - accuracy: 0.8431 - val_loss: 0.3878 - val_accuracy: 0.8041\n",
            "Epoch 14/50\n",
            "98/98 [==============================] - 0s 3ms/step - loss: 0.3231 - accuracy: 0.8393 - val_loss: 0.3934 - val_accuracy: 0.8079\n",
            "Epoch 15/50\n",
            "98/98 [==============================] - 0s 2ms/step - loss: 0.3205 - accuracy: 0.8480 - val_loss: 0.3850 - val_accuracy: 0.8374\n",
            "Epoch 16/50\n",
            "98/98 [==============================] - 0s 3ms/step - loss: 0.3174 - accuracy: 0.8508 - val_loss: 0.3937 - val_accuracy: 0.8233\n",
            "Epoch 17/50\n",
            "98/98 [==============================] - 0s 3ms/step - loss: 0.3133 - accuracy: 0.8486 - val_loss: 0.3828 - val_accuracy: 0.8361\n",
            "Epoch 18/50\n",
            "98/98 [==============================] - 0s 3ms/step - loss: 0.3117 - accuracy: 0.8476 - val_loss: 0.3830 - val_accuracy: 0.8246\n",
            "Epoch 19/50\n",
            "98/98 [==============================] - 0s 3ms/step - loss: 0.3114 - accuracy: 0.8553 - val_loss: 0.4002 - val_accuracy: 0.8399\n",
            "Epoch 20/50\n",
            "98/98 [==============================] - 0s 3ms/step - loss: 0.3064 - accuracy: 0.8560 - val_loss: 0.3720 - val_accuracy: 0.8259\n",
            "Epoch 21/50\n",
            "98/98 [==============================] - 0s 3ms/step - loss: 0.3027 - accuracy: 0.8569 - val_loss: 0.3967 - val_accuracy: 0.8451\n",
            "Epoch 22/50\n",
            "98/98 [==============================] - 0s 3ms/step - loss: 0.3022 - accuracy: 0.8540 - val_loss: 0.3909 - val_accuracy: 0.8361\n",
            "Epoch 23/50\n",
            "98/98 [==============================] - 0s 3ms/step - loss: 0.2983 - accuracy: 0.8595 - val_loss: 0.3937 - val_accuracy: 0.8348\n",
            "Epoch 24/50\n",
            "98/98 [==============================] - 0s 3ms/step - loss: 0.2981 - accuracy: 0.8540 - val_loss: 0.3680 - val_accuracy: 0.8489\n",
            "Epoch 25/50\n",
            "98/98 [==============================] - 0s 3ms/step - loss: 0.2958 - accuracy: 0.8547 - val_loss: 0.4007 - val_accuracy: 0.8412\n",
            "Epoch 26/50\n",
            "98/98 [==============================] - 0s 3ms/step - loss: 0.2911 - accuracy: 0.8636 - val_loss: 0.3865 - val_accuracy: 0.8259\n",
            "Epoch 27/50\n",
            "98/98 [==============================] - 0s 3ms/step - loss: 0.2898 - accuracy: 0.8652 - val_loss: 0.3780 - val_accuracy: 0.8412\n",
            "Epoch 28/50\n",
            "98/98 [==============================] - 0s 3ms/step - loss: 0.2883 - accuracy: 0.8627 - val_loss: 0.3998 - val_accuracy: 0.8399\n",
            "Epoch 29/50\n",
            "98/98 [==============================] - 0s 3ms/step - loss: 0.2842 - accuracy: 0.8758 - val_loss: 0.3902 - val_accuracy: 0.8412\n",
            "Epoch 30/50\n",
            "98/98 [==============================] - 0s 3ms/step - loss: 0.2824 - accuracy: 0.8710 - val_loss: 0.3974 - val_accuracy: 0.8438\n",
            "Epoch 31/50\n",
            "98/98 [==============================] - 0s 3ms/step - loss: 0.2792 - accuracy: 0.8691 - val_loss: 0.3840 - val_accuracy: 0.8489\n",
            "Epoch 32/50\n",
            "98/98 [==============================] - 0s 2ms/step - loss: 0.2804 - accuracy: 0.8668 - val_loss: 0.3903 - val_accuracy: 0.8515\n",
            "Epoch 33/50\n",
            "98/98 [==============================] - 0s 5ms/step - loss: 0.2772 - accuracy: 0.8662 - val_loss: 0.3937 - val_accuracy: 0.8412\n",
            "Epoch 34/50\n",
            "98/98 [==============================] - 0s 4ms/step - loss: 0.2746 - accuracy: 0.8700 - val_loss: 0.4010 - val_accuracy: 0.8476\n",
            "Epoch 35/50\n",
            "98/98 [==============================] - 0s 4ms/step - loss: 0.2724 - accuracy: 0.8729 - val_loss: 0.3776 - val_accuracy: 0.8528\n",
            "Epoch 36/50\n",
            "98/98 [==============================] - 0s 4ms/step - loss: 0.2707 - accuracy: 0.8732 - val_loss: 0.3818 - val_accuracy: 0.8348\n",
            "Epoch 37/50\n",
            "98/98 [==============================] - 0s 4ms/step - loss: 0.2698 - accuracy: 0.8742 - val_loss: 0.3819 - val_accuracy: 0.8489\n",
            "Epoch 38/50\n",
            "98/98 [==============================] - 0s 5ms/step - loss: 0.2668 - accuracy: 0.8787 - val_loss: 0.4155 - val_accuracy: 0.8566\n",
            "Epoch 39/50\n",
            "98/98 [==============================] - 0s 3ms/step - loss: 0.2679 - accuracy: 0.8704 - val_loss: 0.3921 - val_accuracy: 0.8592\n",
            "Epoch 40/50\n",
            "98/98 [==============================] - 0s 5ms/step - loss: 0.2652 - accuracy: 0.8825 - val_loss: 0.4169 - val_accuracy: 0.8451\n",
            "Epoch 41/50\n",
            "98/98 [==============================] - 0s 3ms/step - loss: 0.2596 - accuracy: 0.8851 - val_loss: 0.3950 - val_accuracy: 0.8553\n",
            "Epoch 42/50\n",
            "98/98 [==============================] - 0s 3ms/step - loss: 0.2589 - accuracy: 0.8838 - val_loss: 0.4198 - val_accuracy: 0.8438\n",
            "Epoch 43/50\n",
            "98/98 [==============================] - 0s 3ms/step - loss: 0.2573 - accuracy: 0.8873 - val_loss: 0.4016 - val_accuracy: 0.8540\n",
            "Epoch 44/50\n",
            "98/98 [==============================] - 0s 3ms/step - loss: 0.2600 - accuracy: 0.8828 - val_loss: 0.4041 - val_accuracy: 0.8489\n",
            "Epoch 45/50\n",
            "98/98 [==============================] - 0s 3ms/step - loss: 0.2541 - accuracy: 0.8928 - val_loss: 0.3920 - val_accuracy: 0.8579\n",
            "Epoch 46/50\n",
            "98/98 [==============================] - 0s 2ms/step - loss: 0.2543 - accuracy: 0.8854 - val_loss: 0.3941 - val_accuracy: 0.8566\n",
            "Epoch 47/50\n",
            "98/98 [==============================] - 0s 3ms/step - loss: 0.2525 - accuracy: 0.8896 - val_loss: 0.4019 - val_accuracy: 0.8540\n",
            "Epoch 48/50\n",
            "98/98 [==============================] - 1s 6ms/step - loss: 0.2506 - accuracy: 0.8883 - val_loss: 0.3999 - val_accuracy: 0.8515\n",
            "Epoch 49/50\n",
            "98/98 [==============================] - 1s 6ms/step - loss: 0.2490 - accuracy: 0.8864 - val_loss: 0.3989 - val_accuracy: 0.8502\n",
            "Epoch 50/50\n",
            "98/98 [==============================] - 1s 5ms/step - loss: 0.2473 - accuracy: 0.8953 - val_loss: 0.3980 - val_accuracy: 0.8489\n",
            "25/25 [==============================] - 0s 3ms/step - loss: 0.3980 - accuracy: 0.8489\n",
            "Neural Network Accuracy: 0.8489116430282593\n"
          ]
        }
      ],
      "source": [
        "model = Sequential()\n",
        "model.add(Dense(32, input_dim=X_train.shape[1], activation='relu'))\n",
        "model.add(Dense(16, activation='relu'))\n",
        "model.add(Dense(1, activation='sigmoid'))\n",
        "model.compile(loss='binary_crossentropy', optimizer='adam', metrics=['accuracy'])\n",
        "model.fit(X_train, y_train, epochs=50, batch_size=32, validation_data=(X_test, y_test))\n",
        "loss, accuracy = model.evaluate(X_test, y_test)\n",
        "print(\"Neural Network Accuracy:\", accuracy)"
      ]
    },
    {
      "cell_type": "markdown",
      "metadata": {
        "id": "NN-IUxfgCwSw"
      },
      "source": [
        "#Results"
      ]
    },
    {
      "cell_type": "code",
      "execution_count": null,
      "metadata": {
        "colab": {
          "base_uri": "https://localhost:8080/"
        },
        "id": "ehDRcA18DB7J",
        "outputId": "14264f13-ed9d-4eb0-d97a-2f10777f0f16"
      },
      "outputs": [
        {
          "output_type": "stream",
          "name": "stdout",
          "text": [
            "                 Model  Accuracy\n",
            "0  Logistic Regression  0.814341\n",
            "1        Random Forest  0.912932\n",
            "2                  KNN  0.857875\n",
            "3                  SVM  0.807939\n",
            "4    Gradient Boosting  0.879641\n",
            "5              XGBoost  0.912932\n",
            "6             LightGBM  0.918054\n",
            "7             CatBoost  0.912932\n",
            "8       Neural Network  0.848912\n"
          ]
        }
      ],
      "source": [
        "results_df = pd.DataFrame({\n",
        "    'Model': ['Logistic Regression', 'Random Forest', 'KNN', 'SVM', 'Gradient Boosting', 'XGBoost', 'LightGBM', 'CatBoost', 'Neural Network'],\n",
        "    'Accuracy': [accuracy_score(y_test, y_pred_logreg),\n",
        "                 accuracy_score(y_test, y_pred_rf),\n",
        "                 accuracy_score(y_test, y_pred_knn),\n",
        "                 accuracy_score(y_test, y_pred_svm),\n",
        "                 accuracy_score(y_test, y_pred_gb),\n",
        "                 accuracy_score(y_test, y_pred_xgb),\n",
        "                 accuracy_score(y_test, y_pred_lgb),\n",
        "                 accuracy_score(y_test, y_pred_cat),\n",
        "                 accuracy]\n",
        "})\n",
        "\n",
        "print(results_df)\n"
      ]
    },
    {
      "cell_type": "code",
      "execution_count": null,
      "metadata": {
        "colab": {
          "base_uri": "https://localhost:8080/",
          "height": 654
        },
        "id": "m0V2fLyeDJle",
        "outputId": "2132b7c9-7011-438a-fb0f-5ce7f4cd3c8d"
      },
      "outputs": [
        {
          "output_type": "display_data",
          "data": {
            "text/plain": [
              "<Figure size 1000x600 with 1 Axes>"
            ],
            "image/png": "[encoded data removed]"
          },
          "metadata": {}
        }
      ],
      "source": [
        "import matplotlib.pyplot as plt\n",
        "plt.figure(figsize=(10, 6))\n",
        "plt.bar(results_df['Model'], results_df['Accuracy'], color='skyblue')\n",
        "plt.xlabel('Models')\n",
        "plt.ylabel('Accuracy')\n",
        "plt.title('Model Comparison')\n",
        "plt.xticks(rotation=45)\n",
        "plt.ylim(0, 1)\n",
        "plt.show()\n"
      ]
    },
    {
      "cell_type": "markdown",
      "source": [
        "# Important Feature"
      ],
      "metadata": {
        "id": "NIGjM6dGdg6B"
      }
    },
    {
      "cell_type": "code",
      "source": [
        "from sklearn.preprocessing import MinMaxScaler"
      ],
      "metadata": {
        "id": "_fqLHjCue8yf"
      },
      "execution_count": null,
      "outputs": []
    },
    {
      "cell_type": "code",
      "source": [
        "def normalize_importances(importances):\n",
        "    scaler = MinMaxScaler()\n",
        "    return scaler.fit_transform(importances.reshape(-1, 1)).flatten()\n",
        "\n",
        "normalized_importances = {\n",
        "    'Logistic Regression': normalize_importances(importance_lr),\n",
        "    'Random Forest': normalize_importances(importance_rf),\n",
        "    'KNN': normalize_importances(importance_knn),\n",
        "    'SVM': normalize_importances(importance_svm),\n",
        "    'Gradient Boosting': normalize_importances(importance_gb),\n",
        "    'XGBoost': normalize_importances(importance_xgb),\n",
        "    'LightGBM': normalize_importances(importance_lgb),\n",
        "    'CatBoost': normalize_importances(importance_cb),\n",
        "\n",
        "}\n",
        "\n",
        "normalized_importances_df = pd.DataFrame(normalized_importances, index=feature_names)\n",
        "normalized_importances_df['Mean Importance'] = normalized_importances_df.mean(axis=1)\n",
        "ranked_features = normalized_importances_df.sort_values(by='Mean Importance', ascending=False)\n",
        "print(ranked_features[['Mean Importance']])"
      ],
      "metadata": {
        "colab": {
          "base_uri": "https://localhost:8080/"
        },
        "id": "ZqLZOqFJdjs3",
        "outputId": "898eca27-661f-49dc-a559-2df2e4bc8ee9"
      },
      "execution_count": null,
      "outputs": [
        {
          "output_type": "stream",
          "name": "stdout",
          "text": [
            "                                Mean Importance\n",
            "num_scripts                            0.796302\n",
            "num_internal_links                     0.755416\n",
            "num_meta_tags                          0.575632\n",
            "num_password_fields                    0.543802\n",
            "num_external_links                     0.478773\n",
            "num_inputs                             0.292698\n",
            "num_mailto_links                       0.281291\n",
            "num_inline_styles                      0.250633\n",
            "num_js_functions                       0.238205\n",
            "num_images                             0.236352\n",
            "num_external_form_actions              0.180798\n",
            "num_hidden_fields                      0.165775\n",
            "num_style_tags                         0.157237\n",
            "num_forms                              0.143606\n",
            "has_settimeout_js                      0.110457\n",
            "num_iframes                            0.104603\n",
            "num_refresh_meta                       0.091785\n",
            "has_unescape_js                        0.083036\n",
            "has_escape_js                          0.081262\n",
            "num_onload_attributes                  0.063785\n",
            "url_length                             0.059240\n",
            "num_images_with_suspicious_url         0.055650\n",
            "has_setinterval_js                     0.045361\n",
            "has_eval_js                            0.016582\n",
            "num_hidden_iframes                     0.007027\n",
            "num_onerror_attributes                 0.006333\n",
            "num_dots_in_url                        0.000000\n"
          ]
        }
      ]
    },
    {
      "cell_type": "code",
      "source": [
        "import numpy as np\n",
        "import pandas as pd\n",
        "from sklearn.preprocessing import MinMaxScaler\n",
        "import matplotlib.pyplot as plt"
      ],
      "metadata": {
        "id": "09Al-fN29yQb"
      },
      "execution_count": null,
      "outputs": []
    },
    {
      "cell_type": "code",
      "source": [
        "plt.figure(figsize=(10, 8))\n",
        "plt.barh(ranked_features.index, ranked_features['Mean Importance'], color='skyblue')\n",
        "plt.xlabel('Mean Importance')\n",
        "plt.ylabel('Feature')\n",
        "plt.title('Feature Importances')\n",
        "plt.gca().invert_yaxis()\n",
        "plt.show()\n"
      ],
      "metadata": {
        "colab": {
          "base_uri": "https://localhost:8080/",
          "height": 718
        },
        "id": "tktWESTOG0aT",
        "outputId": "ed92dad3-bd54-48ae-a1ef-288af003a90b"
      },
      "execution_count": null,
      "outputs": [
        {
          "output_type": "display_data",
          "data": {
            "text/plain": [
              "<Figure size 1000x800 with 1 Axes>"
            ],
            "image/png": "[encoded data removed]"
          },
          "metadata": {}
        }
      ]
    },
    {
      "cell_type": "markdown",
      "source": [
        "#Testing"
      ],
      "metadata": {
        "id": "ngY4TbuaIDUH"
      }
    },
    {
      "cell_type": "code",
      "source": [
        "import requests\n",
        "from bs4 import BeautifulSoup\n",
        "import pandas as pd\n",
        "import re\n",
        "from urllib.parse import urlparse"
      ],
      "metadata": {
        "id": "8cyBd3qvIIC3"
      },
      "execution_count": null,
      "outputs": []
    },
    {
      "cell_type": "code",
      "source": [
        "def extract_features(soup, url):\n",
        "    parsed_url = urlparse(url)\n",
        "    filename = parsed_url.path.split('/')[-1] or 'index.html'\n",
        "    features = {\n",
        "        'url': url,\n",
        "        'url_length': len(url),\n",
        "        'num_dots_in_url': url.count('.'),\n",
        "        'num_special_chars': len(re.findall(r'[@\\-_=&]', url)),\n",
        "        'num_subdomains': url.count('.') - 1,\n",
        "        'num_forms': len(soup.find_all('form')),\n",
        "        'num_inputs': len(soup.find_all('input')),\n",
        "        'num_password_fields': len(soup.find_all('input', {'type': 'password'})),\n",
        "        'num_external_links': len([link for link in soup.find_all('a', href=True) if urlparse(link['href']).netloc]),\n",
        "        'num_internal_links': len([link for link in soup.find_all('a', href=True) if not urlparse(link['href']).netloc]),\n",
        "        'num_hidden_fields': len(soup.find_all('input', {'type': 'hidden'})),\n",
        "        'num_mailto_links': len(soup.find_all('a', href=re.compile(r'^mailto:'))),\n",
        "        'num_scripts': len(soup.find_all('script')),\n",
        "        'num_js_functions': sum([str(script).count('function') for script in soup.find_all('script')]),\n",
        "        'has_eval_js': int(any('eval(' in str(script) for script in soup.find_all('script'))),\n",
        "        'has_escape_js': int(any('escape(' in str(script) for script in soup.find_all('script'))),\n",
        "        'has_unescape_js': int(any('unescape(' in str(script) for script in soup.find_all('script'))),\n",
        "        'has_settimeout_js': int(any('setTimeout(' in str(script) for script in soup.find_all('script'))),\n",
        "        'has_setinterval_js': int(any('setInterval(' in str(script) for script in soup.find_all('script'))),\n",
        "        'has_https': int(url.startswith('https://')),\n",
        "        'suspicious_url': int(any(keyword in url.lower() for keyword in ['login', 'bank', 'verify', 'secure', 'account'])),\n",
        "        'num_meta_tags': len(soup.find_all('meta')),\n",
        "        'num_refresh_meta': len(soup.find_all('meta', attrs={'http-equiv': 'refresh'})),\n",
        "        'num_iframes': len(soup.find_all('iframe')),\n",
        "        'num_hidden_iframes': len([iframe for iframe in soup.find_all('iframe') if iframe.get('style') == 'display:none']),\n",
        "        'num_images': len(soup.find_all('img')),\n",
        "        'num_images_with_suspicious_url': len([img for img in soup.find_all('img') if any(keyword in img.get('src', '').lower() for keyword in ['login', 'bank', 'verify', 'secure', 'account'])]),\n",
        "        'num_style_tags': len(soup.find_all('style')),\n",
        "        'num_inline_styles': len(soup.find_all(style=True)),\n",
        "        'num_onload_attributes': len(soup.find_all(attrs={'onload': True})),\n",
        "        'num_onerror_attributes': len(soup.find_all(attrs={'onerror': True})),\n",
        "        'num_external_form_actions': len([form for form in soup.find_all('form') if urlparse(form.get('action', '')).netloc])\n",
        "    }\n",
        "\n",
        "    return features\n"
      ],
      "metadata": {
        "id": "uKgbScZHHKnX"
      },
      "execution_count": null,
      "outputs": []
    },
    {
      "cell_type": "code",
      "source": [
        " #https://en.wikipedia.org/wiki/Web_scraping"
      ],
      "metadata": {
        "id": "4Qf3c184SE4t"
      },
      "execution_count": null,
      "outputs": []
    },
    {
      "cell_type": "code",
      "source": [
        "url= input(\"Enter a URL: \")\n",
        "data = []\n",
        "\n",
        "try:\n",
        "  response = requests.get(url)\n",
        "  response.raise_for_status()\n",
        "  soup = BeautifulSoup(response.content, 'html.parser')\n",
        "  features = extract_features(soup, url)\n",
        "  data.append(features)\n",
        "  print(f\"Processed URL: {url}\")\n",
        "\n",
        "except requests.exceptions.RequestException as e:\n",
        "  print(f\"Error fetching {url}: {e}\")\n",
        "\n",
        "test_df = pd.DataFrame(data)\n",
        "test_df"
      ],
      "metadata": {
        "colab": {
          "base_uri": "https://localhost:8080/",
          "height": 165
        },
        "id": "hsH77yydIGKg",
        "outputId": "2fa1818d-28a0-493c-ee88-d5afec45cc2b"
      },
      "execution_count": null,
      "outputs": [
        {
          "output_type": "stream",
          "name": "stdout",
          "text": [
            "Enter a URL: https://en.wikipedia.org/wiki/Web_scraping\n",
            "Processed URL: https://en.wikipedia.org/wiki/Web_scraping\n"
          ]
        },
        {
          "output_type": "execute_result",
          "data": {
            "text/plain": [
              "                                          url  url_length  num_dots_in_url  \\\n",
              "0  https://en.wikipedia.org/wiki/Web_scraping          42                2   \n",
              "\n",
              "   num_special_chars  num_subdomains  num_forms  num_inputs  \\\n",
              "0                  1               1          1           9   \n",
              "\n",
              "   num_password_fields  num_external_links  num_internal_links  ...  \\\n",
              "0                    0                 100                 316  ...   \n",
              "\n",
              "   num_refresh_meta  num_iframes  num_hidden_iframes  num_images  \\\n",
              "0                 0            0                   0           8   \n",
              "\n",
              "   num_images_with_suspicious_url  num_style_tags  num_inline_styles  \\\n",
              "0                               1               5                  9   \n",
              "\n",
              "   num_onload_attributes  num_onerror_attributes  num_external_form_actions  \n",
              "0                      0                       0                          0  \n",
              "\n",
              "[1 rows x 32 columns]"
            ],
            "text/html": [
              "\n",
              "  <div id=\"df-66696650-911c-455d-a335-36b12417d677\" class=\"colab-df-container\">\n",
              "    <div>\n",
              "<style scoped>\n",
              "    .dataframe tbody tr th:only-of-type {\n",
              "        vertical-align: middle;\n",
              "    }\n",
              "\n",
              "    .dataframe tbody tr th {\n",
              "        vertical-align: top;\n",
              "    }\n",
              "\n",
              "    .dataframe thead th {\n",
              "        text-align: right;\n",
              "    }\n",
              "</style>\n",
              "<table border=\"1\" class=\"dataframe\">\n",
              "  <thead>\n",
              "    <tr style=\"text-align: right;\">\n",
              "      <th></th>\n",
              "      <th>url</th>\n",
              "      <th>url_length</th>\n",
              "      <th>num_dots_in_url</th>\n",
              "      <th>num_special_chars</th>\n",
              "      <th>num_subdomains</th>\n",
              "      <th>num_forms</th>\n",
              "      <th>num_inputs</th>\n",
              "      <th>num_password_fields</th>\n",
              "      <th>num_external_links</th>\n",
              "      <th>num_internal_links</th>\n",
              "      <th>...</th>\n",
              "      <th>num_refresh_meta</th>\n",
              "      <th>num_iframes</th>\n",
              "      <th>num_hidden_iframes</th>\n",
              "      <th>num_images</th>\n",
              "      <th>num_images_with_suspicious_url</th>\n",
              "      <th>num_style_tags</th>\n",
              "      <th>num_inline_styles</th>\n",
              "      <th>num_onload_attributes</th>\n",
              "      <th>num_onerror_attributes</th>\n",
              "      <th>num_external_form_actions</th>\n",
              "    </tr>\n",
              "  </thead>\n",
              "  <tbody>\n",
              "    <tr>\n",
              "      <th>0</th>\n",
              "      <td>https://en.wikipedia.org/wiki/Web_scraping</td>\n",
              "      <td>42</td>\n",
              "      <td>2</td>\n",
              "      <td>1</td>\n",
              "      <td>1</td>\n",
              "      <td>1</td>\n",
              "      <td>9</td>\n",
              "      <td>0</td>\n",
              "      <td>100</td>\n",
              "      <td>316</td>\n",
              "      <td>...</td>\n",
              "      <td>0</td>\n",
              "      <td>0</td>\n",
              "      <td>0</td>\n",
              "      <td>8</td>\n",
              "      <td>1</td>\n",
              "      <td>5</td>\n",
              "      <td>9</td>\n",
              "      <td>0</td>\n",
              "      <td>0</td>\n",
              "      <td>0</td>\n",
              "    </tr>\n",
              "  </tbody>\n",
              "</table>\n",
              "<p>1 rows × 32 columns</p>\n",
              "</div>\n",
              "    <div class=\"colab-df-buttons\">\n",
              "\n",
              "  <div class=\"colab-df-container\">\n",
              "    <button class=\"colab-df-convert\" onclick=\"convertToInteractive('df-66696650-911c-455d-a335-36b12417d677')\"\n",
              "            title=\"Convert this dataframe to an interactive table.\"\n",
              "            style=\"display:none;\">\n",
              "\n",
              "  <svg xmlns=\"http://www.w3.org/2000/svg\" height=\"24px\" viewBox=\"0 -960 960 960\">\n",
              "    <path d=\"M120-120v-720h720v720H120Zm60-500h600v-160H180v160Zm220 220h160v-160H400v160Zm0 220h160v-160H400v160ZM180-400h160v-160H180v160Zm440 0h160v-160H620v160ZM180-180h160v-160H180v160Zm440 0h160v-160H620v160Z\"/>\n",
              "  </svg>\n",
              "    </button>\n",
              "\n",
              "  <style>\n",
              "    .colab-df-container {\n",
              "      display:flex;\n",
              "      gap: 12px;\n",
              "    }\n",
              "\n",
              "    .colab-df-convert {\n",
              "      background-color: #E8F0FE;\n",
              "      border: none;\n",
              "      border-radius: 50%;\n",
              "      cursor: pointer;\n",
              "      display: none;\n",
              "      fill: #1967D2;\n",
              "      height: 32px;\n",
              "      padding: 0 0 0 0;\n",
              "      width: 32px;\n",
              "    }\n",
              "\n",
              "    .colab-df-convert:hover {\n",
              "      background-color: #E2EBFA;\n",
              "      box-shadow: 0px 1px 2px rgba(60, 64, 67, 0.3), 0px 1px 3px 1px rgba(60, 64, 67, 0.15);\n",
              "      fill: #174EA6;\n",
              "    }\n",
              "\n",
              "    .colab-df-buttons div {\n",
              "      margin-bottom: 4px;\n",
              "    }\n",
              "\n",
              "    [theme=dark] .colab-df-convert {\n",
              "      background-color: #3B4455;\n",
              "      fill: #D2E3FC;\n",
              "    }\n",
              "\n",
              "    [theme=dark] .colab-df-convert:hover {\n",
              "      background-color: #434B5C;\n",
              "      box-shadow: 0px 1px 3px 1px rgba(0, 0, 0, 0.15);\n",
              "      filter: drop-shadow(0px 1px 2px rgba(0, 0, 0, 0.3));\n",
              "      fill: #FFFFFF;\n",
              "    }\n",
              "  </style>\n",
              "\n",
              "    <script>\n",
              "      const buttonEl =\n",
              "        document.querySelector('#df-66696650-911c-455d-a335-36b12417d677 button.colab-df-convert');\n",
              "      buttonEl.style.display =\n",
              "        google.colab.kernel.accessAllowed ? 'block' : 'none';\n",
              "\n",
              "      async function convertToInteractive(key) {\n",
              "        const element = document.querySelector('#df-66696650-911c-455d-a335-36b12417d677');\n",
              "        const dataTable =\n",
              "          await google.colab.kernel.invokeFunction('convertToInteractive',\n",
              "                                                    [key], {});\n",
              "        if (!dataTable) return;\n",
              "\n",
              "        const docLinkHtml = 'Like what you see? Visit the ' +\n",
              "          '<a target=\"_blank\" href=https://colab.research.google.com/notebooks/data_table.ipynb>data table notebook</a>'\n",
              "          + ' to learn more about interactive tables.';\n",
              "        element.innerHTML = '';\n",
              "        dataTable['output_type'] = 'display_data';\n",
              "        await google.colab.output.renderOutput(dataTable, element);\n",
              "        const docLink = document.createElement('div');\n",
              "        docLink.innerHTML = docLinkHtml;\n",
              "        element.appendChild(docLink);\n",
              "      }\n",
              "    </script>\n",
              "  </div>\n",
              "\n",
              "\n",
              "  <div id=\"id_df2a2d1f-b458-4020-add7-1bd8c0e9c4ae\">\n",
              "    <style>\n",
              "      .colab-df-generate {\n",
              "        background-color: #E8F0FE;\n",
              "        border: none;\n",
              "        border-radius: 50%;\n",
              "        cursor: pointer;\n",
              "        display: none;\n",
              "        fill: #1967D2;\n",
              "        height: 32px;\n",
              "        padding: 0 0 0 0;\n",
              "        width: 32px;\n",
              "      }\n",
              "\n",
              "      .colab-df-generate:hover {\n",
              "        background-color: #E2EBFA;\n",
              "        box-shadow: 0px 1px 2px rgba(60, 64, 67, 0.3), 0px 1px 3px 1px rgba(60, 64, 67, 0.15);\n",
              "        fill: #174EA6;\n",
              "      }\n",
              "\n",
              "      [theme=dark] .colab-df-generate {\n",
              "        background-color: #3B4455;\n",
              "        fill: #D2E3FC;\n",
              "      }\n",
              "\n",
              "      [theme=dark] .colab-df-generate:hover {\n",
              "        background-color: #434B5C;\n",
              "        box-shadow: 0px 1px 3px 1px rgba(0, 0, 0, 0.15);\n",
              "        filter: drop-shadow(0px 1px 2px rgba(0, 0, 0, 0.3));\n",
              "        fill: #FFFFFF;\n",
              "      }\n",
              "    </style>\n",
              "    <button class=\"colab-df-generate\" onclick=\"generateWithVariable('test_df')\"\n",
              "            title=\"Generate code using this dataframe.\"\n",
              "            style=\"display:none;\">\n",
              "\n",
              "  <svg xmlns=\"http://www.w3.org/2000/svg\" height=\"24px\"viewBox=\"0 0 24 24\"\n",
              "       width=\"24px\">\n",
              "    <path d=\"M7,19H8.4L18.45,9,17,7.55,7,17.6ZM5,21V16.75L18.45,3.32a2,2,0,0,1,2.83,0l1.4,1.43a1.91,1.91,0,0,1,.58,1.4,1.91,1.91,0,0,1-.58,1.4L9.25,21ZM18.45,9,17,7.55Zm-12,3A5.31,5.31,0,0,0,4.9,8.1,5.31,5.31,0,0,0,1,6.5,5.31,5.31,0,0,0,4.9,4.9,5.31,5.31,0,0,0,6.5,1,5.31,5.31,0,0,0,8.1,4.9,5.31,5.31,0,0,0,12,6.5,5.46,5.46,0,0,0,6.5,12Z\"/>\n",
              "  </svg>\n",
              "    </button>\n",
              "    <script>\n",
              "      (() => {\n",
              "      const buttonEl =\n",
              "        document.querySelector('#id_df2a2d1f-b458-4020-add7-1bd8c0e9c4ae button.colab-df-generate');\n",
              "      buttonEl.style.display =\n",
              "        google.colab.kernel.accessAllowed ? 'block' : 'none';\n",
              "\n",
              "      buttonEl.onclick = () => {\n",
              "        google.colab.notebook.generateWithVariable('test_df');\n",
              "      }\n",
              "      })();\n",
              "    </script>\n",
              "  </div>\n",
              "\n",
              "    </div>\n",
              "  </div>\n"
            ],
            "application/vnd.google.colaboratory.intrinsic+json": {
              "type": "dataframe",
              "variable_name": "test_df"
            }
          },
          "metadata": {},
          "execution_count": 141
        }
      ]
    },
    {
      "cell_type": "code",
      "source": [
        "colums_not_reqd_test = ['num_special_chars','num_subdomains','has_https','suspicious_url','url']"
      ],
      "metadata": {
        "id": "mvLn1uJxSeiR"
      },
      "execution_count": null,
      "outputs": []
    },
    {
      "cell_type": "code",
      "source": [
        "test_df_cleaned = test_df.drop(columns=colums_not_reqd_test)\n",
        "test_df_cleaned.shape"
      ],
      "metadata": {
        "colab": {
          "base_uri": "https://localhost:8080/"
        },
        "id": "6_xNzOPTLXcF",
        "outputId": "4d6ae7c3-d9e6-476b-82d8-546aea6ea074"
      },
      "execution_count": null,
      "outputs": [
        {
          "output_type": "execute_result",
          "data": {
            "text/plain": [
              "(1, 27)"
            ]
          },
          "metadata": {},
          "execution_count": 150
        }
      ]
    },
    {
      "cell_type": "code",
      "source": [
        "text_url = scaler.transform(test_df_cleaned)"
      ],
      "metadata": {
        "id": "wbLCIl9VLrf8"
      },
      "execution_count": null,
      "outputs": []
    },
    {
      "cell_type": "code",
      "source": [
        "random_forest_prediction = rf.predict(text_url)\n",
        "print(\"Random Forest Prediction:\", random_forest_prediction)\n",
        "catboost_prediction = cat_model.predict(text_url)\n",
        "print(\"CatBoost Prediction:\", catboost_prediction)\n",
        "xgboost_prediction = xgb_model.predict(text_url)\n",
        "print(\"XGBoost Prediction:\", xgboost_prediction)\n",
        "lightgbm_prediction = lgb_model.predict(text_url)\n",
        "print(\"LightGBM Prediction:\", lightgbm_prediction)\n"
      ],
      "metadata": {
        "colab": {
          "base_uri": "https://localhost:8080/"
        },
        "id": "V2v4IoCfTkD7",
        "outputId": "8fbd3e4a-d6dc-4cbe-a6f8-d2a71cbb6db6"
      },
      "execution_count": null,
      "outputs": [
        {
          "output_type": "stream",
          "name": "stdout",
          "text": [
            "Random Forest Prediction: [0.]\n",
            "CatBoost Prediction: [0.]\n",
            "XGBoost Prediction: [0]\n",
            "LightGBM Prediction: [0.]\n"
          ]
        }
      ]
    },
    {
      "cell_type": "markdown",
      "metadata": {
        "id": "fgAAyiTwGcx3"
      },
      "source": [
        "#GNN"
      ]
    },
    {
      "cell_type": "code",
      "execution_count": null,
      "metadata": {
        "colab": {
          "base_uri": "https://localhost:8080/"
        },
        "id": "P-znM1xIGe7t",
        "outputId": "1687e347-8812-415f-8db6-fc0e43eb0f0f"
      },
      "outputs": [
        {
          "output_type": "stream",
          "name": "stdout",
          "text": [
            "Cloning into 'phishGNN'...\n",
            "remote: Enumerating objects: 724, done.\u001b[K\n",
            "remote: Counting objects: 100% (154/154), done.\u001b[K\n",
            "remote: Compressing objects: 100% (103/103), done.\u001b[K\n",
            "remote: Total 724 (delta 59), reused 127 (delta 46), pack-reused 570\u001b[K\n",
            "Receiving objects: 100% (724/724), 34.37 MiB | 19.06 MiB/s, done.\n",
            "Resolving deltas: 100% (318/318), done.\n"
          ]
        }
      ],
      "source": [
        "!git clone https://github.com/TristanBilot/phishGNN.git\n",
        "!cd phishGNN"
      ]
    },
    {
      "cell_type": "code",
      "source": [],
      "metadata": {
        "id": "gxjkf1sRmeGI"
      },
      "execution_count": null,
      "outputs": []
    },
    {
      "cell_type": "code",
      "execution_count": null,
      "metadata": {
        "colab": {
          "base_uri": "https://localhost:8080/"
        },
        "id": "prQZrVYZGuv6",
        "outputId": "061b288d-46d5-4fe8-f3f0-9060bcdd5954"
      },
      "outputs": [
        {
          "output_type": "stream",
          "name": "stdout",
          "text": [
            "The virtual environment was not created successfully because ensurepip is not\n",
            "available.  On Debian/Ubuntu systems, you need to install the python3-venv\n",
            "package using the following command.\n",
            "\n",
            "    apt install python3.10-venv\n",
            "\n",
            "You may need to use sudo with that command.  After installing the python3-venv\n",
            "package, recreate your virtual environment.\n",
            "\n",
            "Failing command: /content/venv/bin/python3\n",
            "\n",
            "/bin/bash: line 1: ./venv/bin/activate: No such file or directory\n",
            "Requirement already satisfied: wheel in /usr/local/lib/python3.10/dist-packages (0.43.0)\n",
            "\u001b[31mERROR: Could not open requirements file: [Errno 2] No such file or directory: 'requirements.txt'\u001b[0m\u001b[31m\n",
            "\u001b[0mLooking in links: https://data.pyg.org/whl/torch-1.12.0+cpu.html\n",
            "Collecting torch-scatter\n",
            "  Downloading torch_scatter-2.1.2.tar.gz (108 kB)\n",
            "\u001b[2K     \u001b[90m━━━━━━━━━━━━━━━━━━━━━━━━━━━━━━━━━━━━━━━━\u001b[0m \u001b[32m108.0/108.0 kB\u001b[0m \u001b[31m2.6 MB/s\u001b[0m eta \u001b[36m0:00:00\u001b[0m\n",
            "\u001b[?25h  Preparing metadata (setup.py) ... \u001b[?25l\u001b[?25hdone\n",
            "Collecting torch-sparse\n",
            "  Downloading torch_sparse-0.6.18.tar.gz (209 kB)\n",
            "\u001b[2K     \u001b[90m━━━━━━━━━━━━━━━━━━━━━━━━━━━━━━━━━━━━━━━━\u001b[0m \u001b[32m210.0/210.0 kB\u001b[0m \u001b[31m10.3 MB/s\u001b[0m eta \u001b[36m0:00:00\u001b[0m\n",
            "\u001b[?25h  Preparing metadata (setup.py) ... \u001b[?25l\u001b[?25hdone\n",
            "Collecting torch-cluster\n",
            "  Downloading torch_cluster-1.6.3.tar.gz (54 kB)\n",
            "\u001b[2K     \u001b[90m━━━━━━━━━━━━━━━━━━━━━━━━━━━━━━━━━━━━━━━━\u001b[0m \u001b[32m54.5/54.5 kB\u001b[0m \u001b[31m6.7 MB/s\u001b[0m eta \u001b[36m0:00:00\u001b[0m\n",
            "\u001b[?25h  Preparing metadata (setup.py) ... \u001b[?25l\u001b[?25hdone\n",
            "Collecting torch-spline-conv\n",
            "  Downloading torch_spline_conv-1.2.2.tar.gz (25 kB)\n",
            "  Preparing metadata (setup.py) ... \u001b[?25l\u001b[?25hdone\n",
            "Collecting torch-geometric\n",
            "  Downloading torch_geometric-2.5.3-py3-none-any.whl (1.1 MB)\n",
            "\u001b[2K     \u001b[90m━━━━━━━━━━━━━━━━━━━━━━━━━━━━━━━━━━━━━━━━\u001b[0m \u001b[32m1.1/1.1 MB\u001b[0m \u001b[31m15.1 MB/s\u001b[0m eta \u001b[36m0:00:00\u001b[0m\n",
            "\u001b[?25hRequirement already satisfied: scipy in /usr/local/lib/python3.10/dist-packages (from torch-sparse) (1.11.4)\n",
            "Requirement already satisfied: tqdm in /usr/local/lib/python3.10/dist-packages (from torch-geometric) (4.66.4)\n",
            "Requirement already satisfied: numpy in /usr/local/lib/python3.10/dist-packages (from torch-geometric) (1.25.2)\n",
            "Requirement already satisfied: fsspec in /usr/local/lib/python3.10/dist-packages (from torch-geometric) (2023.6.0)\n",
            "Requirement already satisfied: jinja2 in /usr/local/lib/python3.10/dist-packages (from torch-geometric) (3.1.4)\n",
            "Requirement already satisfied: aiohttp in /usr/local/lib/python3.10/dist-packages (from torch-geometric) (3.9.5)\n",
            "Requirement already satisfied: requests in /usr/local/lib/python3.10/dist-packages (from torch-geometric) (2.31.0)\n",
            "Requirement already satisfied: pyparsing in /usr/local/lib/python3.10/dist-packages (from torch-geometric) (3.1.2)\n",
            "Requirement already satisfied: scikit-learn in /usr/local/lib/python3.10/dist-packages (from torch-geometric) (1.2.2)\n",
            "Requirement already satisfied: psutil>=5.8.0 in /usr/local/lib/python3.10/dist-packages (from torch-geometric) (5.9.5)\n",
            "Requirement already satisfied: aiosignal>=1.1.2 in /usr/local/lib/python3.10/dist-packages (from aiohttp->torch-geometric) (1.3.1)\n",
            "Requirement already satisfied: attrs>=17.3.0 in /usr/local/lib/python3.10/dist-packages (from aiohttp->torch-geometric) (23.2.0)\n",
            "Requirement already satisfied: frozenlist>=1.1.1 in /usr/local/lib/python3.10/dist-packages (from aiohttp->torch-geometric) (1.4.1)\n",
            "Requirement already satisfied: multidict<7.0,>=4.5 in /usr/local/lib/python3.10/dist-packages (from aiohttp->torch-geometric) (6.0.5)\n",
            "Requirement already satisfied: yarl<2.0,>=1.0 in /usr/local/lib/python3.10/dist-packages (from aiohttp->torch-geometric) (1.9.4)\n",
            "Requirement already satisfied: async-timeout<5.0,>=4.0 in /usr/local/lib/python3.10/dist-packages (from aiohttp->torch-geometric) (4.0.3)\n",
            "Requirement already satisfied: MarkupSafe>=2.0 in /usr/local/lib/python3.10/dist-packages (from jinja2->torch-geometric) (2.1.5)\n",
            "Requirement already satisfied: charset-normalizer<4,>=2 in /usr/local/lib/python3.10/dist-packages (from requests->torch-geometric) (3.3.2)\n",
            "Requirement already satisfied: idna<4,>=2.5 in /usr/local/lib/python3.10/dist-packages (from requests->torch-geometric) (3.7)\n",
            "Requirement already satisfied: urllib3<3,>=1.21.1 in /usr/local/lib/python3.10/dist-packages (from requests->torch-geometric) (2.0.7)\n",
            "Requirement already satisfied: certifi>=2017.4.17 in /usr/local/lib/python3.10/dist-packages (from requests->torch-geometric) (2024.7.4)\n",
            "Requirement already satisfied: joblib>=1.1.1 in /usr/local/lib/python3.10/dist-packages (from scikit-learn->torch-geometric) (1.4.2)\n",
            "Requirement already satisfied: threadpoolctl>=2.0.0 in /usr/local/lib/python3.10/dist-packages (from scikit-learn->torch-geometric) (3.5.0)\n",
            "Building wheels for collected packages: torch-scatter, torch-sparse, torch-cluster, torch-spline-conv\n",
            "  Building wheel for torch-scatter (setup.py) ... \u001b[?25l\u001b[?25hdone\n",
            "  Created wheel for torch-scatter: filename=torch_scatter-2.1.2-cp310-cp310-linux_x86_64.whl size=507268 sha256=06044403e7114c80af10c9427f0c2619e5ba5c046d88d249ecd8ee087c576481\n",
            "  Stored in directory: /root/.cache/pip/wheels/92/f1/2b/3b46d54b134259f58c8363568569053248040859b1a145b3ce\n",
            "  Building wheel for torch-sparse (setup.py) ... \u001b[?25l\u001b[?25hdone\n",
            "  Created wheel for torch-sparse: filename=torch_sparse-0.6.18-cp310-cp310-linux_x86_64.whl size=1092566 sha256=40d227dc79b4706f54fcd445fcfbac5291e09c20c330ab6da4c4ae17805d6311\n",
            "  Stored in directory: /root/.cache/pip/wheels/c9/dd/0f/a6a16f9f3b0236733d257b4b4ea91b548b984a341ed3b8f38c\n",
            "  Building wheel for torch-cluster (setup.py) ... \u001b[?25l\u001b[?25hcanceled\n",
            "\u001b[31mERROR: Operation cancelled by user\u001b[0m\u001b[31m\n",
            "\u001b[0mTraceback (most recent call last):\n",
            "  File \"/usr/local/lib/python3.10/dist-packages/pip/_internal/cli/base_command.py\", line 169, in exc_logging_wrapper\n",
            "    status = run_func(*args)\n",
            "  File \"/usr/local/lib/python3.10/dist-packages/pip/_internal/cli/req_command.py\", line 242, in wrapper\n",
            "    return func(self, options, args)\n",
            "  File \"/usr/local/lib/python3.10/dist-packages/pip/_internal/commands/install.py\", line 417, in run\n",
            "    _, build_failures = build(\n",
            "  File \"/usr/local/lib/python3.10/dist-packages/pip/_internal/wheel_builder.py\", line 320, in build\n",
            "    wheel_file = _build_one(\n",
            "  File \"/usr/local/lib/python3.10/dist-packages/pip/_internal/wheel_builder.py\", line 194, in _build_one\n",
            "    wheel_path = _build_one_inside_env(\n",
            "  File \"/usr/local/lib/python3.10/dist-packages/pip/_internal/wheel_builder.py\", line 241, in _build_one_inside_env\n",
            "    wheel_path = build_wheel_legacy(\n",
            "  File \"/usr/local/lib/python3.10/dist-packages/pip/_internal/operations/build/wheel_legacy.py\", line 83, in build_wheel_legacy\n",
            "    output = call_subprocess(\n",
            "  File \"/usr/local/lib/python3.10/dist-packages/pip/_internal/utils/subprocess.py\", line 166, in call_subprocess\n",
            "    line: str = proc.stdout.readline()\n",
            "  File \"/usr/lib/python3.10/codecs.py\", line 319, in decode\n",
            "    def decode(self, input, final=False):\n",
            "KeyboardInterrupt\n",
            "\n",
            "During handling of the above exception, another exception occurred:\n",
            "\n",
            "Traceback (most recent call last):\n",
            "  File \"/usr/local/bin/pip3\", line 8, in <module>\n",
            "    sys.exit(main())\n",
            "  File \"/usr/local/lib/python3.10/dist-packages/pip/_internal/cli/main.py\", line 79, in main\n",
            "    return command.main(cmd_args)\n",
            "  File \"/usr/local/lib/python3.10/dist-packages/pip/_internal/cli/base_command.py\", line 101, in main\n",
            "    return self._main(args)\n",
            "  File \"/usr/local/lib/python3.10/dist-packages/pip/_internal/cli/base_command.py\", line 223, in _main\n",
            "    return run(options, args)\n",
            "  File \"/usr/local/lib/python3.10/dist-packages/pip/_internal/cli/base_command.py\", line 207, in exc_logging_wrapper\n",
            "    logger.debug(\"Exception information:\", exc_info=True)\n",
            "  File \"/usr/lib/python3.10/logging/__init__.py\", line 1465, in debug\n",
            "    self._log(DEBUG, msg, args, **kwargs)\n",
            "  File \"/usr/lib/python3.10/logging/__init__.py\", line 1624, in _log\n",
            "    self.handle(record)\n",
            "  File \"/usr/lib/python3.10/logging/__init__.py\", line 1634, in handle\n",
            "    self.callHandlers(record)\n",
            "  File \"/usr/lib/python3.10/logging/__init__.py\", line 1696, in callHandlers\n",
            "    hdlr.handle(record)\n",
            "  File \"/usr/lib/python3.10/logging/__init__.py\", line 968, in handle\n",
            "    self.emit(record)\n",
            "  File \"/usr/lib/python3.10/logging/handlers.py\", line 75, in emit\n",
            "    logging.FileHandler.emit(self, record)\n",
            "  File \"/usr/lib/python3.10/logging/__init__.py\", line 1218, in emit\n",
            "    StreamHandler.emit(self, record)\n",
            "  File \"/usr/lib/python3.10/logging/__init__.py\", line 1100, in emit\n",
            "    msg = self.format(record)\n",
            "  File \"/usr/lib/python3.10/logging/__init__.py\", line 943, in format\n",
            "    return fmt.format(record)\n",
            "  File \"/usr/local/lib/python3.10/dist-packages/pip/_internal/utils/logging.py\", line 112, in format\n",
            "    formatted = super().format(record)\n",
            "  File \"/usr/lib/python3.10/logging/__init__.py\", line 686, in format\n",
            "    record.exc_text = self.formatException(record.exc_info)\n",
            "  File \"/usr/lib/python3.10/logging/__init__.py\", line 636, in formatException\n",
            "    traceback.print_exception(ei[0], ei[1], tb, None, sio)\n",
            "  File \"/usr/lib/python3.10/traceback.py\", line 119, in print_exception\n",
            "    te = TracebackException(type(value), value, tb, limit=limit, compact=True)\n",
            "  File \"/usr/lib/python3.10/traceback.py\", line 502, in __init__\n",
            "    self.stack = StackSummary.extract(\n",
            "  File \"/usr/lib/python3.10/traceback.py\", line 383, in extract\n",
            "    f.line\n",
            "  File \"/usr/lib/python3.10/traceback.py\", line 306, in line\n",
            "    self._line = linecache.getline(self.filename, self.lineno)\n",
            "  File \"/usr/lib/python3.10/linecache.py\", line 30, in getline\n",
            "    lines = getlines(filename, module_globals)\n",
            "  File \"/usr/lib/python3.10/linecache.py\", line 46, in getlines\n",
            "    return updatecache(filename, module_globals)\n",
            "  File \"/usr/lib/python3.10/linecache.py\", line 136, in updatecache\n",
            "    with tokenize.open(fullname) as fp:\n",
            "  File \"/usr/lib/python3.10/tokenize.py\", line 396, in open\n",
            "    encoding, lines = detect_encoding(buffer.readline)\n",
            "  File \"/usr/lib/python3.10/tokenize.py\", line 365, in detect_encoding\n",
            "    first = read_or_stop()\n",
            "  File \"/usr/lib/python3.10/tokenize.py\", line 323, in read_or_stop\n",
            "    return readline()\n",
            "KeyboardInterrupt\n",
            "^C\n"
          ]
        }
      ],
      "source": [
        "!python3 -m venv venv\n",
        "!./venv/bin/activate\n",
        "!pip install wheel\n",
        "!pip install -r requirements.txt\n",
        "!pip install torch-scatter torch-sparse torch-cluster torch-spline-conv torch-geometric -f https://data.pyg.org/whl/torch-1.12.0+cpu.html # for cpu\n"
      ]
    },
    {
      "cell_type": "code",
      "execution_count": null,
      "metadata": {
        "id": "16NqN9QQHfMZ",
        "colab": {
          "base_uri": "https://localhost:8080/"
        },
        "outputId": "1c2e1cf4-bcd0-4370-db69-a50b73fe102f"
      },
      "outputs": [
        {
          "output_type": "stream",
          "name": "stdout",
          "text": [
            "/bin/bash: line 1: ./install_dataset.sh: No such file or directory\n"
          ]
        }
      ],
      "source": [
        "!./install_dataset.sh"
      ]
    },
    {
      "cell_type": "code",
      "execution_count": null,
      "metadata": {
        "id": "jW8Dne26HjzV",
        "colab": {
          "base_uri": "https://localhost:8080/"
        },
        "outputId": "15a8284c-216b-48e7-b33a-f23cd99f86fa"
      },
      "outputs": [
        {
          "output_type": "stream",
          "name": "stdout",
          "text": [
            "python3: can't open file '/content/phishGNN/training.py': [Errno 2] No such file or directory\n"
          ]
        }
      ],
      "source": [
        "!python phishGNN/training.py"
      ]
    },
    {
      "cell_type": "code",
      "execution_count": null,
      "metadata": {
        "id": "wmLCLJLjHjjw",
        "colab": {
          "base_uri": "https://localhost:8080/"
        },
        "outputId": "9a091fe4-f2f3-4fde-c4fe-8d442f970d29"
      },
      "outputs": [
        {
          "output_type": "stream",
          "name": "stdout",
          "text": [
            "python3: can't open file '/content/phishGNN/training.py': [Errno 2] No such file or directory\n"
          ]
        }
      ],
      "source": [
        "!python phishGNN/training.py --plot-embeddings"
      ]
    },
    {
      "cell_type": "code",
      "execution_count": null,
      "metadata": {
        "id": "F323zw4LIIpq",
        "colab": {
          "base_uri": "https://localhost:8080/"
        },
        "outputId": "1c4cc1f2-3748-47cc-a930-0ad11f806679"
      },
      "outputs": [
        {
          "output_type": "stream",
          "name": "stdout",
          "text": [
            "python3: can't open file '/content/phishGNN/visualization.py': [Errno 2] No such file or directory\n"
          ]
        }
      ],
      "source": [
        "!python phishGNN/visualization.py"
      ]
    },
    {
      "cell_type": "markdown",
      "source": [
        "#FINAL DATASET"
      ],
      "metadata": {
        "id": "jz_mUJ5rIP0p"
      }
    },
    {
      "cell_type": "code",
      "source": [
        "from google.colab import drive\n",
        "import os"
      ],
      "metadata": {
        "id": "h-oZmvlpIWKk"
      },
      "execution_count": null,
      "outputs": []
    },
    {
      "cell_type": "code",
      "source": [
        "\n",
        "drive.mount('/content/drive')\n",
        "\n",
        "# Path to the shared folder shortcut\n",
        "shared_folder_path = '/content/drive/My Drive/https://drive.google.com/file/d/1Pqw4crM8jP6sTNwrmmA-ysEkyqVFZPz1/view?usp=drive_link'\n",
        "\n",
        "# List the contents of the shared folder\n",
        "print(os.listdir(shared_folder_path))"
      ],
      "metadata": {
        "id": "_42xbGYKIUUI"
      },
      "execution_count": null,
      "outputs": []
    }
  ],
  "metadata": {
    "accelerator": "GPU",
    "colab": {
      "gpuType": "T4",
      "provenance": []
    },
    "kernelspec": {
      "display_name": "Python 3",
      "name": "python3"
    },
    "language_info": {
      "name": "python"
    }
  },
  "nbformat": 4,
  "nbformat_minor": 0
}